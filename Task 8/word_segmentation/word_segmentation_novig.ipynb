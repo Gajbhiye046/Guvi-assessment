{
 "cells": [
  {
   "cell_type": "code",
   "execution_count": 15,
   "id": "0cead36a",
   "metadata": {},
   "outputs": [],
   "source": [
    "import re, string, random, glob, operator, heapq\n",
    "from collections import defaultdict\n",
    "from math import log10\n",
    "from functools import reduce\n",
    "\n",
    "def memo(f):\n",
    "    \"Memoize function f.\"\n",
    "    table = {}\n",
    "    def fmemo(*args):\n",
    "        if args not in table:\n",
    "            table[args] = f(*args)\n",
    "        return table[args]\n",
    "    fmemo.memo = table\n",
    "    return fmemo\n",
    "@memo\n",
    "def segment(text):\n",
    "    \"Return a list of words that is the best segmentation of text.\"\n",
    "    if not text: return []\n",
    "    candidates = ([first]+segment(rem) for first,rem in splits(text))\n",
    "    return max(candidates, key=Pwords)\n",
    "\n",
    "def splits(text, L=20):\n",
    "    \"Return a list of all possible (first, rem) pairs, len(first)<=L.\"\n",
    "    return [(text[:i+1], text[i+1:])\n",
    "    for i in range(min(len(text), L))]\n",
    "\n",
    "def Pwords(words):\n",
    "    \"The Naive Bayes probability of a sequence of words.\"\n",
    "    return product(Pw(w) for w in words)\n",
    "\n",
    "def product(nums):\n",
    "    \"Return the product of a sequence of numbers.\"\n",
    "    return reduce(operator.mul, nums, 1)\n",
    "\n",
    "class Pdist(dict):\n",
    "    \"A probability distribution estimated from counts in datafile.\"\n",
    "    def __init__(self, data, N=None, missingfn=None):\n",
    "        for key,count in data:\n",
    "            self[key] = self.get(key, 0) + int(count)\n",
    "            self.N = float(N or sum(self.itervalues( )))\n",
    "            self.missingfn = missingfn or (lambda k, N: 1./N)\n",
    "    def __call__(self, key):\n",
    "        if key in self: return self[key]/self.N\n",
    "        else: return self.missingfn(key, self.N)\n",
    "        \n",
    "def datafile(name, sep='\\t'):\n",
    "    \"Read key,value pairs from file.\"\n",
    "    for line in open(name):\n",
    "        yield line.split(sep)\n",
    "    \n",
    "def avoid_long_words(word, N):\n",
    "    \"Estimate the probability of an unknown word.\"\n",
    "    return 10./(N * 10**len(word))\n",
    "\n",
    "N = 1024908267229 ## Number of tokens in corpus\n",
    "Pw = Pdist(datafile('count_1w.txt'), N, avoid_long_words)"
   ]
  },
  {
   "cell_type": "code",
   "execution_count": 17,
   "id": "5397e2be",
   "metadata": {},
   "outputs": [
    {
     "data": {
      "text/plain": [
       "['choose', 'spain']"
      ]
     },
     "execution_count": 17,
     "metadata": {},
     "output_type": "execute_result"
    }
   ],
   "source": [
    "segment('choosespain')"
   ]
  },
  {
   "cell_type": "code",
   "execution_count": 18,
   "id": "3cb6e160",
   "metadata": {},
   "outputs": [
    {
     "data": {
      "text/plain": [
       "['as',\n",
       " 'gregor',\n",
       " 'samsa',\n",
       " 'awoke',\n",
       " 'one',\n",
       " 'morning',\n",
       " 'from',\n",
       " 'uneasy',\n",
       " 'dreams',\n",
       " 'he',\n",
       " 'found',\n",
       " 'himself',\n",
       " 'transformed',\n",
       " 'in',\n",
       " 'his',\n",
       " 'bed',\n",
       " 'into',\n",
       " 'a',\n",
       " 'gigantic',\n",
       " 'insect']"
      ]
     },
     "execution_count": 18,
     "metadata": {},
     "output_type": "execute_result"
    }
   ],
   "source": [
    "segment('asgregorsamsaawokeonemorningfromuneasydreamshefoundhimselftransformed\\\n",
    "inhisbedintoagiganticinsect')"
   ]
  },
  {
   "cell_type": "code",
   "execution_count": null,
   "id": "0df1cf6d",
   "metadata": {},
   "outputs": [],
   "source": []
  }
 ],
 "metadata": {
  "kernelspec": {
   "display_name": "Python 3 (ipykernel)",
   "language": "python",
   "name": "python3"
  },
  "language_info": {
   "codemirror_mode": {
    "name": "ipython",
    "version": 3
   },
   "file_extension": ".py",
   "mimetype": "text/x-python",
   "name": "python",
   "nbconvert_exporter": "python",
   "pygments_lexer": "ipython3",
   "version": "3.9.12"
  }
 },
 "nbformat": 4,
 "nbformat_minor": 5
}
