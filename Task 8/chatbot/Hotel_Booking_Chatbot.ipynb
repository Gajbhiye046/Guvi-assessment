{
 "cells": [
  {
   "cell_type": "markdown",
   "id": "744a0118",
   "metadata": {},
   "source": [
    "## Task-4\n",
    "Create a chatbot for Hotel Management to Book Rooms \n",
    "\n",
    "Details collected from : \n",
    "Customer Name, Mobile Number, Address, ID proof, and Room Type and date of arrival and departure date. Keep some eligibility to Book the Room .\n",
    "All through voice to text classifications\n"
   ]
  },
  {
   "cell_type": "code",
   "execution_count": 5,
   "id": "d6f0f152",
   "metadata": {},
   "outputs": [
    {
     "name": "stdout",
     "output_type": "stream",
     "text": [
      "Requirement already satisfied: SpeechRecognition in c:\\users\\lenovo\\anaconda3\\lib\\site-packages (3.8.1)\n"
     ]
    }
   ],
   "source": [
    "! pip install SpeechRecognition"
   ]
  },
  {
   "cell_type": "code",
   "execution_count": 6,
   "id": "8bdf936c",
   "metadata": {},
   "outputs": [],
   "source": [
    "import speech_recognition as sr"
   ]
  },
  {
   "cell_type": "code",
   "execution_count": 7,
   "id": "3417f333",
   "metadata": {},
   "outputs": [],
   "source": [
    "r = sr.Recognizer()"
   ]
  },
  {
   "cell_type": "code",
   "execution_count": 8,
   "id": "c0ee51b8",
   "metadata": {},
   "outputs": [
    {
     "ename": "TypeError",
     "evalue": "recognize_google() missing 1 required positional argument: 'audio_data'",
     "output_type": "error",
     "traceback": [
      "\u001b[1;31m---------------------------------------------------------------------------\u001b[0m",
      "\u001b[1;31mTypeError\u001b[0m                                 Traceback (most recent call last)",
      "Input \u001b[1;32mIn [8]\u001b[0m, in \u001b[0;36m<cell line: 1>\u001b[1;34m()\u001b[0m\n\u001b[1;32m----> 1\u001b[0m \u001b[43mr\u001b[49m\u001b[38;5;241;43m.\u001b[39;49m\u001b[43mrecognize_google\u001b[49m\u001b[43m(\u001b[49m\u001b[43m)\u001b[49m\n",
      "\u001b[1;31mTypeError\u001b[0m: recognize_google() missing 1 required positional argument: 'audio_data'"
     ]
    }
   ],
   "source": [
    "r.recognize_google()"
   ]
  },
  {
   "cell_type": "code",
   "execution_count": 9,
   "id": "7b273762",
   "metadata": {},
   "outputs": [],
   "source": [
    "harvard = sr.AudioFile('harvard.wav')\n",
    "with harvard as source:\n",
    "    audio = r.record(source)"
   ]
  },
  {
   "cell_type": "code",
   "execution_count": 10,
   "id": "d6a45be0",
   "metadata": {},
   "outputs": [
    {
     "data": {
      "text/plain": [
       "speech_recognition.AudioData"
      ]
     },
     "execution_count": 10,
     "metadata": {},
     "output_type": "execute_result"
    }
   ],
   "source": [
    "type(audio)"
   ]
  },
  {
   "cell_type": "code",
   "execution_count": 11,
   "id": "50b7c151",
   "metadata": {},
   "outputs": [
    {
     "data": {
      "text/plain": [
       "'the still smell of old beer drinkers it takes hi to bring out the order I called it yourself invest a salt a kotess find the M tacos Al pastor my favourite is just for food is Bihar cross bun'"
      ]
     },
     "execution_count": 11,
     "metadata": {},
     "output_type": "execute_result"
    }
   ],
   "source": [
    "r.recognize_google(audio)"
   ]
  },
  {
   "cell_type": "code",
   "execution_count": 12,
   "id": "0e675e8c",
   "metadata": {},
   "outputs": [
    {
     "data": {
      "text/plain": [
       "'smell during periods'"
      ]
     },
     "execution_count": 12,
     "metadata": {},
     "output_type": "execute_result"
    }
   ],
   "source": [
    "jackhammer = sr.AudioFile('jackhammer.wav')\n",
    "with jackhammer as source:\n",
    "     audio = r.record(source)\n",
    "\n",
    "r.recognize_google(audio)"
   ]
  },
  {
   "cell_type": "code",
   "execution_count": 13,
   "id": "96d18dc0",
   "metadata": {},
   "outputs": [],
   "source": [
    "with jackhammer as source:\n",
    "    r.adjust_for_ambient_noise(source,duration=0.7)\n",
    "    audio = r.record(source)"
   ]
  },
  {
   "cell_type": "code",
   "execution_count": 14,
   "id": "50aaae87",
   "metadata": {},
   "outputs": [
    {
     "data": {
      "text/plain": [
       "'smell during periods'"
      ]
     },
     "execution_count": 14,
     "metadata": {},
     "output_type": "execute_result"
    }
   ],
   "source": [
    " r.recognize_google(audio)"
   ]
  },
  {
   "cell_type": "markdown",
   "id": "4873b3d5",
   "metadata": {},
   "source": [
    "### Working with microphone"
   ]
  },
  {
   "cell_type": "code",
   "execution_count": 15,
   "id": "3fe857f7",
   "metadata": {},
   "outputs": [
    {
     "name": "stdout",
     "output_type": "stream",
     "text": [
      "Requirement already satisfied: PyAudio in c:\\users\\lenovo\\anaconda3\\lib\\site-packages (0.2.12)\n",
      "Note: you may need to restart the kernel to use updated packages.\n"
     ]
    }
   ],
   "source": [
    "pip install PyAudio"
   ]
  },
  {
   "cell_type": "code",
   "execution_count": 16,
   "id": "7db4e7be",
   "metadata": {},
   "outputs": [],
   "source": [
    "import speech_recognition as sr\n",
    "r = sr.Recognizer()"
   ]
  },
  {
   "cell_type": "code",
   "execution_count": 17,
   "id": "713f4683",
   "metadata": {},
   "outputs": [],
   "source": [
    "mic = sr.Microphone()"
   ]
  },
  {
   "cell_type": "code",
   "execution_count": 18,
   "id": "6acf342d",
   "metadata": {},
   "outputs": [],
   "source": [
    "# Following commands provides us with the list of microphone devices\n",
    "#sr.Microphone.list_microphone_names()"
   ]
  },
  {
   "cell_type": "code",
   "execution_count": 19,
   "id": "0dc7a3b2",
   "metadata": {},
   "outputs": [],
   "source": [
    "mic = sr.Microphone(device_index=1)"
   ]
  },
  {
   "cell_type": "code",
   "execution_count": 20,
   "id": "4df0e4f4",
   "metadata": {},
   "outputs": [],
   "source": [
    "with mic as source:\n",
    "     audio = r.listen(source)"
   ]
  },
  {
   "cell_type": "code",
   "execution_count": 21,
   "id": "27b90d5d",
   "metadata": {},
   "outputs": [
    {
     "data": {
      "text/plain": [
       "'Abhishek how are you doing'"
      ]
     },
     "execution_count": 21,
     "metadata": {},
     "output_type": "execute_result"
    }
   ],
   "source": [
    "r.recognize_google(audio)"
   ]
  },
  {
   "cell_type": "code",
   "execution_count": 24,
   "id": "233bc629",
   "metadata": {},
   "outputs": [],
   "source": [
    "# to handle ambient noise\n",
    "with mic as source:\n",
    "    r.adjust_for_ambient_noise(source,duration =0.5)\n",
    "    audio = r.listen(source)"
   ]
  },
  {
   "cell_type": "code",
   "execution_count": 25,
   "id": "12b876da",
   "metadata": {},
   "outputs": [
    {
     "data": {
      "text/plain": [
       "'I am Abhishek how are you doing'"
      ]
     },
     "execution_count": 25,
     "metadata": {},
     "output_type": "execute_result"
    }
   ],
   "source": [
    "r.recognize_google(audio)"
   ]
  },
  {
   "cell_type": "code",
   "execution_count": 4,
   "id": "4657854f",
   "metadata": {},
   "outputs": [
    {
     "name": "stdout",
     "output_type": "stream",
     "text": [
      "Please provide us with your personal details for Hotel room booking respectively :\n",
      "Your Name, Mobile Number, Address, ID proof,\n",
      "Room Type ,date of arrival and departure date\n",
      "\n",
      "Please provide Details . Sir/Madam!\n",
      "Customer Name : \n",
      "You said: Abhishek\n",
      "Mobile Number : \n",
      "You said: 9950 60 70 80\n",
      "Address : \n",
      "You said: Hollywood 363\n",
      "ID proof : \n",
      "You said: 14 M 052\n",
      "Room Type : \n",
      "You said: Lux\n",
      "date of arrival : \n",
      "You said: 20 November\n",
      "departure date : \n",
      "You said: 24 November\n",
      "Thank you for making reservations here\n",
      "Your reservation details\n",
      "Customer Name : abhishek\n",
      "Mobile Number : 9950 60 70 80\n",
      "Address : hollywood 363\n",
      "ID proof : 14 m 052\n",
      "Room Type : lux\n",
      "date of arrival : 20 november\n",
      "departure date : 24 november\n"
     ]
    }
   ],
   "source": [
    "import random\n",
    "import time\n",
    "\n",
    "import speech_recognition as sr\n",
    "\n",
    "\n",
    "def recognize_speech_from_mic(recognizer, microphone):\n",
    "    \"\"\"Transcribe speech from recorded from `microphone`.\n",
    "\n",
    "    Returns a dictionary with three keys:\n",
    "    \"success\": a boolean indicating whether or not the API request was\n",
    "               successful\n",
    "    \"error\":   `None` if no error occured, otherwise a string containing\n",
    "               an error message if the API could not be reached or\n",
    "               speech was unrecognizable\n",
    "    \"transcription\": `None` if speech could not be transcribed,\n",
    "               otherwise a string containing the transcribed text\n",
    "    \"\"\"\n",
    "    # check that recognizer and microphone arguments are appropriate type\n",
    "    if not isinstance(recognizer, sr.Recognizer):\n",
    "        raise TypeError(\"`recognizer` must be `Recognizer` instance\")\n",
    "\n",
    "    if not isinstance(microphone, sr.Microphone):\n",
    "        raise TypeError(\"`microphone` must be `Microphone` instance\")\n",
    "\n",
    "    # adjust the recognizer sensitivity to ambient noise and record audio\n",
    "    # from the microphone\n",
    "    with microphone as source:\n",
    "        recognizer.adjust_for_ambient_noise(source)\n",
    "        audio = recognizer.listen(source)\n",
    "\n",
    "    # set up the response object\n",
    "    response = {\n",
    "        \"success\": True,\n",
    "        \"error\": None,\n",
    "        \"transcription\": None\n",
    "    }\n",
    "\n",
    "    # try recognizing the speech in the recording\n",
    "    # if a RequestError or UnknownValueError exception is caught,\n",
    "    #     update the response object accordingly\n",
    "    try:\n",
    "        response[\"transcription\"] = recognizer.recognize_google(audio)\n",
    "    except sr.RequestError:\n",
    "        # API was unreachable or unresponsive\n",
    "        response[\"success\"] = False\n",
    "        response[\"error\"] = \"API unavailable\"\n",
    "    except sr.UnknownValueError:\n",
    "        # speech was unintelligible\n",
    "        response[\"error\"] = \"Unable to recognize speech\"\n",
    "\n",
    "    return response\n",
    "\n",
    "\n",
    "if __name__ == \"__main__\":\n",
    "    # set the list of words, maxnumber of guesses, and prompt limit\n",
    "    list_items =['Customer Name', 'Mobile Number', 'Address', 'ID proof','Room Type','date of arrival','departure date']\n",
    "    PROMPT_LIMIT = 5\n",
    "\n",
    "    # create recognizer and mic instances\n",
    "    recognizer = sr.Recognizer()\n",
    "    microphone = sr.Microphone()\n",
    "\n",
    "    # format the instructions string\n",
    "    instructions = (\n",
    "        \"Please provide us with your personal details for Hotel room booking respectively :\\n\"\n",
    "        \"Your Name, Mobile Number, Address, ID proof,\\n\"\n",
    "        \"Room Type ,date of arrival and departure date\\n\"\n",
    "    )\n",
    "\n",
    "    # show instructions and wait 3 seconds before starting the game\n",
    "    print(instructions)\n",
    "    time.sleep(3)\n",
    "    \n",
    "    keys = ['Customer Name', 'Mobile Number', 'Address', 'ID proof','Room Type','date of arrival','departure date'] \n",
    "    User_details_dict =  dict.fromkeys(keys)\n",
    "    User_details_list =[]\n",
    "    \n",
    "    print('Please provide Details . Sir/Madam!')\n",
    "    for i in range(len(list_items)):\n",
    "        # get the personal details from the user\n",
    "        # if a transcription is returned, break out of the loop and\n",
    "        #     continue\n",
    "        # if no transcription returned and API request failed, break\n",
    "        #     loop and continue\n",
    "        # if API request succeeded but no transcription was returned,\n",
    "        #     re-prompt the user to say their guess again. Do this up\n",
    "        #     to PROMPT_LIMIT times\n",
    "       \n",
    "        for j in range(PROMPT_LIMIT):\n",
    "            print('{} : '.format(list_items[i]))\n",
    "            info = recognize_speech_from_mic(recognizer, microphone)\n",
    "            if info[\"transcription\"]:\n",
    "                break\n",
    "            if not info[\"success\"]:\n",
    "                break\n",
    "            print(\"I didn't catch that. What did you say?\\n\")\n",
    "\n",
    "        # if there was an error, stop the game\n",
    "        if info[\"error\"]:\n",
    "            print(\"ERROR: {}\".format(guess[\"error\"]))\n",
    "            break\n",
    "\n",
    "        # show the user the transcription\n",
    "        print(\"You said: {}\".format(info[\"transcription\"]))\n",
    "\n",
    "        # determine if guess is correct and if any attempts remain\n",
    "        User_details_list.append(info[\"transcription\"].lower())\n",
    "\n",
    "# Assign values to initialized dictionary keys\n",
    "# using dict() + zip()\n",
    "res = dict(zip(User_details_dict, User_details_list))\n",
    "# determine if the customer want's luxury room or not\n",
    "# if not, decline to make reservation\n",
    "# else , continue making reservation for customer\n",
    "if res['Room Type'].lower() == 'luxury' :\n",
    "    print(\"Sorry, hotel is fully booked, try booking luxury suite \")\n",
    "else:\n",
    "    print('Thank you for making reservations here')\n",
    "    print('Your reservation details')\n",
    "    for key,value in res.items():\n",
    "        print(key, ':', value)"
   ]
  },
  {
   "cell_type": "code",
   "execution_count": null,
   "id": "a33d9874",
   "metadata": {},
   "outputs": [],
   "source": []
  },
  {
   "cell_type": "code",
   "execution_count": null,
   "id": "872b937e",
   "metadata": {},
   "outputs": [],
   "source": []
  }
 ],
 "metadata": {
  "kernelspec": {
   "display_name": "Python 3 (ipykernel)",
   "language": "python",
   "name": "python3"
  },
  "language_info": {
   "codemirror_mode": {
    "name": "ipython",
    "version": 3
   },
   "file_extension": ".py",
   "mimetype": "text/x-python",
   "name": "python",
   "nbconvert_exporter": "python",
   "pygments_lexer": "ipython3",
   "version": "3.9.12"
  }
 },
 "nbformat": 4,
 "nbformat_minor": 5
}
