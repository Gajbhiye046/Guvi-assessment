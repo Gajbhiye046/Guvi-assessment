{
 "cells": [
  {
   "cell_type": "markdown",
   "id": "86781dc7",
   "metadata": {},
   "source": [
    "## Task-1\n",
    " You need to translate each word or sentence from English to Spanish, French and German \n"
   ]
  },
  {
   "cell_type": "markdown",
   "id": "0eb28ee0",
   "metadata": {},
   "source": [
    "## German to English Translation : "
   ]
  },
  {
   "cell_type": "markdown",
   "id": "4baa9046",
   "metadata": {},
   "source": [
    "### Text data Preparation"
   ]
  },
  {
   "cell_type": "code",
   "execution_count": 14,
   "id": "fd2b6021",
   "metadata": {},
   "outputs": [],
   "source": [
    "import string \n",
    "import re \n",
    "from pickle import dump \n",
    "from unicodedata import normalize \n",
    "from numpy import array\n",
    "# load doc into memory \n",
    "def load_doc(filename): \n",
    "    # open the file as read only \n",
    "    file = open(filename, mode= 'rt' , encoding = 'utf-8' )\n",
    "    # read all text \n",
    "    text = file.read() \n",
    "    # close the file \n",
    "    file.close() \n",
    "    return text\n",
    "# split a loaded document into sentences \n",
    "def to_pairs(doc): \n",
    "    lines = doc.strip().split('\\n' ) \n",
    "    pairs = [line.split('\\t') for line in lines] \n",
    "    return pairs\n",
    "# clean a list of lines \n",
    "def clean_pairs(lines): \n",
    "    cleaned = list() \n",
    "    # prepare regex for char filtering \n",
    "    re_punc = re.compile('[%s]' % re.escape(string.punctuation)) \n",
    "    re_print = re.compile('[^%s]' % re.escape(string.printable)) \n",
    "    for pair in lines: \n",
    "        clean_pair = list() \n",
    "        for line in pair: \n",
    "            # normalize unicode characters \n",
    "            line = normalize('NFD' , line).encode('ascii' , 'ignore' ) \n",
    "            line = line.decode('UTF-8' )\n",
    "            # tokenize on white space \n",
    "            line = line.split() \n",
    "            # convert to lowercase \n",
    "            line = [word.lower() for word in line] \n",
    "            # remove punctuation from each token \n",
    "            line = [re_punc.sub('' , w) for w in line] \n",
    "            # remove non-printable chars form each token \n",
    "            line = [re_print.sub('' , w) for w in line] \n",
    "            # remove tokens with numbers in them \n",
    "            line = [word for word in line if word.isalpha()] \n",
    "            # store as string \n",
    "            clean_pair.append(' '.join(line)) \n",
    "        cleaned.append(clean_pair) \n",
    "    return array(cleaned)\n",
    "# save a list of clean sentences to file \n",
    "def save_clean_data(sentences, filename): \n",
    "    dump(sentences, open(filename, 'wb' )) \n",
    "    print('Saved: {}'.format(filename))"
   ]
  },
  {
   "cell_type": "code",
   "execution_count": null,
   "id": "d35db61f",
   "metadata": {},
   "outputs": [],
   "source": [
    "# load dataset \n",
    "filename = 'deu.txt' \n",
    "doc = load_doc(filename) \n",
    "# split into english-german pairs \n",
    "pairs = to_pairs(doc) \n",
    "# clean sentences \n",
    "clean_pairs = clean_pairs(pairs) \n",
    "# save clean pairs to file \n",
    "save_clean_data(clean_pairs, 'english-german.pkl' ) \n",
    "# spot check \n",
    "for i in range(80,100): \n",
    "    print('{} => {}'.format(clean_pairs[i,0], clean_pairs[i,1]))"
   ]
  },
  {
   "cell_type": "code",
   "execution_count": null,
   "id": "203ceb87",
   "metadata": {},
   "outputs": [],
   "source": [
    "#doc"
   ]
  },
  {
   "cell_type": "code",
   "execution_count": null,
   "id": "70c60ef6",
   "metadata": {
    "scrolled": false
   },
   "outputs": [],
   "source": [
    "pairs[5]"
   ]
  },
  {
   "cell_type": "code",
   "execution_count": null,
   "id": "e5508604",
   "metadata": {},
   "outputs": [],
   "source": [
    "clean_pairs[7]"
   ]
  },
  {
   "cell_type": "markdown",
   "id": "1911424b",
   "metadata": {},
   "source": [
    "### Splitting the text"
   ]
  },
  {
   "cell_type": "code",
   "execution_count": null,
   "id": "e4dbb788",
   "metadata": {},
   "outputs": [],
   "source": [
    "from pickle import load \n",
    "from pickle import dump \n",
    "from numpy.random import shuffle\n",
    "\n",
    "# load a clean dataset \n",
    "def load_clean_sentences(filename): \n",
    "    return load(open(filename, 'rb' ))\n",
    "# load dataset \n",
    "raw_dataset = load_clean_sentences('english-german.pkl' )\n",
    "# reduce dataset size \n",
    "n_sentences = 10000 \n",
    "dataset = raw_dataset[:n_sentences, :] \n",
    "# random shuffle \n",
    "shuffle(dataset) \n",
    "# split into train/test \n",
    "train, test = dataset[:9000], dataset[9000:] \n",
    "# save\n",
    "save_clean_data(dataset, 'english-german-both.pkl' ) \n",
    "save_clean_data(train, 'english-german-train.pkl' ) \n",
    "save_clean_data(test, 'english-german-test.pkl' )"
   ]
  },
  {
   "cell_type": "code",
   "execution_count": null,
   "id": "81ff92fb",
   "metadata": {},
   "outputs": [],
   "source": [
    "dataset"
   ]
  },
  {
   "cell_type": "markdown",
   "id": "fc35ff17",
   "metadata": {},
   "source": [
    "### Train Translation Model"
   ]
  },
  {
   "cell_type": "code",
   "execution_count": 1,
   "id": "2817ba62",
   "metadata": {},
   "outputs": [],
   "source": [
    "from pickle import load \n",
    "from numpy import array \n",
    "from keras.preprocessing.text import Tokenizer \n",
    "from keras.preprocessing.sequence import pad_sequences \n",
    "from tensorflow.keras.utils import to_categorical \n",
    "from keras.utils.vis_utils import plot_model \n",
    "from keras.models import Sequential \n",
    "from keras.layers import LSTM \n",
    "from keras.layers import Dense \n",
    "from keras.layers import Embedding \n",
    "from keras.layers import RepeatVector \n",
    "from keras.layers import TimeDistributed \n",
    "from keras.callbacks import ModelCheckpoint"
   ]
  },
  {
   "cell_type": "code",
   "execution_count": 6,
   "id": "cf55576a",
   "metadata": {},
   "outputs": [],
   "source": [
    "# load a clean dataset \n",
    "def load_clean_sentences(filename): \n",
    "    return load(open(filename, 'rb' ))\n",
    "# fit a tokenizer \n",
    "def create_tokenizer(lines): \n",
    "    tokenizer = Tokenizer() \n",
    "    tokenizer.fit_on_texts(lines) \n",
    "    return tokenizer\n",
    "# max sentence length \n",
    "def max_length(lines): \n",
    "    return max(len(line.split()) for line in lines)\n",
    "# encode and pad sequences \n",
    "def encode_sequences(tokenizer, length, lines): \n",
    "    # integer encode sequences \n",
    "    X = tokenizer.texts_to_sequences(lines) \n",
    "    # pad sequences with 0 values \n",
    "    X = pad_sequences(X, maxlen=length, padding= 'post' )\n",
    "    return X"
   ]
  },
  {
   "cell_type": "code",
   "execution_count": 3,
   "id": "b5a27e25",
   "metadata": {},
   "outputs": [],
   "source": [
    "# one hot encode target sequence \n",
    "def encode_output(sequences, vocab_size): \n",
    "    ylist = list() \n",
    "    for sequence in sequences: \n",
    "        encoded = to_categorical(sequence, num_classes=vocab_size) \n",
    "        ylist.append(encoded)\n",
    "    y = array(ylist) \n",
    "    y = y.reshape(sequences.shape[0], sequences.shape[1], vocab_size) \n",
    "    return y\n"
   ]
  },
  {
   "cell_type": "code",
   "execution_count": 4,
   "id": "9e6546ca",
   "metadata": {},
   "outputs": [],
   "source": [
    "# define NMT model \n",
    "def define_model(src_vocab, tar_vocab, src_timesteps, tar_timesteps, n_units): \n",
    "    model = Sequential()\n",
    "    model.add(Embedding(src_vocab, n_units, input_length=src_timesteps, mask_zero=True)) \n",
    "    model.add(LSTM(n_units))\n",
    "    model.add(RepeatVector(tar_timesteps)) \n",
    "    model.add(LSTM(n_units, return_sequences=True)) \n",
    "    model.add(TimeDistributed(Dense(tar_vocab, activation= 'softmax' ))) \n",
    "    # compile model  \n",
    "    model.compile(optimizer= 'adam' , loss= 'categorical_crossentropy' ) \n",
    "    # summarize defined model \n",
    "    model.summary() \n",
    "    plot_model(model, to_file= 'model.png' , show_shapes=True) \n",
    "    return model"
   ]
  },
  {
   "cell_type": "code",
   "execution_count": 7,
   "id": "e5bc8ec2",
   "metadata": {},
   "outputs": [
    {
     "name": "stdout",
     "output_type": "stream",
     "text": [
      "English Vocabulary Size: 2176\n",
      "English Max Length: 5\n",
      "German Vocabulary Size: 3534\n",
      "German Max Length: 9\n"
     ]
    }
   ],
   "source": [
    "\n",
    "# load datasets \n",
    "dataset = load_clean_sentences('english-german-both.pkl' ) \n",
    "train = load_clean_sentences('english-german-train.pkl' ) \n",
    "test = load_clean_sentences('english-german-test.pkl' ) \n",
    "# prepare english tokenizer \n",
    "eng_tokenizer = create_tokenizer(dataset[:, 0]) \n",
    "eng_vocab_size = len(eng_tokenizer.word_index) + 1 \n",
    "eng_length = max_length(dataset[:, 0]) \n",
    "print('English Vocabulary Size: {}'.format(eng_vocab_size) )\n",
    "print('English Max Length: {}'.format(eng_length)) \n",
    "# prepare german tokenizer \n",
    "ger_tokenizer = create_tokenizer(dataset[:, 1]) \n",
    "ger_vocab_size = len(ger_tokenizer.word_index) + 1 \n",
    "ger_length = max_length(dataset[:, 1]) \n",
    "print('German Vocabulary Size: {}'.format(ger_vocab_size) )\n",
    "print('German Max Length: {}'.format(ger_length)) \n"
   ]
  },
  {
   "cell_type": "code",
   "execution_count": 23,
   "id": "6812c106",
   "metadata": {},
   "outputs": [],
   "source": [
    "# prepare training data \n",
    "trainX = encode_sequences(ger_tokenizer, ger_length, train[:, 1]) \n",
    "trainY = encode_sequences(eng_tokenizer, eng_length, train[:, 0]) "
   ]
  },
  {
   "cell_type": "code",
   "execution_count": 25,
   "id": "13e17069",
   "metadata": {},
   "outputs": [
    {
     "data": {
      "text/plain": [
       "(9000, 9)"
      ]
     },
     "execution_count": 25,
     "metadata": {},
     "output_type": "execute_result"
    }
   ],
   "source": [
    "trainX.shape"
   ]
  },
  {
   "cell_type": "code",
   "execution_count": 28,
   "id": "43121523",
   "metadata": {},
   "outputs": [
    {
     "data": {
      "text/plain": [
       "array([[  19,    5,  126, ...,    0,    0,    0],\n",
       "       [   3,    6,   26, ...,    0,    0,    0],\n",
       "       [   2,   63,  222, ...,    0,    0,    0],\n",
       "       ...,\n",
       "       [   4,   17,    8, ...,    0,    0,    0],\n",
       "       [  36,    2,  178, ...,    0,    0,    0],\n",
       "       [   1,   46, 1795, ...,    0,    0,    0]])"
      ]
     },
     "execution_count": 28,
     "metadata": {},
     "output_type": "execute_result"
    }
   ],
   "source": [
    "trainX"
   ]
  },
  {
   "cell_type": "code",
   "execution_count": 26,
   "id": "a4536a29",
   "metadata": {},
   "outputs": [
    {
     "data": {
      "text/plain": [
       "(9000, 5)"
      ]
     },
     "execution_count": 26,
     "metadata": {},
     "output_type": "execute_result"
    }
   ],
   "source": [
    "trainY.shape"
   ]
  },
  {
   "cell_type": "code",
   "execution_count": 30,
   "id": "351ee7fc",
   "metadata": {},
   "outputs": [],
   "source": [
    "trainY = encode_output(trainY, eng_vocab_size) "
   ]
  },
  {
   "cell_type": "code",
   "execution_count": 31,
   "id": "04901e87",
   "metadata": {},
   "outputs": [],
   "source": [
    "# prepare validation data \n",
    "testX = encode_sequences(ger_tokenizer, ger_length, test[:, 1]) \n",
    "testY = encode_sequences(eng_tokenizer, eng_length, test[:, 0]) \n",
    "testY = encode_output(testY, eng_vocab_size) "
   ]
  },
  {
   "cell_type": "code",
   "execution_count": 27,
   "id": "ada11fbc",
   "metadata": {},
   "outputs": [
    {
     "data": {
      "text/plain": [
       "array([[  49,  762,  641, ...,    0,    0,    0],\n",
       "       [   5,    3,   94, ...,    0,    0,    0],\n",
       "       [   1,    7,  333, ...,    0,    0,    0],\n",
       "       ...,\n",
       "       [   2, 1873,   27, ...,    0,    0,    0],\n",
       "       [  51,  137,  200, ...,    0,    0,    0],\n",
       "       [  34,  230,  112, ...,    0,    0,    0]])"
      ]
     },
     "execution_count": 27,
     "metadata": {},
     "output_type": "execute_result"
    }
   ],
   "source": [
    "testX"
   ]
  },
  {
   "cell_type": "code",
   "execution_count": 32,
   "id": "49ad2646",
   "metadata": {
    "scrolled": true
   },
   "outputs": [
    {
     "name": "stdout",
     "output_type": "stream",
     "text": [
      "Model: \"sequential\"\n",
      "_________________________________________________________________\n",
      " Layer (type)                Output Shape              Param #   \n",
      "=================================================================\n",
      " embedding (Embedding)       (None, 9, 256)            904704    \n",
      "                                                                 \n",
      " lstm (LSTM)                 (None, 256)               525312    \n",
      "                                                                 \n",
      " repeat_vector (RepeatVector  (None, 5, 256)           0         \n",
      " )                                                               \n",
      "                                                                 \n",
      " lstm_1 (LSTM)               (None, 5, 256)            525312    \n",
      "                                                                 \n",
      " time_distributed (TimeDistr  (None, 5, 2176)          559232    \n",
      " ibuted)                                                         \n",
      "                                                                 \n",
      "=================================================================\n",
      "Total params: 2,514,560\n",
      "Trainable params: 2,514,560\n",
      "Non-trainable params: 0\n",
      "_________________________________________________________________\n",
      "('You must install pydot (`pip install pydot`) and install graphviz (see instructions at https://graphviz.gitlab.io/download/) ', 'for plot_model/model_to_dot to work.')\n",
      "Epoch 1/30\n",
      "\n",
      "Epoch 00001: val_loss improved from inf to 3.33399, saving model to model.h5\n",
      "141/141 - 22s - loss: 4.1054 - val_loss: 3.3340 - 22s/epoch - 153ms/step\n",
      "Epoch 2/30\n",
      "\n",
      "Epoch 00002: val_loss improved from 3.33399 to 3.19098, saving model to model.h5\n",
      "141/141 - 12s - loss: 3.2002 - val_loss: 3.1910 - 12s/epoch - 82ms/step\n",
      "Epoch 3/30\n",
      "\n",
      "Epoch 00003: val_loss improved from 3.19098 to 3.11293, saving model to model.h5\n",
      "141/141 - 11s - loss: 3.0616 - val_loss: 3.1129 - 11s/epoch - 81ms/step\n",
      "Epoch 4/30\n",
      "\n",
      "Epoch 00004: val_loss improved from 3.11293 to 2.98718, saving model to model.h5\n",
      "141/141 - 11s - loss: 2.9169 - val_loss: 2.9872 - 11s/epoch - 80ms/step\n",
      "Epoch 5/30\n",
      "\n",
      "Epoch 00005: val_loss improved from 2.98718 to 2.89221, saving model to model.h5\n",
      "141/141 - 11s - loss: 2.7810 - val_loss: 2.8922 - 11s/epoch - 80ms/step\n",
      "Epoch 6/30\n",
      "\n",
      "Epoch 00006: val_loss improved from 2.89221 to 2.77563, saving model to model.h5\n",
      "141/141 - 11s - loss: 2.6442 - val_loss: 2.7756 - 11s/epoch - 80ms/step\n",
      "Epoch 7/30\n",
      "\n",
      "Epoch 00007: val_loss improved from 2.77563 to 2.67734, saving model to model.h5\n",
      "141/141 - 11s - loss: 2.4950 - val_loss: 2.6773 - 11s/epoch - 81ms/step\n",
      "Epoch 8/30\n",
      "\n",
      "Epoch 00008: val_loss improved from 2.67734 to 2.57718, saving model to model.h5\n",
      "141/141 - 12s - loss: 2.3429 - val_loss: 2.5772 - 12s/epoch - 84ms/step\n",
      "Epoch 9/30\n",
      "\n",
      "Epoch 00009: val_loss improved from 2.57718 to 2.48090, saving model to model.h5\n",
      "141/141 - 12s - loss: 2.2016 - val_loss: 2.4809 - 12s/epoch - 84ms/step\n",
      "Epoch 10/30\n",
      "\n",
      "Epoch 00010: val_loss improved from 2.48090 to 2.38389, saving model to model.h5\n",
      "141/141 - 11s - loss: 2.0673 - val_loss: 2.3839 - 11s/epoch - 81ms/step\n",
      "Epoch 11/30\n",
      "\n",
      "Epoch 00011: val_loss improved from 2.38389 to 2.31479, saving model to model.h5\n",
      "141/141 - 11s - loss: 1.9319 - val_loss: 2.3148 - 11s/epoch - 81ms/step\n",
      "Epoch 12/30\n",
      "\n",
      "Epoch 00012: val_loss improved from 2.31479 to 2.23393, saving model to model.h5\n",
      "141/141 - 12s - loss: 1.8026 - val_loss: 2.2339 - 12s/epoch - 82ms/step\n",
      "Epoch 13/30\n",
      "\n",
      "Epoch 00013: val_loss improved from 2.23393 to 2.19464, saving model to model.h5\n",
      "141/141 - 11s - loss: 1.6853 - val_loss: 2.1946 - 11s/epoch - 80ms/step\n",
      "Epoch 14/30\n",
      "\n",
      "Epoch 00014: val_loss improved from 2.19464 to 2.13272, saving model to model.h5\n",
      "141/141 - 11s - loss: 1.5766 - val_loss: 2.1327 - 11s/epoch - 80ms/step\n",
      "Epoch 15/30\n",
      "\n",
      "Epoch 00015: val_loss improved from 2.13272 to 2.09149, saving model to model.h5\n",
      "141/141 - 11s - loss: 1.4747 - val_loss: 2.0915 - 11s/epoch - 80ms/step\n",
      "Epoch 16/30\n",
      "\n",
      "Epoch 00016: val_loss improved from 2.09149 to 2.04698, saving model to model.h5\n",
      "141/141 - 11s - loss: 1.3747 - val_loss: 2.0470 - 11s/epoch - 80ms/step\n",
      "Epoch 17/30\n",
      "\n",
      "Epoch 00017: val_loss improved from 2.04698 to 2.01740, saving model to model.h5\n",
      "141/141 - 11s - loss: 1.2780 - val_loss: 2.0174 - 11s/epoch - 79ms/step\n",
      "Epoch 18/30\n",
      "\n",
      "Epoch 00018: val_loss improved from 2.01740 to 1.98636, saving model to model.h5\n",
      "141/141 - 11s - loss: 1.1891 - val_loss: 1.9864 - 11s/epoch - 79ms/step\n",
      "Epoch 19/30\n",
      "\n",
      "Epoch 00019: val_loss improved from 1.98636 to 1.95921, saving model to model.h5\n",
      "141/141 - 11s - loss: 1.1044 - val_loss: 1.9592 - 11s/epoch - 80ms/step\n",
      "Epoch 20/30\n",
      "\n",
      "Epoch 00020: val_loss improved from 1.95921 to 1.92958, saving model to model.h5\n",
      "141/141 - 11s - loss: 1.0203 - val_loss: 1.9296 - 11s/epoch - 80ms/step\n",
      "Epoch 21/30\n",
      "\n",
      "Epoch 00021: val_loss improved from 1.92958 to 1.90890, saving model to model.h5\n",
      "141/141 - 11s - loss: 0.9414 - val_loss: 1.9089 - 11s/epoch - 79ms/step\n",
      "Epoch 22/30\n",
      "\n",
      "Epoch 00022: val_loss improved from 1.90890 to 1.88488, saving model to model.h5\n",
      "141/141 - 11s - loss: 0.8685 - val_loss: 1.8849 - 11s/epoch - 79ms/step\n",
      "Epoch 23/30\n",
      "\n",
      "Epoch 00023: val_loss improved from 1.88488 to 1.84667, saving model to model.h5\n",
      "141/141 - 11s - loss: 0.7963 - val_loss: 1.8467 - 11s/epoch - 79ms/step\n",
      "Epoch 24/30\n",
      "\n",
      "Epoch 00024: val_loss improved from 1.84667 to 1.84125, saving model to model.h5\n",
      "141/141 - 11s - loss: 0.7298 - val_loss: 1.8412 - 11s/epoch - 80ms/step\n",
      "Epoch 25/30\n",
      "\n",
      "Epoch 00025: val_loss improved from 1.84125 to 1.83069, saving model to model.h5\n",
      "141/141 - 11s - loss: 0.6673 - val_loss: 1.8307 - 11s/epoch - 80ms/step\n",
      "Epoch 26/30\n",
      "\n",
      "Epoch 00026: val_loss improved from 1.83069 to 1.82469, saving model to model.h5\n",
      "141/141 - 11s - loss: 0.6087 - val_loss: 1.8247 - 11s/epoch - 79ms/step\n",
      "Epoch 27/30\n",
      "\n",
      "Epoch 00027: val_loss did not improve from 1.82469\n",
      "141/141 - 11s - loss: 0.5556 - val_loss: 1.8306 - 11s/epoch - 79ms/step\n",
      "Epoch 28/30\n",
      "\n",
      "Epoch 00028: val_loss improved from 1.82469 to 1.81437, saving model to model.h5\n",
      "141/141 - 11s - loss: 0.5109 - val_loss: 1.8144 - 11s/epoch - 80ms/step\n",
      "Epoch 29/30\n",
      "\n",
      "Epoch 00029: val_loss improved from 1.81437 to 1.80229, saving model to model.h5\n",
      "141/141 - 11s - loss: 0.4674 - val_loss: 1.8023 - 11s/epoch - 80ms/step\n",
      "Epoch 30/30\n",
      "\n",
      "Epoch 00030: val_loss improved from 1.80229 to 1.79689, saving model to model.h5\n",
      "141/141 - 11s - loss: 0.4287 - val_loss: 1.7969 - 11s/epoch - 80ms/step\n"
     ]
    },
    {
     "data": {
      "text/plain": [
       "<keras.callbacks.History at 0x17d69455910>"
      ]
     },
     "execution_count": 32,
     "metadata": {},
     "output_type": "execute_result"
    }
   ],
   "source": [
    "# define model \n",
    "model = define_model(ger_vocab_size, eng_vocab_size, ger_length, eng_length, 256) \n",
    "# fit model \n",
    "checkpoint = ModelCheckpoint('model.h5' , monitor = 'val_loss' , verbose=1, save_best_only=True, mode= 'min' )\n",
    "model.fit(trainX, trainY, epochs=30, batch_size=64, validation_data=(testX, testY), callbacks=[checkpoint], verbose=2)"
   ]
  },
  {
   "cell_type": "code",
   "execution_count": 13,
   "id": "0db57a5c",
   "metadata": {},
   "outputs": [],
   "source": [
    "from pickle import load \n",
    "from numpy import argmax \n",
    "from keras.preprocessing.text import Tokenizer \n",
    "from keras.preprocessing.sequence import pad_sequences \n",
    "from keras.models import load_model\n",
    "from nltk.translate.bleu_score import corpus_bleu"
   ]
  },
  {
   "cell_type": "code",
   "execution_count": 11,
   "id": "22e0e192",
   "metadata": {},
   "outputs": [],
   "source": [
    "# load a clean dataset \n",
    "def load_clean_sentences(filename): \n",
    "    return load(open(filename, 'rb' ))\n",
    "\n",
    "# fit a tokenizer \n",
    "def create_tokenizer(lines): \n",
    "    tokenizer = Tokenizer() \n",
    "    tokenizer.fit_on_texts(lines) \n",
    "    return tokenizer\n",
    "\n",
    "# max sentence length \n",
    "def max_length(lines): \n",
    "    return max(len(line.split()) for line in lines)\n",
    "\n",
    "# map an integer to a word \n",
    "def word_for_id(integer, tokenizer): \n",
    "    for word, index in tokenizer.word_index.items(): \n",
    "        if index == integer: \n",
    "            return word\n",
    "    return None\n",
    "# generate target given source sequence \n",
    "def predict_sequence(model, tokenizer, source): \n",
    "    prediction = model.predict(source, verbose=0)[0] \n",
    "    integers = [argmax(vector) for vector in prediction] \n",
    "    target = list() \n",
    "    for i in integers: \n",
    "        word = word_for_id(i, tokenizer) \n",
    "        if word is None: \n",
    "            break\n",
    "        target.append(word) \n",
    "    return ' ' .join(target)\n",
    "\n",
    "# evaluate the skill of the model \n",
    "def evaluate_model(model, sources, raw_dataset): \n",
    "    actual, predicted = list(), list() \n",
    "    for i, source in enumerate(sources): \n",
    "        # translate encoded source text \n",
    "        source = source.reshape((1, source.shape[0])) \n",
    "        translation = predict_sequence(model, eng_tokenizer, source) \n",
    "        raw_target, raw_src,_ = raw_dataset[i] \n",
    "        if i < 10: \n",
    "            print(' src=[%s], target=[%s], predicted=[%s]' % (raw_src, raw_target, translation)) \n",
    "        actual.append(raw_target.split()) \n",
    "        predicted.append(translation.split())\n",
    "    # calculate BLEU score\n",
    "    print(' BLEU-1: %f' % corpus_bleu(actual, predicted, weights=(1.0, 0, 0, 0))) \n",
    "    print(' BLEU-2: %f' % corpus_bleu(actual, predicted, weights=(0.5, 0.5, 0, 0))) \n",
    "    print(' BLEU-3: %f' % corpus_bleu(actual, predicted, weights=(0.3, 0.3, 0.3, 0))) \n",
    "    print(' BLEU-4: %f' % corpus_bleu(actual, predicted, weights=(0.25, 0.25, 0.25, 0.25)))"
   ]
  },
  {
   "cell_type": "code",
   "execution_count": 9,
   "id": "4c74b03d",
   "metadata": {},
   "outputs": [],
   "source": [
    "# load datasets \n",
    "dataset = load_clean_sentences('english-german-both.pkl' ) \n",
    "train = load_clean_sentences('english-german-train.pkl' ) \n",
    "test = load_clean_sentences('english-german-test.pkl' ) \n",
    "# prepare english tokenizer \n",
    "eng_tokenizer = create_tokenizer(dataset[:, 0]) \n",
    "eng_vocab_size = len(eng_tokenizer.word_index) + 1 \n",
    "eng_length = max_length(dataset[:, 0]) \n",
    "# prepare german tokenizer \n",
    "ger_tokenizer = create_tokenizer(dataset[:, 1]) \n",
    "ger_vocab_size = len(ger_tokenizer.word_index) + 1 \n",
    "ger_length = max_length(dataset[:, 1]) \n",
    "# prepare data \n",
    "trainX = encode_sequences(ger_tokenizer, ger_length, train[:, 1]) \n",
    "testX = encode_sequences(ger_tokenizer, ger_length, test[:, 1]) \n",
    "# load model \n",
    "model = load_model('model.h5' ) "
   ]
  },
  {
   "cell_type": "code",
   "execution_count": 66,
   "id": "e0db9e0c",
   "metadata": {},
   "outputs": [
    {
     "data": {
      "text/plain": [
       "(array(['sind sie glucklich', 'ist das eine fledermaus',\n",
       "        'tom wurde weinen', ..., 'es war nicht tom', 'lass tom fahren',\n",
       "        'ich mag filme'], dtype='<U527'),\n",
       " (9000,))"
      ]
     },
     "execution_count": 66,
     "metadata": {},
     "output_type": "execute_result"
    }
   ],
   "source": [
    "train[:,1],train[:,1].shape"
   ]
  },
  {
   "cell_type": "code",
   "execution_count": 35,
   "id": "6b34e08d",
   "metadata": {},
   "outputs": [
    {
     "data": {
      "text/plain": [
       "array([[  19,    5,  126, ...,    0,    0,    0],\n",
       "       [   3,    6,   26, ...,    0,    0,    0],\n",
       "       [   2,   63,  222, ...,    0,    0,    0],\n",
       "       ...,\n",
       "       [   4,   17,    8, ...,    0,    0,    0],\n",
       "       [  36,    2,  178, ...,    0,    0,    0],\n",
       "       [   1,   46, 1795, ...,    0,    0,    0]])"
      ]
     },
     "execution_count": 35,
     "metadata": {},
     "output_type": "execute_result"
    }
   ],
   "source": [
    "trainX"
   ]
  },
  {
   "cell_type": "code",
   "execution_count": 65,
   "id": "2335745f",
   "metadata": {},
   "outputs": [
    {
     "data": {
      "text/plain": [
       "(9000, 9)"
      ]
     },
     "execution_count": 65,
     "metadata": {},
     "output_type": "execute_result"
    }
   ],
   "source": [
    "trainX.shape"
   ]
  },
  {
   "cell_type": "code",
   "execution_count": 10,
   "id": "5ade24c0",
   "metadata": {
    "scrolled": true
   },
   "outputs": [
    {
     "name": "stdout",
     "output_type": "stream",
     "text": [
      "train\n",
      " src=[sind sie glucklich], target=[are you happy], predicted=[are you happy]\n",
      " src=[ist das eine fledermaus], target=[is that a bat], predicted=[is that a bat]\n",
      " src=[tom wurde weinen], target=[tom would cry], predicted=[tom was out]\n",
      " src=[ich ziehe marmelade vor], target=[i prefer jam], predicted=[i prefer jam]\n",
      " src=[du weit das], target=[you know that], predicted=[you know that]\n",
      " src=[nicht nachlassen], target=[hang on], predicted=[keep it]\n",
      " src=[ich heie tom], target=[im called tom], predicted=[i names tom]\n",
      " src=[sie sind deine], target=[theyre yours], predicted=[theyre yours]\n",
      " src=[ich habe erbrochen], target=[i was sick], predicted=[i been sick]\n",
      " src=[frag nach tom], target=[ask for tom], predicted=[ask for tom]\n"
     ]
    },
    {
     "name": "stderr",
     "output_type": "stream",
     "text": [
      "C:\\Users\\Lenovo\\anaconda3\\lib\\site-packages\\nltk\\translate\\bleu_score.py:552: UserWarning: \n",
      "The hypothesis contains 0 counts of 2-gram overlaps.\n",
      "Therefore the BLEU score evaluates to 0, independently of\n",
      "how many N-gram overlaps of lower order it contains.\n",
      "Consider using lower n-gram order or use SmoothingFunction()\n",
      "  warnings.warn(_msg)\n",
      "C:\\Users\\Lenovo\\anaconda3\\lib\\site-packages\\nltk\\translate\\bleu_score.py:552: UserWarning: \n",
      "The hypothesis contains 0 counts of 3-gram overlaps.\n",
      "Therefore the BLEU score evaluates to 0, independently of\n",
      "how many N-gram overlaps of lower order it contains.\n",
      "Consider using lower n-gram order or use SmoothingFunction()\n",
      "  warnings.warn(_msg)\n",
      "C:\\Users\\Lenovo\\anaconda3\\lib\\site-packages\\nltk\\translate\\bleu_score.py:552: UserWarning: \n",
      "The hypothesis contains 0 counts of 4-gram overlaps.\n",
      "Therefore the BLEU score evaluates to 0, independently of\n",
      "how many N-gram overlaps of lower order it contains.\n",
      "Consider using lower n-gram order or use SmoothingFunction()\n",
      "  warnings.warn(_msg)\n"
     ]
    },
    {
     "name": "stdout",
     "output_type": "stream",
     "text": [
      " BLEU-1: 0.087605\n",
      " BLEU-2: 0.000000\n",
      " BLEU-3: 0.000000\n",
      " BLEU-4: 0.000000\n",
      " src=[mach ne fliege], target=[go away], predicted=[get away]\n",
      " src=[sie ist gerade gegangen], target=[she just left], predicted=[she came left]\n",
      " src=[ich bin immer noch hier], target=[im still here], predicted=[im in here]\n",
      " src=[koche fur mich], target=[cook for me], predicted=[pick for me]\n",
      " src=[ich bin ein moslem], target=[i am a muslim], predicted=[im a prisoner]\n",
      " src=[er lugt], target=[hes lying], predicted=[he is]\n",
      " src=[ich hoffe es], target=[i hope so], predicted=[i hope it]\n",
      " src=[wer hat dich geschlagen], target=[who hit you], predicted=[who hit you]\n",
      " src=[ich war verwirrt], target=[i was confused], predicted=[i was outraged]\n",
      " src=[verzieh dich], target=[get lost], predicted=[go away]\n",
      " BLEU-1: 0.083034\n",
      " BLEU-2: 0.000000\n",
      " BLEU-3: 0.000000\n",
      " BLEU-4: 0.000000\n"
     ]
    }
   ],
   "source": [
    "# test on some training sequences \n",
    "print('train' )\n",
    "evaluate_model(model, trainX, train) \n",
    "# test on some test sequences \n",
    "print(' test' )\n",
    "evaluate_model(model, testX, test)"
   ]
  },
  {
   "cell_type": "code",
   "execution_count": 72,
   "id": "3062c456",
   "metadata": {},
   "outputs": [
    {
     "data": {
      "text/plain": [
       "'get away'"
      ]
     },
     "execution_count": 72,
     "metadata": {},
     "output_type": "execute_result"
    }
   ],
   "source": [
    "german_txt_encoded = encode_sequences(ger_tokenizer,ger_length,['mach ne fliege'])\n",
    "predict_sequence(model,eng_tokenizer,german_txt_encoded)"
   ]
  },
  {
   "cell_type": "code",
   "execution_count": 68,
   "id": "8359ffb9",
   "metadata": {},
   "outputs": [
    {
     "data": {
      "text/plain": [
       "(1, 9)"
      ]
     },
     "execution_count": 68,
     "metadata": {},
     "output_type": "execute_result"
    }
   ],
   "source": [
    "german_txt_encoded.shape"
   ]
  },
  {
   "cell_type": "code",
   "execution_count": 19,
   "id": "f770fcd9",
   "metadata": {},
   "outputs": [
    {
     "data": {
      "text/plain": [
       "<keras.engine.sequential.Sequential at 0x1b41388c4f0>"
      ]
     },
     "execution_count": 19,
     "metadata": {},
     "output_type": "execute_result"
    }
   ],
   "source": [
    "model"
   ]
  },
  {
   "cell_type": "code",
   "execution_count": 25,
   "id": "0287fe46",
   "metadata": {},
   "outputs": [
    {
     "data": {
      "text/plain": [
       "<keras_preprocessing.text.Tokenizer at 0x1b41387da00>"
      ]
     },
     "execution_count": 25,
     "metadata": {},
     "output_type": "execute_result"
    }
   ],
   "source": [
    "eng_tokenizer"
   ]
  },
  {
   "cell_type": "code",
   "execution_count": 71,
   "id": "f6b72f0c",
   "metadata": {},
   "outputs": [
    {
     "data": {
      "text/plain": [
       "'i love you'"
      ]
     },
     "execution_count": 71,
     "metadata": {},
     "output_type": "execute_result"
    }
   ],
   "source": [
    "german_lang_txt = ['ich liebe dich']\n",
    "german_txt_encoded = encode_sequences(ger_tokenizer,ger_length,german_lang_txt)\n",
    "predict_sequence(model,eng_tokenizer,german_txt_encoded)"
   ]
  },
  {
   "cell_type": "code",
   "execution_count": 75,
   "id": "6e43a1be",
   "metadata": {},
   "outputs": [
    {
     "data": {
      "text/plain": [
       "array([[ 1, 37,  4,  0,  0]])"
      ]
     },
     "execution_count": 75,
     "metadata": {},
     "output_type": "execute_result"
    }
   ],
   "source": [
    "eng_txt_encoded"
   ]
  },
  {
   "cell_type": "code",
   "execution_count": 76,
   "id": "a07f773e",
   "metadata": {},
   "outputs": [
    {
     "data": {
      "text/plain": [
       "5"
      ]
     },
     "execution_count": 76,
     "metadata": {},
     "output_type": "execute_result"
    }
   ],
   "source": [
    "eng_length"
   ]
  },
  {
   "cell_type": "markdown",
   "id": "7f741bf0",
   "metadata": {},
   "source": [
    "# English to German translation : "
   ]
  },
  {
   "cell_type": "code",
   "execution_count": 9,
   "id": "fdc265a4",
   "metadata": {},
   "outputs": [
    {
     "name": "stdout",
     "output_type": "stream",
     "text": [
      "Model: \"sequential_1\"\n",
      "_________________________________________________________________\n",
      " Layer (type)                Output Shape              Param #   \n",
      "=================================================================\n",
      " embedding_1 (Embedding)     (None, 5, 256)            557056    \n",
      "                                                                 \n",
      " lstm_2 (LSTM)               (None, 256)               525312    \n",
      "                                                                 \n",
      " repeat_vector_1 (RepeatVect  (None, 9, 256)           0         \n",
      " or)                                                             \n",
      "                                                                 \n",
      " lstm_3 (LSTM)               (None, 9, 256)            525312    \n",
      "                                                                 \n",
      " time_distributed_1 (TimeDis  (None, 9, 3534)          908238    \n",
      " tributed)                                                       \n",
      "                                                                 \n",
      "=================================================================\n",
      "Total params: 2,515,918\n",
      "Trainable params: 2,515,918\n",
      "Non-trainable params: 0\n",
      "_________________________________________________________________\n",
      "('You must install pydot (`pip install pydot`) and install graphviz (see instructions at https://graphviz.gitlab.io/download/) ', 'for plot_model/model_to_dot to work.')\n",
      "Epoch 1/30\n",
      "\n",
      "Epoch 00001: val_loss improved from inf to 2.32397, saving model to model_en2ge.h5\n",
      "141/141 - 26s - loss: 3.2211 - val_loss: 2.3240 - 26s/epoch - 187ms/step\n",
      "Epoch 2/30\n",
      "\n",
      "Epoch 00002: val_loss improved from 2.32397 to 2.19920, saving model to model_en2ge.h5\n",
      "141/141 - 18s - loss: 2.2390 - val_loss: 2.1992 - 18s/epoch - 125ms/step\n",
      "Epoch 3/30\n",
      "\n",
      "Epoch 00003: val_loss improved from 2.19920 to 2.10965, saving model to model_en2ge.h5\n",
      "141/141 - 18s - loss: 2.1243 - val_loss: 2.1097 - 18s/epoch - 128ms/step\n",
      "Epoch 4/30\n",
      "\n",
      "Epoch 00004: val_loss improved from 2.10965 to 2.02489, saving model to model_en2ge.h5\n",
      "141/141 - 18s - loss: 2.0156 - val_loss: 2.0249 - 18s/epoch - 127ms/step\n",
      "Epoch 5/30\n",
      "\n",
      "Epoch 00005: val_loss improved from 2.02489 to 1.95981, saving model to model_en2ge.h5\n",
      "141/141 - 18s - loss: 1.9168 - val_loss: 1.9598 - 18s/epoch - 128ms/step\n",
      "Epoch 6/30\n",
      "\n",
      "Epoch 00006: val_loss improved from 1.95981 to 1.91036, saving model to model_en2ge.h5\n",
      "141/141 - 17s - loss: 1.8378 - val_loss: 1.9104 - 17s/epoch - 123ms/step\n",
      "Epoch 7/30\n",
      "\n",
      "Epoch 00007: val_loss improved from 1.91036 to 1.86989, saving model to model_en2ge.h5\n",
      "141/141 - 18s - loss: 1.7630 - val_loss: 1.8699 - 18s/epoch - 128ms/step\n",
      "Epoch 8/30\n",
      "\n",
      "Epoch 00008: val_loss improved from 1.86989 to 1.82014, saving model to model_en2ge.h5\n",
      "141/141 - 17s - loss: 1.6921 - val_loss: 1.8201 - 17s/epoch - 120ms/step\n",
      "Epoch 9/30\n",
      "\n",
      "Epoch 00009: val_loss improved from 1.82014 to 1.77114, saving model to model_en2ge.h5\n",
      "141/141 - 17s - loss: 1.6226 - val_loss: 1.7711 - 17s/epoch - 120ms/step\n",
      "Epoch 10/30\n",
      "\n",
      "Epoch 00010: val_loss improved from 1.77114 to 1.72835, saving model to model_en2ge.h5\n",
      "141/141 - 17s - loss: 1.5475 - val_loss: 1.7283 - 17s/epoch - 120ms/step\n",
      "Epoch 11/30\n",
      "\n",
      "Epoch 00011: val_loss improved from 1.72835 to 1.69606, saving model to model_en2ge.h5\n",
      "141/141 - 17s - loss: 1.4832 - val_loss: 1.6961 - 17s/epoch - 119ms/step\n",
      "Epoch 12/30\n",
      "\n",
      "Epoch 00012: val_loss improved from 1.69606 to 1.65343, saving model to model_en2ge.h5\n",
      "141/141 - 18s - loss: 1.4238 - val_loss: 1.6534 - 18s/epoch - 125ms/step\n",
      "Epoch 13/30\n",
      "\n",
      "Epoch 00013: val_loss improved from 1.65343 to 1.62159, saving model to model_en2ge.h5\n",
      "141/141 - 18s - loss: 1.3646 - val_loss: 1.6216 - 18s/epoch - 128ms/step\n",
      "Epoch 14/30\n",
      "\n",
      "Epoch 00014: val_loss improved from 1.62159 to 1.59711, saving model to model_en2ge.h5\n",
      "141/141 - 17s - loss: 1.3088 - val_loss: 1.5971 - 17s/epoch - 123ms/step\n",
      "Epoch 15/30\n",
      "\n",
      "Epoch 00015: val_loss improved from 1.59711 to 1.56653, saving model to model_en2ge.h5\n",
      "141/141 - 17s - loss: 1.2560 - val_loss: 1.5665 - 17s/epoch - 123ms/step\n",
      "Epoch 16/30\n",
      "\n",
      "Epoch 00016: val_loss improved from 1.56653 to 1.54107, saving model to model_en2ge.h5\n",
      "141/141 - 17s - loss: 1.2050 - val_loss: 1.5411 - 17s/epoch - 122ms/step\n",
      "Epoch 17/30\n",
      "\n",
      "Epoch 00017: val_loss improved from 1.54107 to 1.52336, saving model to model_en2ge.h5\n",
      "141/141 - 18s - loss: 1.1535 - val_loss: 1.5234 - 18s/epoch - 126ms/step\n",
      "Epoch 18/30\n",
      "\n",
      "Epoch 00018: val_loss improved from 1.52336 to 1.49498, saving model to model_en2ge.h5\n",
      "141/141 - 17s - loss: 1.1051 - val_loss: 1.4950 - 17s/epoch - 123ms/step\n",
      "Epoch 19/30\n",
      "\n",
      "Epoch 00019: val_loss improved from 1.49498 to 1.47669, saving model to model_en2ge.h5\n",
      "141/141 - 17s - loss: 1.0586 - val_loss: 1.4767 - 17s/epoch - 123ms/step\n",
      "Epoch 20/30\n",
      "\n",
      "Epoch 00020: val_loss improved from 1.47669 to 1.46577, saving model to model_en2ge.h5\n",
      "141/141 - 18s - loss: 1.0134 - val_loss: 1.4658 - 18s/epoch - 125ms/step\n",
      "Epoch 21/30\n",
      "\n",
      "Epoch 00021: val_loss improved from 1.46577 to 1.43989, saving model to model_en2ge.h5\n",
      "141/141 - 17s - loss: 0.9697 - val_loss: 1.4399 - 17s/epoch - 120ms/step\n",
      "Epoch 22/30\n",
      "\n",
      "Epoch 00022: val_loss improved from 1.43989 to 1.43191, saving model to model_en2ge.h5\n",
      "141/141 - 17s - loss: 0.9275 - val_loss: 1.4319 - 17s/epoch - 120ms/step\n",
      "Epoch 23/30\n",
      "\n",
      "Epoch 00023: val_loss improved from 1.43191 to 1.41743, saving model to model_en2ge.h5\n",
      "141/141 - 17s - loss: 0.8864 - val_loss: 1.4174 - 17s/epoch - 120ms/step\n",
      "Epoch 24/30\n",
      "\n",
      "Epoch 00024: val_loss improved from 1.41743 to 1.40267, saving model to model_en2ge.h5\n",
      "141/141 - 17s - loss: 0.8488 - val_loss: 1.4027 - 17s/epoch - 120ms/step\n",
      "Epoch 25/30\n",
      "\n",
      "Epoch 00025: val_loss improved from 1.40267 to 1.39554, saving model to model_en2ge.h5\n",
      "141/141 - 17s - loss: 0.8099 - val_loss: 1.3955 - 17s/epoch - 121ms/step\n",
      "Epoch 26/30\n",
      "\n",
      "Epoch 00026: val_loss improved from 1.39554 to 1.37863, saving model to model_en2ge.h5\n",
      "141/141 - 17s - loss: 0.7733 - val_loss: 1.3786 - 17s/epoch - 121ms/step\n",
      "Epoch 27/30\n",
      "\n",
      "Epoch 00027: val_loss improved from 1.37863 to 1.36878, saving model to model_en2ge.h5\n",
      "141/141 - 17s - loss: 0.7403 - val_loss: 1.3688 - 17s/epoch - 119ms/step\n",
      "Epoch 28/30\n",
      "\n",
      "Epoch 00028: val_loss improved from 1.36878 to 1.35965, saving model to model_en2ge.h5\n",
      "141/141 - 17s - loss: 0.7056 - val_loss: 1.3596 - 17s/epoch - 120ms/step\n",
      "Epoch 29/30\n",
      "\n",
      "Epoch 00029: val_loss improved from 1.35965 to 1.35003, saving model to model_en2ge.h5\n",
      "141/141 - 17s - loss: 0.6741 - val_loss: 1.3500 - 17s/epoch - 121ms/step\n",
      "Epoch 30/30\n",
      "\n",
      "Epoch 00030: val_loss improved from 1.35003 to 1.34021, saving model to model_en2ge.h5\n",
      "141/141 - 17s - loss: 0.6442 - val_loss: 1.3402 - 17s/epoch - 119ms/step\n"
     ]
    },
    {
     "data": {
      "text/plain": [
       "<keras.callbacks.History at 0x176701f56d0>"
      ]
     },
     "execution_count": 9,
     "metadata": {},
     "output_type": "execute_result"
    }
   ],
   "source": [
    "# prepare training data \n",
    "trainX = encode_sequences(eng_tokenizer, eng_length, train[:, 0]) \n",
    "trainY = encode_sequences(ger_tokenizer, ger_length, train[:, 1]) #Y -\n",
    "trainY = encode_output(trainY, ger_vocab_size) \n",
    "\n",
    "# prepare validation data \n",
    "testX = encode_sequences(eng_tokenizer, eng_length, test[:, 0])\n",
    "testY = encode_sequences(ger_tokenizer, ger_length, test[:, 1])  \n",
    "testY = encode_output(testY, ger_vocab_size) \n",
    "\n",
    "# define model \n",
    "model_en2ge = define_model(eng_vocab_size, ger_vocab_size, eng_length, ger_length, 256) \n",
    "# fit model \n",
    "checkpoint = ModelCheckpoint('model_en2ge.h5' , monitor = 'val_loss' , verbose=1, save_best_only=True, mode= 'min' )\n",
    "model_en2ge.fit(trainX, trainY, epochs=30, batch_size=64, validation_data=(testX, testY), callbacks=[checkpoint], verbose=2)"
   ]
  },
  {
   "cell_type": "code",
   "execution_count": 14,
   "id": "c40a935f",
   "metadata": {
    "scrolled": true
   },
   "outputs": [
    {
     "name": "stdout",
     "output_type": "stream",
     "text": [
      " train\n",
      " src=[sind sie glucklich], target=[are you happy], predicted=[the we late]\n",
      " src=[ist das eine fledermaus], target=[is that a bat], predicted=[it im youre pushed]\n",
      " src=[tom wurde weinen], target=[tom would cry], predicted=[tom know had]\n",
      " src=[ich ziehe marmelade vor], target=[i prefer jam], predicted=[i was horrible]\n",
      " src=[du weit das], target=[you know that], predicted=[we kill im]\n",
      " src=[nicht nachlassen], target=[hang on], predicted=[home]\n",
      " src=[ich heie tom], target=[im called tom], predicted=[i was tom looked]\n",
      " src=[sie sind deine], target=[theyre yours], predicted=[is dont up]\n",
      " src=[ich habe erbrochen], target=[i was sick], predicted=[i are good]\n",
      " src=[frag nach tom], target=[ask for tom], predicted=[cat tom tom]\n"
     ]
    },
    {
     "name": "stderr",
     "output_type": "stream",
     "text": [
      "C:\\Users\\Lenovo\\anaconda3\\lib\\site-packages\\nltk\\translate\\bleu_score.py:552: UserWarning: \n",
      "The hypothesis contains 0 counts of 3-gram overlaps.\n",
      "Therefore the BLEU score evaluates to 0, independently of\n",
      "how many N-gram overlaps of lower order it contains.\n",
      "Consider using lower n-gram order or use SmoothingFunction()\n",
      "  warnings.warn(_msg)\n",
      "C:\\Users\\Lenovo\\anaconda3\\lib\\site-packages\\nltk\\translate\\bleu_score.py:552: UserWarning: \n",
      "The hypothesis contains 0 counts of 4-gram overlaps.\n",
      "Therefore the BLEU score evaluates to 0, independently of\n",
      "how many N-gram overlaps of lower order it contains.\n",
      "Consider using lower n-gram order or use SmoothingFunction()\n",
      "  warnings.warn(_msg)\n"
     ]
    },
    {
     "name": "stdout",
     "output_type": "stream",
     "text": [
      " BLEU-1: 0.104680\n",
      " BLEU-2: 0.009604\n",
      " BLEU-3: 0.000000\n",
      " BLEU-4: 0.000000\n",
      " test\n",
      " src=[mach ne fliege], target=[go away], predicted=[home ive]\n",
      " src=[sie ist gerade gegangen], target=[she just left], predicted=[is it youre better]\n",
      " src=[ich bin immer noch hier], target=[im still here], predicted=[i a use in]\n",
      " src=[koche fur mich], target=[cook for me], predicted=[sick do do]\n",
      " src=[ich bin ein moslem], target=[i am a muslim], predicted=[i a that diabetic]\n",
      " src=[er lugt], target=[hes lying], predicted=[he it]\n",
      " src=[ich hoffe es], target=[i hope so], predicted=[i care i]\n",
      " src=[wer hat dich geschlagen], target=[who hit you], predicted=[were go is]\n",
      " src=[ich war verwirrt], target=[i was confused], predicted=[i are late]\n",
      " src=[verzieh dich], target=[get lost], predicted=[home ill]\n",
      " BLEU-1: 0.103321\n",
      " BLEU-2: 0.000000\n",
      " BLEU-3: 0.000000\n",
      " BLEU-4: 0.000000\n"
     ]
    },
    {
     "name": "stderr",
     "output_type": "stream",
     "text": [
      "C:\\Users\\Lenovo\\anaconda3\\lib\\site-packages\\nltk\\translate\\bleu_score.py:552: UserWarning: \n",
      "The hypothesis contains 0 counts of 2-gram overlaps.\n",
      "Therefore the BLEU score evaluates to 0, independently of\n",
      "how many N-gram overlaps of lower order it contains.\n",
      "Consider using lower n-gram order or use SmoothingFunction()\n",
      "  warnings.warn(_msg)\n"
     ]
    }
   ],
   "source": [
    "print(' train' )\n",
    "evaluate_model(model_en2ge, trainX, train) \n",
    "# test on some test sequences \n",
    "print(' test' )\n",
    "evaluate_model(model_en2ge, testX, test)"
   ]
  },
  {
   "cell_type": "code",
   "execution_count": 19,
   "id": "8fbf9eb8",
   "metadata": {},
   "outputs": [
    {
     "data": {
      "text/plain": [
       "'ich mag dich'"
      ]
     },
     "execution_count": 19,
     "metadata": {},
     "output_type": "execute_result"
    }
   ],
   "source": [
    "eng_lang_txt = ['I like you']\n",
    "eng_txt_encoded = encode_sequences(eng_tokenizer,eng_length,eng_lang_txt)\n",
    "predict_sequence(model_en2ge,ger_tokenizer,eng_txt_encoded)"
   ]
  },
  {
   "cell_type": "code",
   "execution_count": null,
   "id": "27b27ca0",
   "metadata": {},
   "outputs": [],
   "source": []
  }
 ],
 "metadata": {
  "kernelspec": {
   "display_name": "Python 3 (ipykernel)",
   "language": "python",
   "name": "python3"
  },
  "language_info": {
   "codemirror_mode": {
    "name": "ipython",
    "version": 3
   },
   "file_extension": ".py",
   "mimetype": "text/x-python",
   "name": "python",
   "nbconvert_exporter": "python",
   "pygments_lexer": "ipython3",
   "version": "3.9.12"
  }
 },
 "nbformat": 4,
 "nbformat_minor": 5
}
