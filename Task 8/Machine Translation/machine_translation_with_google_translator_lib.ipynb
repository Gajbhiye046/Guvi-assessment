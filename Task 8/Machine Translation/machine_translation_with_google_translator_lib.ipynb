{
 "cells": [
  {
   "cell_type": "markdown",
   "id": "799ba3ed",
   "metadata": {},
   "source": [
    "## Task-1\n",
    " You need to translate each word or sentence from English to Spanish, French and German."
   ]
  },
  {
   "cell_type": "code",
   "execution_count": 2,
   "id": "47df3a06",
   "metadata": {},
   "outputs": [
    {
     "name": "stdout",
     "output_type": "stream",
     "text": [
      "Collecting deep-translator\n",
      "  Downloading deep_translator-1.9.1-py3-none-any.whl (30 kB)\n",
      "Requirement already satisfied: beautifulsoup4<5.0.0,>=4.9.1 in c:\\users\\lenovo\\anaconda3\\lib\\site-packages (from deep-translator) (4.11.1)\n",
      "Requirement already satisfied: requests<3.0.0,>=2.23.0 in c:\\users\\lenovo\\anaconda3\\lib\\site-packages (from deep-translator) (2.27.1)\n",
      "Requirement already satisfied: soupsieve>1.2 in c:\\users\\lenovo\\anaconda3\\lib\\site-packages (from beautifulsoup4<5.0.0,>=4.9.1->deep-translator) (2.3.1)\n",
      "Requirement already satisfied: certifi>=2017.4.17 in c:\\users\\lenovo\\anaconda3\\lib\\site-packages (from requests<3.0.0,>=2.23.0->deep-translator) (2021.10.8)\n",
      "Requirement already satisfied: urllib3<1.27,>=1.21.1 in c:\\users\\lenovo\\anaconda3\\lib\\site-packages (from requests<3.0.0,>=2.23.0->deep-translator) (1.26.9)\n",
      "Requirement already satisfied: idna<4,>=2.5 in c:\\users\\lenovo\\anaconda3\\lib\\site-packages (from requests<3.0.0,>=2.23.0->deep-translator) (3.3)\n",
      "Requirement already satisfied: charset-normalizer~=2.0.0 in c:\\users\\lenovo\\anaconda3\\lib\\site-packages (from requests<3.0.0,>=2.23.0->deep-translator) (2.0.4)\n",
      "Installing collected packages: deep-translator\n",
      "Successfully installed deep-translator-1.9.1\n"
     ]
    }
   ],
   "source": [
    "#! pip install -U deep-translator"
   ]
  },
  {
   "cell_type": "code",
   "execution_count": 1,
   "id": "945e0ddd",
   "metadata": {},
   "outputs": [],
   "source": [
    "from deep_translator import GoogleTranslator\n",
    "translated = GoogleTranslator(source='en', target='de').translate(\"keep it up, you are awesome\")  \n",
    "# output -> Weiter so, du bist großartig\n",
    "print(translated)"
   ]
  },
  {
   "cell_type": "code",
   "execution_count": 4,
   "id": "7e1fa9f6",
   "metadata": {},
   "outputs": [
    {
     "name": "stdout",
     "output_type": "stream",
     "text": [
      "sigue así, eres genial\n"
     ]
    }
   ],
   "source": [
    "translated = GoogleTranslator(source='en', target='spanish').translate(\"keep it up, you are awesome\")  \n",
    "# output -> Weiter so, du bist großartig\n",
    "print(translated)"
   ]
  },
  {
   "cell_type": "code",
   "execution_count": 5,
   "id": "55774f56",
   "metadata": {},
   "outputs": [
    {
     "name": "stdout",
     "output_type": "stream",
     "text": [
      "continue comme ça tu es génial\n"
     ]
    }
   ],
   "source": [
    "translated = GoogleTranslator(source='en', target='french').translate(\"keep it up, you are awesome\")  \n",
    "# output -> Weiter so, du bist großartig\n",
    "print(translated)"
   ]
  },
  {
   "cell_type": "code",
   "execution_count": 6,
   "id": "30330f11",
   "metadata": {},
   "outputs": [
    {
     "name": "stdout",
     "output_type": "stream",
     "text": [
      "keep it up you are awesome\n"
     ]
    }
   ],
   "source": [
    "translated = GoogleTranslator(source='french', target='english').translate(\"continue comme ça tu es génial\")  \n",
    "# output -> Weiter so, du bist großartig\n",
    "print(translated)"
   ]
  },
  {
   "cell_type": "code",
   "execution_count": null,
   "id": "35611502",
   "metadata": {},
   "outputs": [],
   "source": []
  }
 ],
 "metadata": {
  "kernelspec": {
   "display_name": "Python 3 (ipykernel)",
   "language": "python",
   "name": "python3"
  },
  "language_info": {
   "codemirror_mode": {
    "name": "ipython",
    "version": 3
   },
   "file_extension": ".py",
   "mimetype": "text/x-python",
   "name": "python",
   "nbconvert_exporter": "python",
   "pygments_lexer": "ipython3",
   "version": "3.9.12"
  }
 },
 "nbformat": 4,
 "nbformat_minor": 5
}
