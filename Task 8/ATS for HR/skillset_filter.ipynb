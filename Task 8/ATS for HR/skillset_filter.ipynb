{
 "cells": [
  {
   "cell_type": "markdown",
   "id": "e6489676",
   "metadata": {},
   "source": [
    "## Task-3\n",
    "Create an application that should be used by the HR Team to filter the resume based on the Skills"
   ]
  },
  {
   "cell_type": "code",
   "execution_count": null,
   "id": "556354ee",
   "metadata": {},
   "outputs": [],
   "source": [
    "#!pip install PyPDF2"
   ]
  },
  {
   "cell_type": "markdown",
   "id": "fb0e3e95",
   "metadata": {},
   "source": [
    "## Resume 1"
   ]
  },
  {
   "cell_type": "code",
   "execution_count": 85,
   "id": "70c9e0f6",
   "metadata": {},
   "outputs": [
    {
     "name": "stdout",
     "output_type": "stream",
     "text": [
      "Number of pages in pdf :  1\n",
      "Contents of the pdf :\n",
      " Christopher Morgan\n",
      "Address:  177 Great Portland Street, London W5W 6PQ\n",
      "Phone:  +44 (0)20 7666 8555 \n",
      "Email:  christoper.morgan@gmail.com\n",
      "OBJECTIVE  Provide analysis data support in a company as Data Analyst.\n",
      "WORK\n",
      "EXPERIENCE04/2014 - 04/018\n",
      "Data Analyst, GHT Company, Madrid Spain\n",
      "Responsibilities:\n",
      "Establish operation strategy in a team for improving \n",
      "sales\n",
      "Prepare data and information for making regular report \n",
      "data analysis\n",
      "Perform data analysis for complex data and files\n",
      "03/2012 – 05/2014\n",
      "Data Analyst, Startup Corporation, Madrid Spain\n",
      "Responsibilities:\n",
      "Composed Java program for interfacing with Oracle \n",
      "database\n",
      "Performed data analysis especially financial data\n",
      "Performed statistical data analysis using STATA\n",
      "Showed data analysis in regular meetings for creating \n",
      "new program\n",
      "EDUCATION  2004 - 2008\n",
      "Bachelor Degree of Computer Science , Technical University\n",
      "of Madrid\n",
      "2002 - 2004\n",
      "Certified as Data Analyst , Data Analyst Certification , \n",
      "Technical University of Madrid\n",
      "ADDITIONAL\n",
      "SKILLS  Microsoft Office package: Microsoft Word, Excel, Access\n",
      "Database operation: Microsoft Office Access, Oracle 8i\n",
      "Statistical operation: SPSS, STATA\n",
      "Programming: C++, SQL, HTML\n",
      "REFERENCES  References available on request\n"
     ]
    }
   ],
   "source": [
    "import PyPDF2\n",
    "with open(\"resume_01.pdf\", 'rb') as f:\n",
    "    #pdfFileReader() reads the text  form the pdf\n",
    "    pdf_reader = PyPDF2.PdfFileReader(f) \n",
    "\n",
    "    num_pages = pdf_reader.numPages \n",
    "    print('Number of pages in pdf : ',num_pages)\n",
    "    \n",
    "    #getPage()reads the text of a specific page. Here the parameter 0 indicates the first page of the pdf\n",
    "    page_one = pdf_reader.getPage(0)\n",
    "\n",
    "    #Finally the extractText() extracts the the texts in a text format of page 1. \n",
    "    page_text = page_one.extractText()\n",
    "    print('Contents of the pdf :\\n',page_text)\n"
   ]
  },
  {
   "cell_type": "code",
   "execution_count": 86,
   "id": "d8aad517",
   "metadata": {},
   "outputs": [
    {
     "data": {
      "text/plain": [
       "'Christopher Morgan\\nAddress:  177 Great Portland Street, London W5W 6PQ\\nPhone:  +44 (0)20 7666 8555 \\nEmail:  christoper.morgan@gmail.com\\nOBJECTIVE  Provide analysis data support in a company as Data Analyst.\\nWORK\\nEXPERIENCE04/2014 - 04/018\\nData Analyst, GHT Company, Madrid Spain\\nResponsibilities:\\n\\uf0b7Establish operation strategy in a team for improving \\nsales\\n\\uf0b7Prepare data and information for making regular report \\ndata analysis\\n\\uf0b7Perform data analysis for complex data and files\\n03/2012 – 05/2014\\nData Analyst, Startup Corporation, Madrid Spain\\nResponsibilities:\\n\\uf0b7Composed Java program for interfacing with Oracle \\ndatabase\\n\\uf0b7Performed data analysis especially financial data\\n\\uf0b7Performed statistical data analysis using STATA\\n\\uf0b7Showed data analysis in regular meetings for creating \\nnew program\\nEDUCATION  2004 - 2008\\nBachelor Degree of Computer Science , Technical University\\nof Madrid\\n2002 - 2004\\nCertified as Data Analyst , Data Analyst Certification , \\nTechnical University of Madrid\\nADDITIONAL\\nSKILLS  Microsoft Office package: Microsoft Word, Excel, Access\\nDatabase operation: Microsoft Office Access, Oracle 8i\\nStatistical operation: SPSS, STATA\\nProgramming: C++, SQL, HTML\\nREFERENCES  References available on request'"
      ]
     },
     "execution_count": 86,
     "metadata": {},
     "output_type": "execute_result"
    }
   ],
   "source": [
    "page_text"
   ]
  },
  {
   "cell_type": "code",
   "execution_count": 87,
   "id": "f5dd8297",
   "metadata": {},
   "outputs": [
    {
     "data": {
      "text/plain": [
       "str"
      ]
     },
     "execution_count": 87,
     "metadata": {},
     "output_type": "execute_result"
    }
   ],
   "source": [
    "type(page_text)"
   ]
  },
  {
   "cell_type": "code",
   "execution_count": 88,
   "id": "fdbf3312",
   "metadata": {},
   "outputs": [],
   "source": [
    "splitted_txt = re.split('\\n',page_text)"
   ]
  },
  {
   "cell_type": "code",
   "execution_count": 89,
   "id": "152282a8",
   "metadata": {},
   "outputs": [],
   "source": [
    "for i in range(len(splitted_txt)):\n",
    "    if re.search('^skill?',splitted_txt[i].lower()):\n",
    "        start_index = i\n",
    "    if re.search('^reference?',splitted_txt[i].lower()):\n",
    "        end_index = i"
   ]
  },
  {
   "cell_type": "code",
   "execution_count": 90,
   "id": "b2b509ba",
   "metadata": {},
   "outputs": [
    {
     "data": {
      "text/plain": [
       "(30, 34)"
      ]
     },
     "execution_count": 90,
     "metadata": {},
     "output_type": "execute_result"
    }
   ],
   "source": [
    "start_index,end_index"
   ]
  },
  {
   "cell_type": "code",
   "execution_count": 93,
   "id": "f8a943eb",
   "metadata": {},
   "outputs": [
    {
     "data": {
      "text/plain": [
       "['SKILLS  Microsoft Office package: Microsoft Word, Excel, Access',\n",
       " 'Database operation: Microsoft Office Access, Oracle 8i',\n",
       " 'Statistical operation: SPSS, STATA',\n",
       " 'Programming: C++, SQL, HTML']"
      ]
     },
     "execution_count": 93,
     "metadata": {},
     "output_type": "execute_result"
    }
   ],
   "source": [
    "splitted_txt[start_index:end_index]"
   ]
  },
  {
   "cell_type": "code",
   "execution_count": 91,
   "id": "6bdc0a3d",
   "metadata": {},
   "outputs": [],
   "source": [
    "list_with_skills = splitted_txt[start_index:end_index]"
   ]
  },
  {
   "cell_type": "code",
   "execution_count": 95,
   "id": "ffe6e82a",
   "metadata": {},
   "outputs": [
    {
     "name": "stdout",
     "output_type": "stream",
     "text": [
      "['skills microsoft office package: microsoft word, excel, access']\n",
      "['skills microsoft office package: microsoft word, excel, access', 'database operation: microsoft office access, oracle 8i']\n",
      "['skills microsoft office package: microsoft word, excel, access', 'database operation: microsoft office access, oracle 8i', 'statistical operation: spss, stata']\n",
      "['skills microsoft office package: microsoft word, excel, access', 'database operation: microsoft office access, oracle 8i', 'statistical operation: spss, stata', 'programming: c++, sql, html']\n"
     ]
    }
   ],
   "source": [
    "cleaned_list = clean_list(list_with_skills)"
   ]
  },
  {
   "cell_type": "code",
   "execution_count": 96,
   "id": "8619aed2",
   "metadata": {},
   "outputs": [
    {
     "name": "stdout",
     "output_type": "stream",
     "text": [
      "Skillset :\n",
      " skills microsoft office package: microsoft word, excel, access,database operation: microsoft office access, oracle 8i,statistical operation: spss, stata,programming: c++, sql, html\n"
     ]
    }
   ],
   "source": [
    "joined = \",\".join(cleaned_list)\n",
    "print('Skillset :\\n',joined)"
   ]
  },
  {
   "cell_type": "markdown",
   "id": "931c59e1",
   "metadata": {},
   "source": [
    "### Resume 2"
   ]
  },
  {
   "cell_type": "code",
   "execution_count": 102,
   "id": "dace7851",
   "metadata": {},
   "outputs": [
    {
     "name": "stdout",
     "output_type": "stream",
     "text": [
      "Number of pages in pdf :  1\n",
      "Contents of the pdf :\n",
      " Elizabeth  Holmes\n",
      " +1 (970) 333-3833\n",
      "elizabeth.holmes@coolfreecv.com\n",
      "Store Manager  equipped with extensive experience in \n",
      "automotive sales management. Employs excellent leadership \n",
      "skills and multi-tasking strengths. Demonstrated ability to \n",
      "improve store operations, increase top line sales,                        \n",
      "and reduce costs.\n",
      "Experience\n",
      "09/2015 to 05/2019\n",
      "Store Manager\n",
      "LUXURY CAR CENTER , New York\n",
      "Motivate and coach employees to meet service, sales, \n",
      "and repair goals.\n",
      "Create and modify employee schedules with service \n",
      "levels in mind.\n",
      "Recruit and hire top mechanics, service advisors, and \n",
      "sales people.\n",
      "Maintain detailed logs and reports of services \n",
      "performed, profit, and budget information.\n",
      "Help out in sales and repair areas as needed and \n",
      "maintain comprehensive current knowledge of \n",
      "operations.\n",
      "09/2014 to 09/2015\n",
      "Store Manager \n",
      "JAPAN CAR CENTER,  New York\n",
      "Answered customer questions and resolved service \n",
      "issues in a timely manner.\n",
      "Diagnosed customer issues by asking probing questions \n",
      "and write up repair orders.\n",
      "Ordered supplies and kept inventory at optimal levels.\n",
      "Coordinated equipment repairs and maintenance.Highlights\n",
      "Results-oriented\n",
      "Revenue generation\n",
      "Business development\n",
      "Effective marketing\n",
      "Organisational capacity\n",
      "Operability and \n",
      "commitment\n",
      "Ability to motivate staff \n",
      "and maintain good \n",
      "relations\n",
      "Resistance to stress\n",
      "Good manners\n",
      "Education\n",
      "Bachelor of Science: Automotive \n",
      "Technology - 2014\n",
      "Technical Institute, NY\n",
      "Hobbies\n",
      "Playing chess - great way \n",
      "to unwind, destress, and \n",
      "keep the mind sharp.\n",
      "\n"
     ]
    }
   ],
   "source": [
    "import PyPDF2\n",
    "import re\n",
    "with open(\"resume_02.pdf\", 'rb') as f:\n",
    "    #pdfFileReader() reads the text  form the pdf\n",
    "    pdf_reader = PyPDF2.PdfFileReader(f) \n",
    "\n",
    "    num_pages = pdf_reader.numPages \n",
    "    print('Number of pages in pdf : ',num_pages)\n",
    "    \n",
    "    #getPage()reads the text of a specific page. Here the parameter 0 indicates the first page of the pdf\n",
    "    page_one = pdf_reader.getPage(0)\n",
    "\n",
    "    #Finally the extractText() extracts the the texts in a text format of page 1. \n",
    "    page_text = page_one.extractText()\n",
    "    print('Contents of the pdf :\\n',page_text)"
   ]
  },
  {
   "cell_type": "code",
   "execution_count": 103,
   "id": "5ecd8f75",
   "metadata": {},
   "outputs": [
    {
     "data": {
      "text/plain": [
       "'Elizabeth  Holmes\\n +1 (970) 333-3833\\nelizabeth.holmes@coolfreecv.com\\nStore Manager  equipped with extensive experience in \\nautomotive sales management. Employs excellent leadership \\nskills and multi-tasking strengths. Demonstrated ability to \\nimprove store operations, increase top line sales,                        \\nand reduce costs.\\nExperience\\n09/2015 to 05/2019\\nStore Manager\\nLUXURY CAR CENTER , New York\\n\\uf0b7Motivate and coach employees to meet service, sales, \\nand repair goals.\\n\\uf0b7Create and modify employee schedules with service \\nlevels in mind.\\n\\uf0b7Recruit and hire top mechanics, service advisors, and \\nsales people.\\n\\uf0b7Maintain detailed logs and reports of services \\nperformed, profit, and budget information.\\n\\uf0b7Help out in sales and repair areas as needed and \\nmaintain comprehensive current knowledge of \\noperations.\\n09/2014 to 09/2015\\nStore Manager \\nJAPAN CAR CENTER,  New York\\n\\uf0b7Answered customer questions and resolved service \\nissues in a timely manner.\\n\\uf0b7Diagnosed customer issues by asking probing questions \\nand write up repair orders.\\n\\uf0b7Ordered supplies and kept inventory at optimal levels.\\n\\uf0b7Coordinated equipment repairs and maintenance.Highlights\\n\\uf0b7Results-oriented\\n\\uf0b7Revenue generation\\n\\uf0b7Business development\\n\\uf0b7Effective marketing\\n\\uf0b7Organisational capacity\\n\\uf0b7Operability and \\ncommitment\\n\\uf0b7Ability to motivate staff \\nand maintain good \\nrelations\\n\\uf0b7Resistance to stress\\n\\uf0b7Good manners\\nEducation\\nBachelor of Science: Automotive \\nTechnology - 2014\\nTechnical Institute, NY\\nHobbies\\n\\uf0b7Playing chess - great way \\nto unwind, destress, and \\nkeep the mind sharp.\\n'"
      ]
     },
     "execution_count": 103,
     "metadata": {},
     "output_type": "execute_result"
    }
   ],
   "source": [
    "page_text"
   ]
  },
  {
   "cell_type": "code",
   "execution_count": 104,
   "id": "ac57df60",
   "metadata": {},
   "outputs": [],
   "source": [
    "import re\n",
    "splitted_txt = re.split('\\n',page_text)"
   ]
  },
  {
   "cell_type": "code",
   "execution_count": 105,
   "id": "a39923db",
   "metadata": {},
   "outputs": [
    {
     "data": {
      "text/plain": [
       "['Elizabeth  Holmes',\n",
       " ' +1 (970) 333-3833',\n",
       " 'elizabeth.holmes@coolfreecv.com',\n",
       " 'Store Manager  equipped with extensive experience in ',\n",
       " 'automotive sales management. Employs excellent leadership ',\n",
       " 'skills and multi-tasking strengths. Demonstrated ability to ',\n",
       " 'improve store operations, increase top line sales,                        ',\n",
       " 'and reduce costs.',\n",
       " 'Experience',\n",
       " '09/2015 to 05/2019',\n",
       " 'Store Manager',\n",
       " 'LUXURY CAR CENTER , New York',\n",
       " '\\uf0b7Motivate and coach employees to meet service, sales, ',\n",
       " 'and repair goals.',\n",
       " '\\uf0b7Create and modify employee schedules with service ',\n",
       " 'levels in mind.',\n",
       " '\\uf0b7Recruit and hire top mechanics, service advisors, and ',\n",
       " 'sales people.',\n",
       " '\\uf0b7Maintain detailed logs and reports of services ',\n",
       " 'performed, profit, and budget information.',\n",
       " '\\uf0b7Help out in sales and repair areas as needed and ',\n",
       " 'maintain comprehensive current knowledge of ',\n",
       " 'operations.',\n",
       " '09/2014 to 09/2015',\n",
       " 'Store Manager ',\n",
       " 'JAPAN CAR CENTER,  New York',\n",
       " '\\uf0b7Answered customer questions and resolved service ',\n",
       " 'issues in a timely manner.',\n",
       " '\\uf0b7Diagnosed customer issues by asking probing questions ',\n",
       " 'and write up repair orders.',\n",
       " '\\uf0b7Ordered supplies and kept inventory at optimal levels.',\n",
       " '\\uf0b7Coordinated equipment repairs and maintenance.Highlights',\n",
       " '\\uf0b7Results-oriented',\n",
       " '\\uf0b7Revenue generation',\n",
       " '\\uf0b7Business development',\n",
       " '\\uf0b7Effective marketing',\n",
       " '\\uf0b7Organisational capacity',\n",
       " '\\uf0b7Operability and ',\n",
       " 'commitment',\n",
       " '\\uf0b7Ability to motivate staff ',\n",
       " 'and maintain good ',\n",
       " 'relations',\n",
       " '\\uf0b7Resistance to stress',\n",
       " '\\uf0b7Good manners',\n",
       " 'Education',\n",
       " 'Bachelor of Science: Automotive ',\n",
       " 'Technology - 2014',\n",
       " 'Technical Institute, NY',\n",
       " 'Hobbies',\n",
       " '\\uf0b7Playing chess - great way ',\n",
       " 'to unwind, destress, and ',\n",
       " 'keep the mind sharp.',\n",
       " '']"
      ]
     },
     "execution_count": 105,
     "metadata": {},
     "output_type": "execute_result"
    }
   ],
   "source": [
    "splitted_txt"
   ]
  },
  {
   "cell_type": "code",
   "execution_count": 106,
   "id": "e2c406ba",
   "metadata": {},
   "outputs": [],
   "source": [
    "for i in range(len(splitted_txt)):\n",
    "    if re.search('highlight?$',splitted_txt[i].lower()):\n",
    "        start_index = i\n",
    "    if re.search('^education',splitted_txt[i].lower()):\n",
    "        end_index = i"
   ]
  },
  {
   "cell_type": "code",
   "execution_count": 107,
   "id": "25f56f9d",
   "metadata": {},
   "outputs": [
    {
     "data": {
      "text/plain": [
       "(30, 44)"
      ]
     },
     "execution_count": 107,
     "metadata": {},
     "output_type": "execute_result"
    }
   ],
   "source": [
    "start_index,end_index"
   ]
  },
  {
   "cell_type": "code",
   "execution_count": 108,
   "id": "bdc9f26f",
   "metadata": {},
   "outputs": [
    {
     "data": {
      "text/plain": [
       "['\\uf0b7Ordered supplies and kept inventory at optimal levels.',\n",
       " '\\uf0b7Coordinated equipment repairs and maintenance.Highlights',\n",
       " '\\uf0b7Results-oriented',\n",
       " '\\uf0b7Revenue generation',\n",
       " '\\uf0b7Business development',\n",
       " '\\uf0b7Effective marketing',\n",
       " '\\uf0b7Organisational capacity',\n",
       " '\\uf0b7Operability and ',\n",
       " 'commitment',\n",
       " '\\uf0b7Ability to motivate staff ',\n",
       " 'and maintain good ',\n",
       " 'relations',\n",
       " '\\uf0b7Resistance to stress',\n",
       " '\\uf0b7Good manners']"
      ]
     },
     "execution_count": 108,
     "metadata": {},
     "output_type": "execute_result"
    }
   ],
   "source": [
    "splitted_txt[start_index:end_index]"
   ]
  },
  {
   "cell_type": "code",
   "execution_count": 109,
   "id": "40f380d8",
   "metadata": {},
   "outputs": [],
   "source": [
    "list_with_skills = splitted_txt[start_index:end_index]"
   ]
  },
  {
   "cell_type": "code",
   "execution_count": 110,
   "id": "aa4f01c1",
   "metadata": {},
   "outputs": [
    {
     "name": "stdout",
     "output_type": "stream",
     "text": [
      "Skillset :\n",
      " skills microsoft office package: microsoft word, excel, access,database operation: microsoft office access, oracle 8i,statistical operation: spss, stata,programming: c++, sql, html\n"
     ]
    }
   ],
   "source": [
    "joined = \",\".join(cleaned_list)\n",
    "print('Skillset :\\n',joined)"
   ]
  },
  {
   "cell_type": "markdown",
   "id": "e919dc7e",
   "metadata": {},
   "source": [
    "### Cleaning the data with regex"
   ]
  },
  {
   "cell_type": "code",
   "execution_count": 114,
   "id": "42d584c1",
   "metadata": {},
   "outputs": [],
   "source": [
    "import string \n",
    "import re \n",
    "def clean_list(skill_list):\n",
    "    # prepare regex for char filtering \n",
    "    #re_punc = re.compile('[%s]' % re.escape(string.punctuation)) \n",
    "    re_print = re.compile('[^%s]' % re.escape(string.printable)) \n",
    "    clean_list = list() \n",
    "    for line in skill_list: \n",
    "        # tokenize on white space \n",
    "        line = line.split() \n",
    "        # convert to lowercase \n",
    "        line = [word.lower() for word in line] \n",
    "        # remove non-printable chars form each token \n",
    "        line = [re_print.sub('' , w) for w in line] \n",
    "        # store as string \n",
    "        clean_list.append(' '.join(line))\n",
    "        #print(clean_list)\n",
    "    return clean_list"
   ]
  },
  {
   "cell_type": "code",
   "execution_count": 115,
   "id": "9f45dc3d",
   "metadata": {},
   "outputs": [],
   "source": [
    "cleaned_list = clean_list(list_with_skills)"
   ]
  },
  {
   "cell_type": "code",
   "execution_count": 113,
   "id": "8e358926",
   "metadata": {},
   "outputs": [
    {
     "name": "stdout",
     "output_type": "stream",
     "text": [
      "Skillset :\n",
      " ordered supplies and kept inventory at optimal levels.,coordinated equipment repairs and maintenance.highlights,results-oriented,revenue generation,business development,effective marketing,organisational capacity,operability and,commitment,ability to motivate staff,and maintain good,relations,resistance to stress,good manners\n"
     ]
    }
   ],
   "source": [
    "joined = \",\".join(cleaned_list)\n",
    "print('Skillset :\\n',joined)"
   ]
  }
 ],
 "metadata": {
  "kernelspec": {
   "display_name": "Python 3 (ipykernel)",
   "language": "python",
   "name": "python3"
  },
  "language_info": {
   "codemirror_mode": {
    "name": "ipython",
    "version": 3
   },
   "file_extension": ".py",
   "mimetype": "text/x-python",
   "name": "python",
   "nbconvert_exporter": "python",
   "pygments_lexer": "ipython3",
   "version": "3.9.12"
  }
 },
 "nbformat": 4,
 "nbformat_minor": 5
}
