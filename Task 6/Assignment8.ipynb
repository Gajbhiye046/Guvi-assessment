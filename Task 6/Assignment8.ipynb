{
  "cells": [
    {
      "cell_type": "markdown",
      "metadata": {
        "id": "Iff-yJOcQO5N"
      },
      "source": [
        "# Assignment8"
      ]
    },
    {
      "cell_type": "code",
      "execution_count": null,
      "metadata": {
        "collapsed": true,
        "id": "fwuZK82BQO5S"
      },
      "outputs": [],
      "source": [
        "import pandas as pd\n",
        "import matplotlib.pyplot as plt\n",
        "import numpy as np\n",
        "from sklearn import linear_model"
      ]
    },
    {
      "cell_type": "markdown",
      "metadata": {
        "id": "pu0J8lBSQO5U"
      },
      "source": [
        "# How Much is Your Car Worth?\n",
        "\n",
        "Data about the retail price of 2005 General Motors cars can be found in `car_data.csv`.\n",
        "\n",
        "The columns are:\n",
        "\n",
        "1. Price: suggested retail price of the used 2005 GM car in excellent condition.\n",
        "2. Mileage: number of miles the car has been driven\n",
        "3. Make: manufacturer of the car such as Saturn, Pontiac, and Chevrolet\n",
        "4. Model: specific models for each car manufacturer such as Ion, Vibe, Cavalier\n",
        "5. Trim (of car): specific type of car model such as SE Sedan 4D, Quad Coupe 2D          \n",
        "6. Type: body type such as sedan, coupe, etc.      \n",
        "7. Cylinder: number of cylinders in the engine        \n",
        "8. Liter: a more specific measure of engine size     \n",
        "9. Doors: number of doors           \n",
        "10. Cruise: indicator variable representing whether the car has cruise control (1 = cruise)\n",
        "11. Sound: indicator variable representing whether the car has upgraded speakers (1 = upgraded)\n",
        "12. Leather: indicator variable representing whether the car has leather seats (1 = leather)\n",
        "\n",
        "## Tasks, Part 1\n",
        "\n",
        "1. Find the linear regression equation for mileage vs price.\n",
        "2. Chart the original data and the equation on the chart.\n",
        "3. Find the equation's $R^2$ score (use the `.score` method) to determine whether the\n",
        "equation is a good fit for this data. (0.8 and greater is considered a strong correlation.)\n",
        "\n",
        "## Tasks, Part 2\n",
        "\n",
        "1. Use mileage, cylinders, liters, doors, cruise, sound, and leather to find the linear regression equation.\n",
        "2. Find the equation's $R^2$ score (use the `.score` method) to determine whether the\n",
        "equation is a good fit for this data. (0.8 and greater is considered a strong correlation.)\n",
        "3. Find the combination of the factors that is the best predictor for price.\n",
        "\n",
        "## Tasks, Hard Mode\n",
        "\n",
        "1. Research dummy variables in scikit-learn to see how to use the make, model, and body type.\n",
        "2. Find the best combination of factors to predict price."
      ]
    },
    {
      "cell_type": "code",
      "execution_count": null,
      "metadata": {
        "id": "4zICHeqqQO5W"
      },
      "outputs": [],
      "source": [
        "df = pd.read_csv(\"car_data.csv\")"
      ]
    },
    {
      "cell_type": "code",
      "source": [
        "df.head()"
      ],
      "metadata": {
        "colab": {
          "base_uri": "https://localhost:8080/",
          "height": 206
        },
        "id": "Npf8JHZ927yT",
        "outputId": "08472ed1-81ed-4143-bf87-fbd73ac846ab"
      },
      "execution_count": null,
      "outputs": [
        {
          "output_type": "execute_result",
          "data": {
            "text/plain": [
              "          Price  Mileage   Make    Model      Trim   Type  Cylinder  Liter  \\\n",
              "0  17314.103129     8221  Buick  Century  Sedan 4D  Sedan         6    3.1   \n",
              "1  17542.036083     9135  Buick  Century  Sedan 4D  Sedan         6    3.1   \n",
              "2  16218.847862    13196  Buick  Century  Sedan 4D  Sedan         6    3.1   \n",
              "3  16336.913140    16342  Buick  Century  Sedan 4D  Sedan         6    3.1   \n",
              "4  16339.170324    19832  Buick  Century  Sedan 4D  Sedan         6    3.1   \n",
              "\n",
              "   Doors  Cruise  Sound  Leather  \n",
              "0      4       1      1        1  \n",
              "1      4       1      1        0  \n",
              "2      4       1      1        0  \n",
              "3      4       1      0        0  \n",
              "4      4       1      0        1  "
            ],
            "text/html": [
              "\n",
              "  <div id=\"df-84b2ac65-921e-4b84-bf16-77891a8688a5\">\n",
              "    <div class=\"colab-df-container\">\n",
              "      <div>\n",
              "<style scoped>\n",
              "    .dataframe tbody tr th:only-of-type {\n",
              "        vertical-align: middle;\n",
              "    }\n",
              "\n",
              "    .dataframe tbody tr th {\n",
              "        vertical-align: top;\n",
              "    }\n",
              "\n",
              "    .dataframe thead th {\n",
              "        text-align: right;\n",
              "    }\n",
              "</style>\n",
              "<table border=\"1\" class=\"dataframe\">\n",
              "  <thead>\n",
              "    <tr style=\"text-align: right;\">\n",
              "      <th></th>\n",
              "      <th>Price</th>\n",
              "      <th>Mileage</th>\n",
              "      <th>Make</th>\n",
              "      <th>Model</th>\n",
              "      <th>Trim</th>\n",
              "      <th>Type</th>\n",
              "      <th>Cylinder</th>\n",
              "      <th>Liter</th>\n",
              "      <th>Doors</th>\n",
              "      <th>Cruise</th>\n",
              "      <th>Sound</th>\n",
              "      <th>Leather</th>\n",
              "    </tr>\n",
              "  </thead>\n",
              "  <tbody>\n",
              "    <tr>\n",
              "      <th>0</th>\n",
              "      <td>17314.103129</td>\n",
              "      <td>8221</td>\n",
              "      <td>Buick</td>\n",
              "      <td>Century</td>\n",
              "      <td>Sedan 4D</td>\n",
              "      <td>Sedan</td>\n",
              "      <td>6</td>\n",
              "      <td>3.1</td>\n",
              "      <td>4</td>\n",
              "      <td>1</td>\n",
              "      <td>1</td>\n",
              "      <td>1</td>\n",
              "    </tr>\n",
              "    <tr>\n",
              "      <th>1</th>\n",
              "      <td>17542.036083</td>\n",
              "      <td>9135</td>\n",
              "      <td>Buick</td>\n",
              "      <td>Century</td>\n",
              "      <td>Sedan 4D</td>\n",
              "      <td>Sedan</td>\n",
              "      <td>6</td>\n",
              "      <td>3.1</td>\n",
              "      <td>4</td>\n",
              "      <td>1</td>\n",
              "      <td>1</td>\n",
              "      <td>0</td>\n",
              "    </tr>\n",
              "    <tr>\n",
              "      <th>2</th>\n",
              "      <td>16218.847862</td>\n",
              "      <td>13196</td>\n",
              "      <td>Buick</td>\n",
              "      <td>Century</td>\n",
              "      <td>Sedan 4D</td>\n",
              "      <td>Sedan</td>\n",
              "      <td>6</td>\n",
              "      <td>3.1</td>\n",
              "      <td>4</td>\n",
              "      <td>1</td>\n",
              "      <td>1</td>\n",
              "      <td>0</td>\n",
              "    </tr>\n",
              "    <tr>\n",
              "      <th>3</th>\n",
              "      <td>16336.913140</td>\n",
              "      <td>16342</td>\n",
              "      <td>Buick</td>\n",
              "      <td>Century</td>\n",
              "      <td>Sedan 4D</td>\n",
              "      <td>Sedan</td>\n",
              "      <td>6</td>\n",
              "      <td>3.1</td>\n",
              "      <td>4</td>\n",
              "      <td>1</td>\n",
              "      <td>0</td>\n",
              "      <td>0</td>\n",
              "    </tr>\n",
              "    <tr>\n",
              "      <th>4</th>\n",
              "      <td>16339.170324</td>\n",
              "      <td>19832</td>\n",
              "      <td>Buick</td>\n",
              "      <td>Century</td>\n",
              "      <td>Sedan 4D</td>\n",
              "      <td>Sedan</td>\n",
              "      <td>6</td>\n",
              "      <td>3.1</td>\n",
              "      <td>4</td>\n",
              "      <td>1</td>\n",
              "      <td>0</td>\n",
              "      <td>1</td>\n",
              "    </tr>\n",
              "  </tbody>\n",
              "</table>\n",
              "</div>\n",
              "      <button class=\"colab-df-convert\" onclick=\"convertToInteractive('df-84b2ac65-921e-4b84-bf16-77891a8688a5')\"\n",
              "              title=\"Convert this dataframe to an interactive table.\"\n",
              "              style=\"display:none;\">\n",
              "        \n",
              "  <svg xmlns=\"http://www.w3.org/2000/svg\" height=\"24px\"viewBox=\"0 0 24 24\"\n",
              "       width=\"24px\">\n",
              "    <path d=\"M0 0h24v24H0V0z\" fill=\"none\"/>\n",
              "    <path d=\"M18.56 5.44l.94 2.06.94-2.06 2.06-.94-2.06-.94-.94-2.06-.94 2.06-2.06.94zm-11 1L8.5 8.5l.94-2.06 2.06-.94-2.06-.94L8.5 2.5l-.94 2.06-2.06.94zm10 10l.94 2.06.94-2.06 2.06-.94-2.06-.94-.94-2.06-.94 2.06-2.06.94z\"/><path d=\"M17.41 7.96l-1.37-1.37c-.4-.4-.92-.59-1.43-.59-.52 0-1.04.2-1.43.59L10.3 9.45l-7.72 7.72c-.78.78-.78 2.05 0 2.83L4 21.41c.39.39.9.59 1.41.59.51 0 1.02-.2 1.41-.59l7.78-7.78 2.81-2.81c.8-.78.8-2.07 0-2.86zM5.41 20L4 18.59l7.72-7.72 1.47 1.35L5.41 20z\"/>\n",
              "  </svg>\n",
              "      </button>\n",
              "      \n",
              "  <style>\n",
              "    .colab-df-container {\n",
              "      display:flex;\n",
              "      flex-wrap:wrap;\n",
              "      gap: 12px;\n",
              "    }\n",
              "\n",
              "    .colab-df-convert {\n",
              "      background-color: #E8F0FE;\n",
              "      border: none;\n",
              "      border-radius: 50%;\n",
              "      cursor: pointer;\n",
              "      display: none;\n",
              "      fill: #1967D2;\n",
              "      height: 32px;\n",
              "      padding: 0 0 0 0;\n",
              "      width: 32px;\n",
              "    }\n",
              "\n",
              "    .colab-df-convert:hover {\n",
              "      background-color: #E2EBFA;\n",
              "      box-shadow: 0px 1px 2px rgba(60, 64, 67, 0.3), 0px 1px 3px 1px rgba(60, 64, 67, 0.15);\n",
              "      fill: #174EA6;\n",
              "    }\n",
              "\n",
              "    [theme=dark] .colab-df-convert {\n",
              "      background-color: #3B4455;\n",
              "      fill: #D2E3FC;\n",
              "    }\n",
              "\n",
              "    [theme=dark] .colab-df-convert:hover {\n",
              "      background-color: #434B5C;\n",
              "      box-shadow: 0px 1px 3px 1px rgba(0, 0, 0, 0.15);\n",
              "      filter: drop-shadow(0px 1px 2px rgba(0, 0, 0, 0.3));\n",
              "      fill: #FFFFFF;\n",
              "    }\n",
              "  </style>\n",
              "\n",
              "      <script>\n",
              "        const buttonEl =\n",
              "          document.querySelector('#df-84b2ac65-921e-4b84-bf16-77891a8688a5 button.colab-df-convert');\n",
              "        buttonEl.style.display =\n",
              "          google.colab.kernel.accessAllowed ? 'block' : 'none';\n",
              "\n",
              "        async function convertToInteractive(key) {\n",
              "          const element = document.querySelector('#df-84b2ac65-921e-4b84-bf16-77891a8688a5');\n",
              "          const dataTable =\n",
              "            await google.colab.kernel.invokeFunction('convertToInteractive',\n",
              "                                                     [key], {});\n",
              "          if (!dataTable) return;\n",
              "\n",
              "          const docLinkHtml = 'Like what you see? Visit the ' +\n",
              "            '<a target=\"_blank\" href=https://colab.research.google.com/notebooks/data_table.ipynb>data table notebook</a>'\n",
              "            + ' to learn more about interactive tables.';\n",
              "          element.innerHTML = '';\n",
              "          dataTable['output_type'] = 'display_data';\n",
              "          await google.colab.output.renderOutput(dataTable, element);\n",
              "          const docLink = document.createElement('div');\n",
              "          docLink.innerHTML = docLinkHtml;\n",
              "          element.appendChild(docLink);\n",
              "        }\n",
              "      </script>\n",
              "    </div>\n",
              "  </div>\n",
              "  "
            ]
          },
          "metadata": {},
          "execution_count": 3
        }
      ]
    },
    {
      "cell_type": "markdown",
      "source": [
        "Task - 1 "
      ],
      "metadata": {
        "id": "4LtT5HiEcj4w"
      }
    },
    {
      "cell_type": "code",
      "source": [
        "X =df['Mileage'].values.reshape(-1,1)\n",
        "y= df['Price']"
      ],
      "metadata": {
        "id": "u_nIFIxz34rF"
      },
      "execution_count": null,
      "outputs": []
    },
    {
      "cell_type": "code",
      "source": [
        "from sklearn.linear_model import LinearRegression\n",
        "from sklearn.model_selection import train_test_split\n",
        "X_train,X_test,y_train,y_test = train_test_split( X, y, test_size=0.30, random_state=42)\n",
        "reg = LinearRegression()\n",
        "reg.fit(X_train,y_train)\n"
      ],
      "metadata": {
        "colab": {
          "base_uri": "https://localhost:8080/"
        },
        "id": "f05g68-w2-xu",
        "outputId": "d35032b1-7e96-40e8-d41c-2558caf44083"
      },
      "execution_count": null,
      "outputs": [
        {
          "output_type": "execute_result",
          "data": {
            "text/plain": [
              "LinearRegression()"
            ]
          },
          "metadata": {},
          "execution_count": 5
        }
      ]
    },
    {
      "cell_type": "code",
      "source": [
        "print('coefficient : ', reg.coef_)\n",
        "print('Intercept : ',reg.intercept_)"
      ],
      "metadata": {
        "colab": {
          "base_uri": "https://localhost:8080/"
        },
        "id": "ZmX1x26O3wZ1",
        "outputId": "7a69ed3a-d30b-4e35-daa8-ebb5a0b890a2"
      },
      "execution_count": null,
      "outputs": [
        {
          "output_type": "stream",
          "name": "stdout",
          "text": [
            "coefficient :  [-0.15275894]\n",
            "Intercept :  24415.28280468836\n"
          ]
        }
      ]
    },
    {
      "cell_type": "code",
      "source": [
        "# Upgrade matplotlib in Colab\n",
        "#!pip install matplotlib --upgrade"
      ],
      "metadata": {
        "id": "fECEEwzm84yF"
      },
      "execution_count": null,
      "outputs": []
    },
    {
      "cell_type": "code",
      "source": [
        "# Plotting\n",
        "df.plot(x='Mileage',y = 'Price', kind = 'scatter')\n",
        "m = reg.coef_\n",
        "b = reg.intercept_\n",
        "plt.axline(xy1=(0, b), slope=m, color='k',linestyle=(0, (5, 5)))"
      ],
      "metadata": {
        "colab": {
          "base_uri": "https://localhost:8080/",
          "height": 296
        },
        "id": "PPUSjF936YG9",
        "outputId": "bce04d92-0609-467d-b0b1-1feb0178246c"
      },
      "execution_count": null,
      "outputs": [
        {
          "output_type": "execute_result",
          "data": {
            "text/plain": [
              "<matplotlib.lines._AxLine at 0x7f81d5cca210>"
            ]
          },
          "metadata": {},
          "execution_count": 8
        },
        {
          "output_type": "display_data",
          "data": {
            "text/plain": [
              "<Figure size 432x288 with 1 Axes>"
            ],
            "image/png": "[encoded data removed]"
          },
          "metadata": {
            "needs_background": "light"
          }
        }
      ]
    },
    {
      "cell_type": "code",
      "source": [
        "reg.score(X,y)"
      ],
      "metadata": {
        "colab": {
          "base_uri": "https://localhost:8080/"
        },
        "id": "1UQ0P26-6f_W",
        "outputId": "5a761246-88fa-439d-9219-d275791dc3a7"
      },
      "execution_count": null,
      "outputs": [
        {
          "output_type": "execute_result",
          "data": {
            "text/plain": [
              "0.02017632446142037"
            ]
          },
          "metadata": {},
          "execution_count": 9
        }
      ]
    },
    {
      "cell_type": "markdown",
      "source": [
        "Task - 2"
      ],
      "metadata": {
        "id": "EeLx46A6Cuow"
      }
    },
    {
      "cell_type": "code",
      "source": [
        "df.head(3)"
      ],
      "metadata": {
        "colab": {
          "base_uri": "https://localhost:8080/",
          "height": 143
        },
        "id": "u2Y6-rObDfrI",
        "outputId": "91f3a0a5-503d-48d8-d1cb-bd597f99e48c"
      },
      "execution_count": null,
      "outputs": [
        {
          "output_type": "execute_result",
          "data": {
            "text/plain": [
              "          Price  Mileage   Make    Model      Trim   Type  Cylinder  Liter  \\\n",
              "0  17314.103129     8221  Buick  Century  Sedan 4D  Sedan         6    3.1   \n",
              "1  17542.036083     9135  Buick  Century  Sedan 4D  Sedan         6    3.1   \n",
              "2  16218.847862    13196  Buick  Century  Sedan 4D  Sedan         6    3.1   \n",
              "\n",
              "   Doors  Cruise  Sound  Leather  \n",
              "0      4       1      1        1  \n",
              "1      4       1      1        0  \n",
              "2      4       1      1        0  "
            ],
            "text/html": [
              "\n",
              "  <div id=\"df-88f4f8f3-235b-4258-b42a-105a5edb630b\">\n",
              "    <div class=\"colab-df-container\">\n",
              "      <div>\n",
              "<style scoped>\n",
              "    .dataframe tbody tr th:only-of-type {\n",
              "        vertical-align: middle;\n",
              "    }\n",
              "\n",
              "    .dataframe tbody tr th {\n",
              "        vertical-align: top;\n",
              "    }\n",
              "\n",
              "    .dataframe thead th {\n",
              "        text-align: right;\n",
              "    }\n",
              "</style>\n",
              "<table border=\"1\" class=\"dataframe\">\n",
              "  <thead>\n",
              "    <tr style=\"text-align: right;\">\n",
              "      <th></th>\n",
              "      <th>Price</th>\n",
              "      <th>Mileage</th>\n",
              "      <th>Make</th>\n",
              "      <th>Model</th>\n",
              "      <th>Trim</th>\n",
              "      <th>Type</th>\n",
              "      <th>Cylinder</th>\n",
              "      <th>Liter</th>\n",
              "      <th>Doors</th>\n",
              "      <th>Cruise</th>\n",
              "      <th>Sound</th>\n",
              "      <th>Leather</th>\n",
              "    </tr>\n",
              "  </thead>\n",
              "  <tbody>\n",
              "    <tr>\n",
              "      <th>0</th>\n",
              "      <td>17314.103129</td>\n",
              "      <td>8221</td>\n",
              "      <td>Buick</td>\n",
              "      <td>Century</td>\n",
              "      <td>Sedan 4D</td>\n",
              "      <td>Sedan</td>\n",
              "      <td>6</td>\n",
              "      <td>3.1</td>\n",
              "      <td>4</td>\n",
              "      <td>1</td>\n",
              "      <td>1</td>\n",
              "      <td>1</td>\n",
              "    </tr>\n",
              "    <tr>\n",
              "      <th>1</th>\n",
              "      <td>17542.036083</td>\n",
              "      <td>9135</td>\n",
              "      <td>Buick</td>\n",
              "      <td>Century</td>\n",
              "      <td>Sedan 4D</td>\n",
              "      <td>Sedan</td>\n",
              "      <td>6</td>\n",
              "      <td>3.1</td>\n",
              "      <td>4</td>\n",
              "      <td>1</td>\n",
              "      <td>1</td>\n",
              "      <td>0</td>\n",
              "    </tr>\n",
              "    <tr>\n",
              "      <th>2</th>\n",
              "      <td>16218.847862</td>\n",
              "      <td>13196</td>\n",
              "      <td>Buick</td>\n",
              "      <td>Century</td>\n",
              "      <td>Sedan 4D</td>\n",
              "      <td>Sedan</td>\n",
              "      <td>6</td>\n",
              "      <td>3.1</td>\n",
              "      <td>4</td>\n",
              "      <td>1</td>\n",
              "      <td>1</td>\n",
              "      <td>0</td>\n",
              "    </tr>\n",
              "  </tbody>\n",
              "</table>\n",
              "</div>\n",
              "      <button class=\"colab-df-convert\" onclick=\"convertToInteractive('df-88f4f8f3-235b-4258-b42a-105a5edb630b')\"\n",
              "              title=\"Convert this dataframe to an interactive table.\"\n",
              "              style=\"display:none;\">\n",
              "        \n",
              "  <svg xmlns=\"http://www.w3.org/2000/svg\" height=\"24px\"viewBox=\"0 0 24 24\"\n",
              "       width=\"24px\">\n",
              "    <path d=\"M0 0h24v24H0V0z\" fill=\"none\"/>\n",
              "    <path d=\"M18.56 5.44l.94 2.06.94-2.06 2.06-.94-2.06-.94-.94-2.06-.94 2.06-2.06.94zm-11 1L8.5 8.5l.94-2.06 2.06-.94-2.06-.94L8.5 2.5l-.94 2.06-2.06.94zm10 10l.94 2.06.94-2.06 2.06-.94-2.06-.94-.94-2.06-.94 2.06-2.06.94z\"/><path d=\"M17.41 7.96l-1.37-1.37c-.4-.4-.92-.59-1.43-.59-.52 0-1.04.2-1.43.59L10.3 9.45l-7.72 7.72c-.78.78-.78 2.05 0 2.83L4 21.41c.39.39.9.59 1.41.59.51 0 1.02-.2 1.41-.59l7.78-7.78 2.81-2.81c.8-.78.8-2.07 0-2.86zM5.41 20L4 18.59l7.72-7.72 1.47 1.35L5.41 20z\"/>\n",
              "  </svg>\n",
              "      </button>\n",
              "      \n",
              "  <style>\n",
              "    .colab-df-container {\n",
              "      display:flex;\n",
              "      flex-wrap:wrap;\n",
              "      gap: 12px;\n",
              "    }\n",
              "\n",
              "    .colab-df-convert {\n",
              "      background-color: #E8F0FE;\n",
              "      border: none;\n",
              "      border-radius: 50%;\n",
              "      cursor: pointer;\n",
              "      display: none;\n",
              "      fill: #1967D2;\n",
              "      height: 32px;\n",
              "      padding: 0 0 0 0;\n",
              "      width: 32px;\n",
              "    }\n",
              "\n",
              "    .colab-df-convert:hover {\n",
              "      background-color: #E2EBFA;\n",
              "      box-shadow: 0px 1px 2px rgba(60, 64, 67, 0.3), 0px 1px 3px 1px rgba(60, 64, 67, 0.15);\n",
              "      fill: #174EA6;\n",
              "    }\n",
              "\n",
              "    [theme=dark] .colab-df-convert {\n",
              "      background-color: #3B4455;\n",
              "      fill: #D2E3FC;\n",
              "    }\n",
              "\n",
              "    [theme=dark] .colab-df-convert:hover {\n",
              "      background-color: #434B5C;\n",
              "      box-shadow: 0px 1px 3px 1px rgba(0, 0, 0, 0.15);\n",
              "      filter: drop-shadow(0px 1px 2px rgba(0, 0, 0, 0.3));\n",
              "      fill: #FFFFFF;\n",
              "    }\n",
              "  </style>\n",
              "\n",
              "      <script>\n",
              "        const buttonEl =\n",
              "          document.querySelector('#df-88f4f8f3-235b-4258-b42a-105a5edb630b button.colab-df-convert');\n",
              "        buttonEl.style.display =\n",
              "          google.colab.kernel.accessAllowed ? 'block' : 'none';\n",
              "\n",
              "        async function convertToInteractive(key) {\n",
              "          const element = document.querySelector('#df-88f4f8f3-235b-4258-b42a-105a5edb630b');\n",
              "          const dataTable =\n",
              "            await google.colab.kernel.invokeFunction('convertToInteractive',\n",
              "                                                     [key], {});\n",
              "          if (!dataTable) return;\n",
              "\n",
              "          const docLinkHtml = 'Like what you see? Visit the ' +\n",
              "            '<a target=\"_blank\" href=https://colab.research.google.com/notebooks/data_table.ipynb>data table notebook</a>'\n",
              "            + ' to learn more about interactive tables.';\n",
              "          element.innerHTML = '';\n",
              "          dataTable['output_type'] = 'display_data';\n",
              "          await google.colab.output.renderOutput(dataTable, element);\n",
              "          const docLink = document.createElement('div');\n",
              "          docLink.innerHTML = docLinkHtml;\n",
              "          element.appendChild(docLink);\n",
              "        }\n",
              "      </script>\n",
              "    </div>\n",
              "  </div>\n",
              "  "
            ]
          },
          "metadata": {},
          "execution_count": 10
        }
      ]
    },
    {
      "cell_type": "code",
      "source": [
        "X =df[['Mileage','Cylinder','Liter','Doors','Cruise','Sound','Leather']]# mileage, cylinders, liters, doors, cruise, sound, and leather\n",
        "y= df['Price']"
      ],
      "metadata": {
        "id": "iWP7XeD58vb7"
      },
      "execution_count": null,
      "outputs": []
    },
    {
      "cell_type": "code",
      "source": [
        "X_train,X_test,y_train,y_test = train_test_split( X, y, test_size=0.3, random_state=42)\n",
        "reg = LinearRegression()\n",
        "reg.fit(X_train,y_train)"
      ],
      "metadata": {
        "colab": {
          "base_uri": "https://localhost:8080/"
        },
        "id": "Rwrgpi0bDg-b",
        "outputId": "3fa46891-08ed-4f56-d962-c43e9dc2f076"
      },
      "execution_count": null,
      "outputs": [
        {
          "output_type": "execute_result",
          "data": {
            "text/plain": [
              "LinearRegression()"
            ]
          },
          "metadata": {},
          "execution_count": 12
        }
      ]
    },
    {
      "cell_type": "code",
      "source": [
        "reg.score(X_test,y_test)"
      ],
      "metadata": {
        "colab": {
          "base_uri": "https://localhost:8080/"
        },
        "id": "w89hrvFGEBH-",
        "outputId": "4f40d310-18e2-4609-bb27-40acbe97d7ca"
      },
      "execution_count": null,
      "outputs": [
        {
          "output_type": "execute_result",
          "data": {
            "text/plain": [
              "0.41764441846001077"
            ]
          },
          "metadata": {},
          "execution_count": 13
        }
      ]
    },
    {
      "cell_type": "markdown",
      "source": [
        "Tasks - Hard Mode"
      ],
      "metadata": {
        "id": "GqTtfIKUcoML"
      }
    },
    {
      "cell_type": "code",
      "source": [
        "import seaborn as sb\n",
        "# plotting correlation heatmap\n",
        "dataplot = sb.heatmap(X.corr(), cmap=\"YlGnBu\", annot=True)\n",
        "  \n",
        "# displaying heatmap\n",
        "plt.show()"
      ],
      "metadata": {
        "colab": {
          "base_uri": "https://localhost:8080/",
          "height": 301
        },
        "id": "tOLqs28vED6O",
        "outputId": "f0a8cb2d-85ee-45f8-f8f1-ee25b8e09047"
      },
      "execution_count": null,
      "outputs": [
        {
          "output_type": "display_data",
          "data": {
            "text/plain": [
              "<Figure size 432x288 with 2 Axes>"
            ],
            "image/png": "[encoded data removed]"
          },
          "metadata": {
            "needs_background": "light"
          }
        }
      ]
    },
    {
      "cell_type": "code",
      "source": [
        "from sklearn.preprocessing import OneHotEncoder# creating instance of one-hot-encoder\n",
        "enc = OneHotEncoder(handle_unknown='ignore')# passing Categorical column\n",
        "enc_df = pd.DataFrame(enc.fit_transform(df[['Make',\t'Model','Trim','Type']]).toarray())# merge with remainiing dataset\n",
        "X_encode = X.join(enc_df)\n",
        "X_encode.head(5)"
      ],
      "metadata": {
        "colab": {
          "base_uri": "https://localhost:8080/",
          "height": 235
        },
        "id": "BN3PRdt7UwcY",
        "outputId": "ba3c9c1e-e2c3-4a1c-da52-01cbe47b1759"
      },
      "execution_count": null,
      "outputs": [
        {
          "output_type": "execute_result",
          "data": {
            "text/plain": [
              "   Mileage  Cylinder  Liter  Doors  Cruise  Sound  Leather    0    1    2  \\\n",
              "0     8221         6    3.1      4       1      1        1  1.0  0.0  0.0   \n",
              "1     9135         6    3.1      4       1      1        0  1.0  0.0  0.0   \n",
              "2    13196         6    3.1      4       1      1        0  1.0  0.0  0.0   \n",
              "3    16342         6    3.1      4       1      0        0  1.0  0.0  0.0   \n",
              "4    19832         6    3.1      4       1      0        1  1.0  0.0  0.0   \n",
              "\n",
              "   ...   80   81   82   83   84   85   86   87   88   89  \n",
              "0  ...  0.0  0.0  1.0  0.0  0.0  0.0  0.0  0.0  1.0  0.0  \n",
              "1  ...  0.0  0.0  1.0  0.0  0.0  0.0  0.0  0.0  1.0  0.0  \n",
              "2  ...  0.0  0.0  1.0  0.0  0.0  0.0  0.0  0.0  1.0  0.0  \n",
              "3  ...  0.0  0.0  1.0  0.0  0.0  0.0  0.0  0.0  1.0  0.0  \n",
              "4  ...  0.0  0.0  1.0  0.0  0.0  0.0  0.0  0.0  1.0  0.0  \n",
              "\n",
              "[5 rows x 97 columns]"
            ],
            "text/html": [
              "\n",
              "  <div id=\"df-37528f3c-75e1-4599-baba-e00c71081f79\">\n",
              "    <div class=\"colab-df-container\">\n",
              "      <div>\n",
              "<style scoped>\n",
              "    .dataframe tbody tr th:only-of-type {\n",
              "        vertical-align: middle;\n",
              "    }\n",
              "\n",
              "    .dataframe tbody tr th {\n",
              "        vertical-align: top;\n",
              "    }\n",
              "\n",
              "    .dataframe thead th {\n",
              "        text-align: right;\n",
              "    }\n",
              "</style>\n",
              "<table border=\"1\" class=\"dataframe\">\n",
              "  <thead>\n",
              "    <tr style=\"text-align: right;\">\n",
              "      <th></th>\n",
              "      <th>Mileage</th>\n",
              "      <th>Cylinder</th>\n",
              "      <th>Liter</th>\n",
              "      <th>Doors</th>\n",
              "      <th>Cruise</th>\n",
              "      <th>Sound</th>\n",
              "      <th>Leather</th>\n",
              "      <th>0</th>\n",
              "      <th>1</th>\n",
              "      <th>2</th>\n",
              "      <th>...</th>\n",
              "      <th>80</th>\n",
              "      <th>81</th>\n",
              "      <th>82</th>\n",
              "      <th>83</th>\n",
              "      <th>84</th>\n",
              "      <th>85</th>\n",
              "      <th>86</th>\n",
              "      <th>87</th>\n",
              "      <th>88</th>\n",
              "      <th>89</th>\n",
              "    </tr>\n",
              "  </thead>\n",
              "  <tbody>\n",
              "    <tr>\n",
              "      <th>0</th>\n",
              "      <td>8221</td>\n",
              "      <td>6</td>\n",
              "      <td>3.1</td>\n",
              "      <td>4</td>\n",
              "      <td>1</td>\n",
              "      <td>1</td>\n",
              "      <td>1</td>\n",
              "      <td>1.0</td>\n",
              "      <td>0.0</td>\n",
              "      <td>0.0</td>\n",
              "      <td>...</td>\n",
              "      <td>0.0</td>\n",
              "      <td>0.0</td>\n",
              "      <td>1.0</td>\n",
              "      <td>0.0</td>\n",
              "      <td>0.0</td>\n",
              "      <td>0.0</td>\n",
              "      <td>0.0</td>\n",
              "      <td>0.0</td>\n",
              "      <td>1.0</td>\n",
              "      <td>0.0</td>\n",
              "    </tr>\n",
              "    <tr>\n",
              "      <th>1</th>\n",
              "      <td>9135</td>\n",
              "      <td>6</td>\n",
              "      <td>3.1</td>\n",
              "      <td>4</td>\n",
              "      <td>1</td>\n",
              "      <td>1</td>\n",
              "      <td>0</td>\n",
              "      <td>1.0</td>\n",
              "      <td>0.0</td>\n",
              "      <td>0.0</td>\n",
              "      <td>...</td>\n",
              "      <td>0.0</td>\n",
              "      <td>0.0</td>\n",
              "      <td>1.0</td>\n",
              "      <td>0.0</td>\n",
              "      <td>0.0</td>\n",
              "      <td>0.0</td>\n",
              "      <td>0.0</td>\n",
              "      <td>0.0</td>\n",
              "      <td>1.0</td>\n",
              "      <td>0.0</td>\n",
              "    </tr>\n",
              "    <tr>\n",
              "      <th>2</th>\n",
              "      <td>13196</td>\n",
              "      <td>6</td>\n",
              "      <td>3.1</td>\n",
              "      <td>4</td>\n",
              "      <td>1</td>\n",
              "      <td>1</td>\n",
              "      <td>0</td>\n",
              "      <td>1.0</td>\n",
              "      <td>0.0</td>\n",
              "      <td>0.0</td>\n",
              "      <td>...</td>\n",
              "      <td>0.0</td>\n",
              "      <td>0.0</td>\n",
              "      <td>1.0</td>\n",
              "      <td>0.0</td>\n",
              "      <td>0.0</td>\n",
              "      <td>0.0</td>\n",
              "      <td>0.0</td>\n",
              "      <td>0.0</td>\n",
              "      <td>1.0</td>\n",
              "      <td>0.0</td>\n",
              "    </tr>\n",
              "    <tr>\n",
              "      <th>3</th>\n",
              "      <td>16342</td>\n",
              "      <td>6</td>\n",
              "      <td>3.1</td>\n",
              "      <td>4</td>\n",
              "      <td>1</td>\n",
              "      <td>0</td>\n",
              "      <td>0</td>\n",
              "      <td>1.0</td>\n",
              "      <td>0.0</td>\n",
              "      <td>0.0</td>\n",
              "      <td>...</td>\n",
              "      <td>0.0</td>\n",
              "      <td>0.0</td>\n",
              "      <td>1.0</td>\n",
              "      <td>0.0</td>\n",
              "      <td>0.0</td>\n",
              "      <td>0.0</td>\n",
              "      <td>0.0</td>\n",
              "      <td>0.0</td>\n",
              "      <td>1.0</td>\n",
              "      <td>0.0</td>\n",
              "    </tr>\n",
              "    <tr>\n",
              "      <th>4</th>\n",
              "      <td>19832</td>\n",
              "      <td>6</td>\n",
              "      <td>3.1</td>\n",
              "      <td>4</td>\n",
              "      <td>1</td>\n",
              "      <td>0</td>\n",
              "      <td>1</td>\n",
              "      <td>1.0</td>\n",
              "      <td>0.0</td>\n",
              "      <td>0.0</td>\n",
              "      <td>...</td>\n",
              "      <td>0.0</td>\n",
              "      <td>0.0</td>\n",
              "      <td>1.0</td>\n",
              "      <td>0.0</td>\n",
              "      <td>0.0</td>\n",
              "      <td>0.0</td>\n",
              "      <td>0.0</td>\n",
              "      <td>0.0</td>\n",
              "      <td>1.0</td>\n",
              "      <td>0.0</td>\n",
              "    </tr>\n",
              "  </tbody>\n",
              "</table>\n",
              "<p>5 rows × 97 columns</p>\n",
              "</div>\n",
              "      <button class=\"colab-df-convert\" onclick=\"convertToInteractive('df-37528f3c-75e1-4599-baba-e00c71081f79')\"\n",
              "              title=\"Convert this dataframe to an interactive table.\"\n",
              "              style=\"display:none;\">\n",
              "        \n",
              "  <svg xmlns=\"http://www.w3.org/2000/svg\" height=\"24px\"viewBox=\"0 0 24 24\"\n",
              "       width=\"24px\">\n",
              "    <path d=\"M0 0h24v24H0V0z\" fill=\"none\"/>\n",
              "    <path d=\"M18.56 5.44l.94 2.06.94-2.06 2.06-.94-2.06-.94-.94-2.06-.94 2.06-2.06.94zm-11 1L8.5 8.5l.94-2.06 2.06-.94-2.06-.94L8.5 2.5l-.94 2.06-2.06.94zm10 10l.94 2.06.94-2.06 2.06-.94-2.06-.94-.94-2.06-.94 2.06-2.06.94z\"/><path d=\"M17.41 7.96l-1.37-1.37c-.4-.4-.92-.59-1.43-.59-.52 0-1.04.2-1.43.59L10.3 9.45l-7.72 7.72c-.78.78-.78 2.05 0 2.83L4 21.41c.39.39.9.59 1.41.59.51 0 1.02-.2 1.41-.59l7.78-7.78 2.81-2.81c.8-.78.8-2.07 0-2.86zM5.41 20L4 18.59l7.72-7.72 1.47 1.35L5.41 20z\"/>\n",
              "  </svg>\n",
              "      </button>\n",
              "      \n",
              "  <style>\n",
              "    .colab-df-container {\n",
              "      display:flex;\n",
              "      flex-wrap:wrap;\n",
              "      gap: 12px;\n",
              "    }\n",
              "\n",
              "    .colab-df-convert {\n",
              "      background-color: #E8F0FE;\n",
              "      border: none;\n",
              "      border-radius: 50%;\n",
              "      cursor: pointer;\n",
              "      display: none;\n",
              "      fill: #1967D2;\n",
              "      height: 32px;\n",
              "      padding: 0 0 0 0;\n",
              "      width: 32px;\n",
              "    }\n",
              "\n",
              "    .colab-df-convert:hover {\n",
              "      background-color: #E2EBFA;\n",
              "      box-shadow: 0px 1px 2px rgba(60, 64, 67, 0.3), 0px 1px 3px 1px rgba(60, 64, 67, 0.15);\n",
              "      fill: #174EA6;\n",
              "    }\n",
              "\n",
              "    [theme=dark] .colab-df-convert {\n",
              "      background-color: #3B4455;\n",
              "      fill: #D2E3FC;\n",
              "    }\n",
              "\n",
              "    [theme=dark] .colab-df-convert:hover {\n",
              "      background-color: #434B5C;\n",
              "      box-shadow: 0px 1px 3px 1px rgba(0, 0, 0, 0.15);\n",
              "      filter: drop-shadow(0px 1px 2px rgba(0, 0, 0, 0.3));\n",
              "      fill: #FFFFFF;\n",
              "    }\n",
              "  </style>\n",
              "\n",
              "      <script>\n",
              "        const buttonEl =\n",
              "          document.querySelector('#df-37528f3c-75e1-4599-baba-e00c71081f79 button.colab-df-convert');\n",
              "        buttonEl.style.display =\n",
              "          google.colab.kernel.accessAllowed ? 'block' : 'none';\n",
              "\n",
              "        async function convertToInteractive(key) {\n",
              "          const element = document.querySelector('#df-37528f3c-75e1-4599-baba-e00c71081f79');\n",
              "          const dataTable =\n",
              "            await google.colab.kernel.invokeFunction('convertToInteractive',\n",
              "                                                     [key], {});\n",
              "          if (!dataTable) return;\n",
              "\n",
              "          const docLinkHtml = 'Like what you see? Visit the ' +\n",
              "            '<a target=\"_blank\" href=https://colab.research.google.com/notebooks/data_table.ipynb>data table notebook</a>'\n",
              "            + ' to learn more about interactive tables.';\n",
              "          element.innerHTML = '';\n",
              "          dataTable['output_type'] = 'display_data';\n",
              "          await google.colab.output.renderOutput(dataTable, element);\n",
              "          const docLink = document.createElement('div');\n",
              "          docLink.innerHTML = docLinkHtml;\n",
              "          element.appendChild(docLink);\n",
              "        }\n",
              "      </script>\n",
              "    </div>\n",
              "  </div>\n",
              "  "
            ]
          },
          "metadata": {},
          "execution_count": 16
        }
      ]
    },
    {
      "cell_type": "code",
      "source": [
        "X_train,X_test,y_train,y_test = train_test_split( X_encode, y, test_size=0.3, random_state=42)\n",
        "reg = LinearRegression()\n",
        "reg.fit(X_train,y_train)"
      ],
      "metadata": {
        "colab": {
          "base_uri": "https://localhost:8080/"
        },
        "id": "LPv971TOWdNY",
        "outputId": "59f2a400-fe0e-4449-b5c6-eb930844161c"
      },
      "execution_count": null,
      "outputs": [
        {
          "output_type": "stream",
          "name": "stderr",
          "text": [
            "/usr/local/lib/python3.7/dist-packages/sklearn/utils/validation.py:1692: FutureWarning: Feature names only support names that are all strings. Got feature names with dtypes: ['int', 'str']. An error will be raised in 1.2.\n",
            "  FutureWarning,\n"
          ]
        },
        {
          "output_type": "execute_result",
          "data": {
            "text/plain": [
              "LinearRegression()"
            ]
          },
          "metadata": {},
          "execution_count": 17
        }
      ]
    },
    {
      "cell_type": "code",
      "source": [
        "reg.score(X_test,y_test)"
      ],
      "metadata": {
        "colab": {
          "base_uri": "https://localhost:8080/"
        },
        "id": "z4rUuD32WvkZ",
        "outputId": "0b60cc6f-e44f-4a87-aafa-1fefd0fe2f9f"
      },
      "execution_count": null,
      "outputs": [
        {
          "output_type": "stream",
          "name": "stderr",
          "text": [
            "/usr/local/lib/python3.7/dist-packages/sklearn/utils/validation.py:1692: FutureWarning: Feature names only support names that are all strings. Got feature names with dtypes: ['int', 'str']. An error will be raised in 1.2.\n",
            "  FutureWarning,\n"
          ]
        },
        {
          "output_type": "execute_result",
          "data": {
            "text/plain": [
              "0.9911247419737124"
            ]
          },
          "metadata": {},
          "execution_count": 18
        }
      ]
    },
    {
      "cell_type": "code",
      "source": [
        "# Visualising the data in Higher Dimensions\n",
        "from sklearn.decomposition import PCA\n",
        "from sklearn.preprocessing import StandardScaler\n",
        "from sklearn.pipeline import Pipeline\n",
        "\n",
        "pipe = Pipeline([('scaler', StandardScaler()), ('pca', PCA() )])\n",
        "Xt = pipe.fit_transform(X)\n"
      ],
      "metadata": {
        "id": "KewwdrlnYiis"
      },
      "execution_count": null,
      "outputs": []
    },
    {
      "cell_type": "code",
      "source": [
        "# Creating figure\n",
        "fig = plt.figure(figsize = (10, 7))\n",
        "ax = fig.add_subplot(projection='3d')\n",
        "\n",
        "#creating plot\n",
        "plot = ax.scatter3D(Xt[:,0],Xt[:,1], y, c=y)\n",
        "ax.set_xlabel('PCA_1')\n",
        "ax.set_ylabel('PCA_2')\n",
        "ax.set_zlabel('Price')\n",
        "plt.show()"
      ],
      "metadata": {
        "colab": {
          "base_uri": "https://localhost:8080/",
          "height": 411
        },
        "id": "iYZGBI4XXD-Q",
        "outputId": "6bad2f83-40b4-4759-a198-bc88f3ec8237"
      },
      "execution_count": null,
      "outputs": [
        {
          "output_type": "display_data",
          "data": {
            "text/plain": [
              "<Figure size 720x504 with 1 Axes>"
            ],
            "image/png": "[encoded data removed]"
          },
          "metadata": {
            "needs_background": "light"
          }
        }
      ]
    },
    {
      "cell_type": "code",
      "source": [],
      "metadata": {
        "id": "MEJ3Mq17W8Mc"
      },
      "execution_count": null,
      "outputs": []
    }
  ],
  "metadata": {
    "kernelspec": {
      "display_name": "Python 3",
      "language": "python",
      "name": "python3"
    },
    "language_info": {
      "codemirror_mode": {
        "name": "ipython",
        "version": 3
      },
      "file_extension": ".py",
      "mimetype": "text/x-python",
      "name": "python",
      "nbconvert_exporter": "python",
      "pygments_lexer": "ipython3",
      "version": "3.8.3"
    },
    "colab": {
      "provenance": [],
      "collapsed_sections": []
    }
  },
  "nbformat": 4,
  "nbformat_minor": 0
}