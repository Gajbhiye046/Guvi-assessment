{
 "cells": [
  {
   "cell_type": "markdown",
   "id": "3869705a",
   "metadata": {},
   "source": [
    "### PROJECT-1 (TWITTER SENTIMENT ANALYSIS)\n",
    "\n",
    "\n",
    "\n",
    "The following project is about analyzing the sentiments of tweets on social networking website\n",
    "‘Twitter’. The dataset for this project is scraped from Twitter. It contains 1,600,000 tweets\n",
    "extracted using Twitter API. It is a labeled dataset with tweets annotated with the sentiment (0 =\n",
    "negative, 2 = neutral, 4 = positive).\n",
    "It contains the following 6 fields:\n",
    "1. target: the polarity of the tweet (0 = negative, 2 = neutral, 4 = positive)\n",
    "2. ids: The id of the tweet .\n",
    "3. date: The date of the tweet (Sat May 16 23:58:44 UTC 2009)\n",
    "4. flag: The query. If there is no query, then this value is NO_QUERY.\n",
    "5. user: The user that tweeted\n",
    "6. text: The text of the tweet.\n",
    "Design a classification model that correctly predicts the polarity of the tweets provided in the\n",
    "dataset."
   ]
  },
  {
   "cell_type": "markdown",
   "id": "c63d296a",
   "metadata": {},
   "source": [
    "#### Importing the libraries"
   ]
  },
  {
   "cell_type": "code",
   "execution_count": 59,
   "id": "acb4b9d2",
   "metadata": {},
   "outputs": [],
   "source": [
    "import numpy as np\n",
    "import matplotlib.pyplot as plt\n",
    "import pandas as pd"
   ]
  },
  {
   "cell_type": "markdown",
   "id": "20717392",
   "metadata": {},
   "source": [
    "#### Importing the dataset"
   ]
  },
  {
   "cell_type": "code",
   "execution_count": 60,
   "id": "33c6a5e2",
   "metadata": {},
   "outputs": [],
   "source": [
    "# ! pip install chardet"
   ]
  },
  {
   "cell_type": "code",
   "execution_count": 61,
   "id": "c338c303",
   "metadata": {},
   "outputs": [
    {
     "name": "stdout",
     "output_type": "stream",
     "text": [
      "{'encoding': 'ascii', 'confidence': 1.0, 'language': ''}\n"
     ]
    }
   ],
   "source": [
    "import chardet\n",
    "with open('twitter_new.csv', 'rb') as file:\n",
    "    print(chardet.detect(file.read(500)))"
   ]
  },
  {
   "cell_type": "code",
   "execution_count": 62,
   "id": "f4ac5418",
   "metadata": {},
   "outputs": [
    {
     "name": "stdout",
     "output_type": "stream",
     "text": [
      "b'\"0\",\"1467810369\",\"Mon Apr 06 22:19:45 PDT 2009\",\"NO_QUERY\",\"_TheSpecialOne_\",\"@switchfoot http://twitpic.com/2y1zl - Awww, that\\'s a bummer.  You shoulda got David Carr of Third Day to do it. ;D\"\\n\"0\",\"1467810672\",\"Mon Apr 06 22:19:49 PDT 2009\",\"NO_QUERY\",\"scotthamilton\",\"is upset that he can\\'t update his Facebook by texting it... and might cry as a result  School today also. Blah!\"\\n\"0\",\"1467810917\",\"Mon Apr 06 22:19:53 PDT 2009\",\"NO_QUERY\",\"mattycus\",\"@Kenichan I dived many times for the ball. Managed to save 50%  The rest go out of bounds\"\\n\"0\",\"1467811184\",\"Mon Apr 06 22:19:57 PDT 2009\",\"NO_QUERY\",\"ElleCTF\",\"my whole body feels itchy and like its on fire \"\\n\"0\",\"1467811193\",\"Mon Apr 06 22:19:'\n"
     ]
    }
   ],
   "source": [
    "print(repr(open('twitter_new.csv', 'rb').read(700)) )# dump 1st 200 bytes of file"
   ]
  },
  {
   "cell_type": "code",
   "execution_count": 63,
   "id": "1b25e600",
   "metadata": {},
   "outputs": [],
   "source": [
    "import dask.dataframe as dd\n",
    "df = dd.read_csv('twitter_new.csv',delimiter = \",\",encoding = 'latin',header = None,\n",
    "                 names = ['target','id','date','Query','User','text'] ,\n",
    "                 dtype={'Query':str,'User': str,'text' : str})"
   ]
  },
  {
   "cell_type": "code",
   "execution_count": 64,
   "id": "0c0d179b",
   "metadata": {},
   "outputs": [
    {
     "data": {
      "text/html": [
       "<div>\n",
       "<style scoped>\n",
       "    .dataframe tbody tr th:only-of-type {\n",
       "        vertical-align: middle;\n",
       "    }\n",
       "\n",
       "    .dataframe tbody tr th {\n",
       "        vertical-align: top;\n",
       "    }\n",
       "\n",
       "    .dataframe thead th {\n",
       "        text-align: right;\n",
       "    }\n",
       "</style>\n",
       "<table border=\"1\" class=\"dataframe\">\n",
       "  <thead>\n",
       "    <tr style=\"text-align: right;\">\n",
       "      <th></th>\n",
       "      <th>target</th>\n",
       "      <th>id</th>\n",
       "      <th>date</th>\n",
       "      <th>Query</th>\n",
       "      <th>User</th>\n",
       "      <th>text</th>\n",
       "    </tr>\n",
       "  </thead>\n",
       "  <tbody>\n",
       "    <tr>\n",
       "      <th>0</th>\n",
       "      <td>0</td>\n",
       "      <td>1467810369</td>\n",
       "      <td>Mon Apr 06 22:19:45 PDT 2009</td>\n",
       "      <td>NO_QUERY</td>\n",
       "      <td>_TheSpecialOne_</td>\n",
       "      <td>@switchfoot http://twitpic.com/2y1zl - Awww, t...</td>\n",
       "    </tr>\n",
       "    <tr>\n",
       "      <th>1</th>\n",
       "      <td>0</td>\n",
       "      <td>1467810672</td>\n",
       "      <td>Mon Apr 06 22:19:49 PDT 2009</td>\n",
       "      <td>NO_QUERY</td>\n",
       "      <td>scotthamilton</td>\n",
       "      <td>is upset that he can't update his Facebook by ...</td>\n",
       "    </tr>\n",
       "    <tr>\n",
       "      <th>2</th>\n",
       "      <td>0</td>\n",
       "      <td>1467810917</td>\n",
       "      <td>Mon Apr 06 22:19:53 PDT 2009</td>\n",
       "      <td>NO_QUERY</td>\n",
       "      <td>mattycus</td>\n",
       "      <td>@Kenichan I dived many times for the ball. Man...</td>\n",
       "    </tr>\n",
       "    <tr>\n",
       "      <th>3</th>\n",
       "      <td>0</td>\n",
       "      <td>1467811184</td>\n",
       "      <td>Mon Apr 06 22:19:57 PDT 2009</td>\n",
       "      <td>NO_QUERY</td>\n",
       "      <td>ElleCTF</td>\n",
       "      <td>my whole body feels itchy and like its on fire</td>\n",
       "    </tr>\n",
       "    <tr>\n",
       "      <th>4</th>\n",
       "      <td>0</td>\n",
       "      <td>1467811193</td>\n",
       "      <td>Mon Apr 06 22:19:57 PDT 2009</td>\n",
       "      <td>NO_QUERY</td>\n",
       "      <td>Karoli</td>\n",
       "      <td>@nationwideclass no, it's not behaving at all....</td>\n",
       "    </tr>\n",
       "    <tr>\n",
       "      <th>...</th>\n",
       "      <td>...</td>\n",
       "      <td>...</td>\n",
       "      <td>...</td>\n",
       "      <td>...</td>\n",
       "      <td>...</td>\n",
       "      <td>...</td>\n",
       "    </tr>\n",
       "    <tr>\n",
       "      <th>400385</th>\n",
       "      <td>4</td>\n",
       "      <td>2193601966</td>\n",
       "      <td>Tue Jun 16 08:40:49 PDT 2009</td>\n",
       "      <td>NO_QUERY</td>\n",
       "      <td>AmandaMarie1028</td>\n",
       "      <td>Just woke up. Having no school is the best fee...</td>\n",
       "    </tr>\n",
       "    <tr>\n",
       "      <th>400386</th>\n",
       "      <td>4</td>\n",
       "      <td>2193601969</td>\n",
       "      <td>Tue Jun 16 08:40:49 PDT 2009</td>\n",
       "      <td>NO_QUERY</td>\n",
       "      <td>TheWDBoards</td>\n",
       "      <td>TheWDB.com - Very cool to hear old Walt interv...</td>\n",
       "    </tr>\n",
       "    <tr>\n",
       "      <th>400387</th>\n",
       "      <td>4</td>\n",
       "      <td>2193601991</td>\n",
       "      <td>Tue Jun 16 08:40:49 PDT 2009</td>\n",
       "      <td>NO_QUERY</td>\n",
       "      <td>bpbabe</td>\n",
       "      <td>Are you ready for your MoJo Makeover? Ask me f...</td>\n",
       "    </tr>\n",
       "    <tr>\n",
       "      <th>400388</th>\n",
       "      <td>4</td>\n",
       "      <td>2193602064</td>\n",
       "      <td>Tue Jun 16 08:40:49 PDT 2009</td>\n",
       "      <td>NO_QUERY</td>\n",
       "      <td>tinydiamondz</td>\n",
       "      <td>Happy 38th Birthday to my boo of alll time!!! ...</td>\n",
       "    </tr>\n",
       "    <tr>\n",
       "      <th>400389</th>\n",
       "      <td>4</td>\n",
       "      <td>2193602129</td>\n",
       "      <td>Tue Jun 16 08:40:50 PDT 2009</td>\n",
       "      <td>NO_QUERY</td>\n",
       "      <td>RyanTrevMorris</td>\n",
       "      <td>happy #charitytuesday @theNSPCC @SparksCharity...</td>\n",
       "    </tr>\n",
       "  </tbody>\n",
       "</table>\n",
       "<p>1600000 rows × 6 columns</p>\n",
       "</div>"
      ],
      "text/plain": [
       "        target          id                          date     Query  \\\n",
       "0            0  1467810369  Mon Apr 06 22:19:45 PDT 2009  NO_QUERY   \n",
       "1            0  1467810672  Mon Apr 06 22:19:49 PDT 2009  NO_QUERY   \n",
       "2            0  1467810917  Mon Apr 06 22:19:53 PDT 2009  NO_QUERY   \n",
       "3            0  1467811184  Mon Apr 06 22:19:57 PDT 2009  NO_QUERY   \n",
       "4            0  1467811193  Mon Apr 06 22:19:57 PDT 2009  NO_QUERY   \n",
       "...        ...         ...                           ...       ...   \n",
       "400385       4  2193601966  Tue Jun 16 08:40:49 PDT 2009  NO_QUERY   \n",
       "400386       4  2193601969  Tue Jun 16 08:40:49 PDT 2009  NO_QUERY   \n",
       "400387       4  2193601991  Tue Jun 16 08:40:49 PDT 2009  NO_QUERY   \n",
       "400388       4  2193602064  Tue Jun 16 08:40:49 PDT 2009  NO_QUERY   \n",
       "400389       4  2193602129  Tue Jun 16 08:40:50 PDT 2009  NO_QUERY   \n",
       "\n",
       "                   User                                               text  \n",
       "0       _TheSpecialOne_  @switchfoot http://twitpic.com/2y1zl - Awww, t...  \n",
       "1         scotthamilton  is upset that he can't update his Facebook by ...  \n",
       "2              mattycus  @Kenichan I dived many times for the ball. Man...  \n",
       "3               ElleCTF    my whole body feels itchy and like its on fire   \n",
       "4                Karoli  @nationwideclass no, it's not behaving at all....  \n",
       "...                 ...                                                ...  \n",
       "400385  AmandaMarie1028  Just woke up. Having no school is the best fee...  \n",
       "400386      TheWDBoards  TheWDB.com - Very cool to hear old Walt interv...  \n",
       "400387           bpbabe  Are you ready for your MoJo Makeover? Ask me f...  \n",
       "400388     tinydiamondz  Happy 38th Birthday to my boo of alll time!!! ...  \n",
       "400389   RyanTrevMorris  happy #charitytuesday @theNSPCC @SparksCharity...  \n",
       "\n",
       "[1600000 rows x 6 columns]"
      ]
     },
     "execution_count": 64,
     "metadata": {},
     "output_type": "execute_result"
    }
   ],
   "source": [
    "df.compute()"
   ]
  },
  {
   "cell_type": "code",
   "execution_count": 65,
   "id": "d3839a68",
   "metadata": {},
   "outputs": [
    {
     "data": {
      "text/html": [
       "<div><strong>Dask DataFrame Structure:</strong></div>\n",
       "<div>\n",
       "<style scoped>\n",
       "    .dataframe tbody tr th:only-of-type {\n",
       "        vertical-align: middle;\n",
       "    }\n",
       "\n",
       "    .dataframe tbody tr th {\n",
       "        vertical-align: top;\n",
       "    }\n",
       "\n",
       "    .dataframe thead th {\n",
       "        text-align: right;\n",
       "    }\n",
       "</style>\n",
       "<table border=\"1\" class=\"dataframe\">\n",
       "  <thead>\n",
       "    <tr style=\"text-align: right;\">\n",
       "      <th></th>\n",
       "      <th>target</th>\n",
       "      <th>id</th>\n",
       "      <th>date</th>\n",
       "      <th>Query</th>\n",
       "      <th>User</th>\n",
       "      <th>text</th>\n",
       "    </tr>\n",
       "    <tr>\n",
       "      <th>npartitions=4</th>\n",
       "      <th></th>\n",
       "      <th></th>\n",
       "      <th></th>\n",
       "      <th></th>\n",
       "      <th></th>\n",
       "      <th></th>\n",
       "    </tr>\n",
       "  </thead>\n",
       "  <tbody>\n",
       "    <tr>\n",
       "      <th></th>\n",
       "      <td>int64</td>\n",
       "      <td>int64</td>\n",
       "      <td>object</td>\n",
       "      <td>object</td>\n",
       "      <td>object</td>\n",
       "      <td>object</td>\n",
       "    </tr>\n",
       "    <tr>\n",
       "      <th></th>\n",
       "      <td>...</td>\n",
       "      <td>...</td>\n",
       "      <td>...</td>\n",
       "      <td>...</td>\n",
       "      <td>...</td>\n",
       "      <td>...</td>\n",
       "    </tr>\n",
       "    <tr>\n",
       "      <th></th>\n",
       "      <td>...</td>\n",
       "      <td>...</td>\n",
       "      <td>...</td>\n",
       "      <td>...</td>\n",
       "      <td>...</td>\n",
       "      <td>...</td>\n",
       "    </tr>\n",
       "    <tr>\n",
       "      <th></th>\n",
       "      <td>...</td>\n",
       "      <td>...</td>\n",
       "      <td>...</td>\n",
       "      <td>...</td>\n",
       "      <td>...</td>\n",
       "      <td>...</td>\n",
       "    </tr>\n",
       "    <tr>\n",
       "      <th></th>\n",
       "      <td>...</td>\n",
       "      <td>...</td>\n",
       "      <td>...</td>\n",
       "      <td>...</td>\n",
       "      <td>...</td>\n",
       "      <td>...</td>\n",
       "    </tr>\n",
       "  </tbody>\n",
       "</table>\n",
       "</div>\n",
       "<div>Dask Name: read-csv, 4 tasks</div>"
      ],
      "text/plain": [
       "Dask DataFrame Structure:\n",
       "              target     id    date   Query    User    text\n",
       "npartitions=4                                              \n",
       "               int64  int64  object  object  object  object\n",
       "                 ...    ...     ...     ...     ...     ...\n",
       "                 ...    ...     ...     ...     ...     ...\n",
       "                 ...    ...     ...     ...     ...     ...\n",
       "                 ...    ...     ...     ...     ...     ...\n",
       "Dask Name: read-csv, 4 tasks"
      ]
     },
     "execution_count": 65,
     "metadata": {},
     "output_type": "execute_result"
    }
   ],
   "source": [
    "df"
   ]
  },
  {
   "cell_type": "code",
   "execution_count": 66,
   "id": "75d2fea6",
   "metadata": {},
   "outputs": [
    {
     "data": {
      "text/plain": [
       "1600000"
      ]
     },
     "execution_count": 66,
     "metadata": {},
     "output_type": "execute_result"
    }
   ],
   "source": [
    "df.shape[0].compute()"
   ]
  },
  {
   "cell_type": "code",
   "execution_count": 67,
   "id": "3f41436e",
   "metadata": {},
   "outputs": [
    {
     "data": {
      "text/plain": [
       "400385    Just woke up. Having no school is the best fee...\n",
       "400386    TheWDB.com - Very cool to hear old Walt interv...\n",
       "400387    Are you ready for your MoJo Makeover? Ask me f...\n",
       "400388    Happy 38th Birthday to my boo of alll time!!! ...\n",
       "400389    happy #charitytuesday @theNSPCC @SparksCharity...\n",
       "Name: text, dtype: object"
      ]
     },
     "execution_count": 67,
     "metadata": {},
     "output_type": "execute_result"
    }
   ],
   "source": [
    "df['text'].tail()"
   ]
  },
  {
   "cell_type": "code",
   "execution_count": 68,
   "id": "384d55c4",
   "metadata": {},
   "outputs": [],
   "source": [
    "data=df[['text','target']]"
   ]
  },
  {
   "cell_type": "code",
   "execution_count": 69,
   "id": "df3b928f",
   "metadata": {},
   "outputs": [
    {
     "data": {
      "text/plain": [
       "dask.dataframe.core.DataFrame"
      ]
     },
     "execution_count": 69,
     "metadata": {},
     "output_type": "execute_result"
    }
   ],
   "source": [
    "type(data)"
   ]
  },
  {
   "cell_type": "code",
   "execution_count": 70,
   "id": "d2b39332",
   "metadata": {},
   "outputs": [
    {
     "data": {
      "text/html": [
       "<div>\n",
       "<style scoped>\n",
       "    .dataframe tbody tr th:only-of-type {\n",
       "        vertical-align: middle;\n",
       "    }\n",
       "\n",
       "    .dataframe tbody tr th {\n",
       "        vertical-align: top;\n",
       "    }\n",
       "\n",
       "    .dataframe thead th {\n",
       "        text-align: right;\n",
       "    }\n",
       "</style>\n",
       "<table border=\"1\" class=\"dataframe\">\n",
       "  <thead>\n",
       "    <tr style=\"text-align: right;\">\n",
       "      <th></th>\n",
       "      <th>text</th>\n",
       "      <th>target</th>\n",
       "    </tr>\n",
       "  </thead>\n",
       "  <tbody>\n",
       "    <tr>\n",
       "      <th>400385</th>\n",
       "      <td>Just woke up. Having no school is the best fee...</td>\n",
       "      <td>4</td>\n",
       "    </tr>\n",
       "    <tr>\n",
       "      <th>400386</th>\n",
       "      <td>TheWDB.com - Very cool to hear old Walt interv...</td>\n",
       "      <td>4</td>\n",
       "    </tr>\n",
       "    <tr>\n",
       "      <th>400387</th>\n",
       "      <td>Are you ready for your MoJo Makeover? Ask me f...</td>\n",
       "      <td>4</td>\n",
       "    </tr>\n",
       "    <tr>\n",
       "      <th>400388</th>\n",
       "      <td>Happy 38th Birthday to my boo of alll time!!! ...</td>\n",
       "      <td>4</td>\n",
       "    </tr>\n",
       "    <tr>\n",
       "      <th>400389</th>\n",
       "      <td>happy #charitytuesday @theNSPCC @SparksCharity...</td>\n",
       "      <td>4</td>\n",
       "    </tr>\n",
       "  </tbody>\n",
       "</table>\n",
       "</div>"
      ],
      "text/plain": [
       "                                                     text  target\n",
       "400385  Just woke up. Having no school is the best fee...       4\n",
       "400386  TheWDB.com - Very cool to hear old Walt interv...       4\n",
       "400387  Are you ready for your MoJo Makeover? Ask me f...       4\n",
       "400388  Happy 38th Birthday to my boo of alll time!!! ...       4\n",
       "400389  happy #charitytuesday @theNSPCC @SparksCharity...       4"
      ]
     },
     "execution_count": 70,
     "metadata": {},
     "output_type": "execute_result"
    }
   ],
   "source": [
    "data.tail()"
   ]
  },
  {
   "cell_type": "markdown",
   "id": "9b275aba",
   "metadata": {},
   "source": [
    "### Cleaning the text"
   ]
  },
  {
   "cell_type": "code",
   "execution_count": 71,
   "id": "3315dc73",
   "metadata": {},
   "outputs": [
    {
     "data": {
      "text/plain": [
       "400385    just woke up. having no school is the best fee...\n",
       "400386    thewdb.com - very cool to hear old walt interv...\n",
       "400387    are you ready for your mojo makeover? ask me f...\n",
       "400388    happy 38th birthday to my boo of alll time!!! ...\n",
       "400389    happy #charitytuesday @thenspcc @sparkscharity...\n",
       "Name: text, dtype: object"
      ]
     },
     "execution_count": 71,
     "metadata": {},
     "output_type": "execute_result"
    }
   ],
   "source": [
    "import nltk\n",
    "import re\n",
    "# nltk.download('stopwords')\n",
    "from nltk.stem.porter import PorterStemmer\n",
    "from nltk.corpus import stopwords\n",
    "\n",
    "# Making statement in lower case\n",
    "data['text']=data['text'].str.lower()\n",
    "data['text'].tail()"
   ]
  },
  {
   "cell_type": "code",
   "execution_count": 72,
   "id": "abe8fe74",
   "metadata": {},
   "outputs": [],
   "source": [
    "# Removing stopwords from the text\n",
    "all_stopwords  = stopwords.words('english')\n",
    "all_stopwords.remove('not')\n",
    "def cleaning_stopwords(text):\n",
    "    return \" \".join([word for word in str(text).split() if word not in all_stopwords])\n",
    "data['text'] = data['text'].apply(cleaning_stopwords, meta=pd.Series(dtype='str', name='text'))\n",
    "#data.tail()"
   ]
  },
  {
   "cell_type": "code",
   "execution_count": 73,
   "id": "c24b40a4",
   "metadata": {},
   "outputs": [],
   "source": [
    "# cleaning multiple ... characters\n",
    "def cleaning_repeating_char(text):\n",
    "    return re.sub(r'(.)1+', r'1', text)\n",
    "data['text'] = data['text'].apply(cleaning_repeating_char,meta=pd.Series(dtype='str', name='text'))\n",
    "#data.tail()"
   ]
  },
  {
   "cell_type": "code",
   "execution_count": 74,
   "id": "7d75e868",
   "metadata": {},
   "outputs": [],
   "source": [
    "# cleaning url addressess \n",
    "def cleaning_URLs(text):\n",
    "    return re.sub(r'((https?://\\S+)|(www.\\S+))','',text)\n",
    "data['text'] = data['text'].apply(cleaning_URLs,meta=pd.Series(dtype='str', name='text'))\n",
    "#data.tail()"
   ]
  },
  {
   "cell_type": "code",
   "execution_count": 75,
   "id": "fe440da9",
   "metadata": {},
   "outputs": [],
   "source": [
    "# Removing Alpha-numeric character\n",
    "def cleaning_alpha_numeric(data):\n",
    "    return re.sub('[0-9]', '', data)\n",
    "data['text'] = data['text'].apply(cleaning_alpha_numeric,meta=pd.Series(dtype='str', name='text'))\n",
    "#data.tail()"
   ]
  },
  {
   "cell_type": "code",
   "execution_count": 76,
   "id": "d8c172f1",
   "metadata": {},
   "outputs": [],
   "source": [
    "# tokenizing tweet text\n",
    "from nltk.tokenize import RegexpTokenizer\n",
    "tokenizer = RegexpTokenizer(r'\\w+')\n",
    "func = tokenizer.tokenize\n",
    "data['text'] = data['text'].apply(func,meta=pd.Series(dtype='str', name='text') )\n",
    "#data['text'].head()"
   ]
  },
  {
   "cell_type": "code",
   "execution_count": 77,
   "id": "8e851fc7",
   "metadata": {},
   "outputs": [
    {
     "data": {
      "text/plain": [
       "400385              [woke, up, school, best, feeling, ever]\n",
       "400386    [thewdb, com, cool, hear, old, walt, interview...\n",
       "400387                [ready, mojo, makeover, ask, details]\n",
       "400388    [happy, th, birthday, boo, alll, time, tupac, ...\n",
       "400389    [happy, charitytuesday, thenspcc, sparkscharit...\n",
       "Name: text, dtype: object"
      ]
     },
     "execution_count": 77,
     "metadata": {},
     "output_type": "execute_result"
    }
   ],
   "source": [
    "# Applying Stemming\n",
    "import nltk\n",
    "st = nltk.PorterStemmer()\n",
    "def stemming_on_text(token_list):\n",
    "    text = [st.stem(token) for token in token_list]\n",
    "    return token_list\n",
    "data['text']= data['text'].apply(stemming_on_text,meta=pd.Series(dtype='str', name='text'))\n",
    "data['text'].tail()"
   ]
  },
  {
   "cell_type": "code",
   "execution_count": 78,
   "id": "26be76ec",
   "metadata": {},
   "outputs": [
    {
     "data": {
      "text/plain": [
       "'cat'"
      ]
     },
     "execution_count": 78,
     "metadata": {},
     "output_type": "execute_result"
    }
   ],
   "source": [
    "lm = nltk.WordNetLemmatizer()\n",
    "# Use it once first, to \"unlazify\" wordnet\n",
    "lm.lemmatize('cats')"
   ]
  },
  {
   "cell_type": "code",
   "execution_count": 79,
   "id": "abac7d18",
   "metadata": {},
   "outputs": [],
   "source": [
    "import time\n",
    "time.sleep(5)"
   ]
  },
  {
   "cell_type": "code",
   "execution_count": 80,
   "id": "3fe3be73",
   "metadata": {},
   "outputs": [
    {
     "data": {
      "text/plain": [
       "400385              [woke, up, school, best, feeling, ever]\n",
       "400386    [thewdb, com, cool, hear, old, walt, interview...\n",
       "400387                [ready, mojo, makeover, ask, details]\n",
       "400388    [happy, th, birthday, boo, alll, time, tupac, ...\n",
       "400389    [happy, charitytuesday, thenspcc, sparkscharit...\n",
       "Name: text, dtype: object"
      ]
     },
     "execution_count": 80,
     "metadata": {},
     "output_type": "execute_result"
    }
   ],
   "source": [
    "#Applying Lemmitization\n",
    "def lemmatizer_on_text(token_list):\n",
    "    text = [lm.lemmatize(token) for token in token_list]\n",
    "    return token_list\n",
    "data['text'] = data['text'].apply(lemmatizer_on_text,meta=pd.Series(dtype='str', name='text') )\n",
    "data['text'].tail()"
   ]
  },
  {
   "cell_type": "code",
   "execution_count": 82,
   "id": "30015dc7",
   "metadata": {},
   "outputs": [],
   "source": [
    "#data['text'].head()"
   ]
  },
  {
   "cell_type": "code",
   "execution_count": 83,
   "id": "128e2e6e",
   "metadata": {},
   "outputs": [],
   "source": [
    "data['target'] = data['target'].replace(4,1)"
   ]
  },
  {
   "cell_type": "markdown",
   "id": "f369675a",
   "metadata": {},
   "source": [
    "### Splitting the dataset into training set and test set "
   ]
  },
  {
   "cell_type": "code",
   "execution_count": null,
   "id": "a87b54a8",
   "metadata": {},
   "outputs": [],
   "source": [
    "#! pip install dask-ml"
   ]
  },
  {
   "cell_type": "code",
   "execution_count": 84,
   "id": "20eaa497",
   "metadata": {},
   "outputs": [
    {
     "data": {
      "text/plain": [
       "(Delayed('int-13b4c0d3-2dad-4773-af0f-7f8a78060ee0'), 2)"
      ]
     },
     "execution_count": 84,
     "metadata": {},
     "output_type": "execute_result"
    }
   ],
   "source": [
    "data.shape"
   ]
  },
  {
   "cell_type": "code",
   "execution_count": 85,
   "id": "1aefcfbe",
   "metadata": {},
   "outputs": [],
   "source": [
    "X=data.text\n",
    "y=data.target"
   ]
  },
  {
   "cell_type": "code",
   "execution_count": 86,
   "id": "9ca98961",
   "metadata": {},
   "outputs": [
    {
     "data": {
      "text/plain": [
       "(dd.Scalar<size-ag..., dtype=int32>,)"
      ]
     },
     "execution_count": 86,
     "metadata": {},
     "output_type": "execute_result"
    }
   ],
   "source": [
    "X.shape"
   ]
  },
  {
   "cell_type": "code",
   "execution_count": 108,
   "id": "88207efc",
   "metadata": {},
   "outputs": [],
   "source": [
    "from dask_ml.model_selection import train_test_split\n",
    "#from sklearn.model_selection import train_test_split\n",
    "X_train, X_test, y_train, y_test = train_test_split(X, y, test_size = 0.25, random_state = 0,shuffle =False)"
   ]
  },
  {
   "cell_type": "code",
   "execution_count": 109,
   "id": "6291edf8",
   "metadata": {},
   "outputs": [
    {
     "data": {
      "text/plain": [
       "(dd.Scalar<size-ag..., dtype=int32>,)"
      ]
     },
     "execution_count": 109,
     "metadata": {},
     "output_type": "execute_result"
    }
   ],
   "source": [
    "X_train.shape"
   ]
  },
  {
   "cell_type": "code",
   "execution_count": 110,
   "id": "a8c3ad90",
   "metadata": {},
   "outputs": [],
   "source": [
    "#X_train.compute()[:10]"
   ]
  },
  {
   "cell_type": "code",
   "execution_count": 111,
   "id": "2756d3b7",
   "metadata": {},
   "outputs": [
    {
     "data": {
      "text/plain": [
       "(dd.Scalar<size-ag..., dtype=int32>,)"
      ]
     },
     "execution_count": 111,
     "metadata": {},
     "output_type": "execute_result"
    }
   ],
   "source": [
    "y_train.shape"
   ]
  },
  {
   "cell_type": "markdown",
   "id": "ce27a1f0",
   "metadata": {},
   "source": [
    "### Model preparation : "
   ]
  },
  {
   "cell_type": "code",
   "execution_count": 112,
   "id": "c6c35a51",
   "metadata": {},
   "outputs": [],
   "source": [
    "from dask_ml.feature_extraction.text import HashingVectorizer\n",
    "vec = HashingVectorizer(analyzer= lambda x: x,n_features =6000)"
   ]
  },
  {
   "cell_type": "code",
   "execution_count": 113,
   "id": "db4b4a60",
   "metadata": {},
   "outputs": [
    {
     "data": {
      "text/html": [
       "<style>#sk-container-id-4 {color: black;background-color: white;}#sk-container-id-4 pre{padding: 0;}#sk-container-id-4 div.sk-toggleable {background-color: white;}#sk-container-id-4 label.sk-toggleable__label {cursor: pointer;display: block;width: 100%;margin-bottom: 0;padding: 0.3em;box-sizing: border-box;text-align: center;}#sk-container-id-4 label.sk-toggleable__label-arrow:before {content: \"▸\";float: left;margin-right: 0.25em;color: #696969;}#sk-container-id-4 label.sk-toggleable__label-arrow:hover:before {color: black;}#sk-container-id-4 div.sk-estimator:hover label.sk-toggleable__label-arrow:before {color: black;}#sk-container-id-4 div.sk-toggleable__content {max-height: 0;max-width: 0;overflow: hidden;text-align: left;background-color: #f0f8ff;}#sk-container-id-4 div.sk-toggleable__content pre {margin: 0.2em;color: black;border-radius: 0.25em;background-color: #f0f8ff;}#sk-container-id-4 input.sk-toggleable__control:checked~div.sk-toggleable__content {max-height: 200px;max-width: 100%;overflow: auto;}#sk-container-id-4 input.sk-toggleable__control:checked~label.sk-toggleable__label-arrow:before {content: \"▾\";}#sk-container-id-4 div.sk-estimator input.sk-toggleable__control:checked~label.sk-toggleable__label {background-color: #d4ebff;}#sk-container-id-4 div.sk-label input.sk-toggleable__control:checked~label.sk-toggleable__label {background-color: #d4ebff;}#sk-container-id-4 input.sk-hidden--visually {border: 0;clip: rect(1px 1px 1px 1px);clip: rect(1px, 1px, 1px, 1px);height: 1px;margin: -1px;overflow: hidden;padding: 0;position: absolute;width: 1px;}#sk-container-id-4 div.sk-estimator {font-family: monospace;background-color: #f0f8ff;border: 1px dotted black;border-radius: 0.25em;box-sizing: border-box;margin-bottom: 0.5em;}#sk-container-id-4 div.sk-estimator:hover {background-color: #d4ebff;}#sk-container-id-4 div.sk-parallel-item::after {content: \"\";width: 100%;border-bottom: 1px solid gray;flex-grow: 1;}#sk-container-id-4 div.sk-label:hover label.sk-toggleable__label {background-color: #d4ebff;}#sk-container-id-4 div.sk-serial::before {content: \"\";position: absolute;border-left: 1px solid gray;box-sizing: border-box;top: 0;bottom: 0;left: 50%;z-index: 0;}#sk-container-id-4 div.sk-serial {display: flex;flex-direction: column;align-items: center;background-color: white;padding-right: 0.2em;padding-left: 0.2em;position: relative;}#sk-container-id-4 div.sk-item {position: relative;z-index: 1;}#sk-container-id-4 div.sk-parallel {display: flex;align-items: stretch;justify-content: center;background-color: white;position: relative;}#sk-container-id-4 div.sk-item::before, #sk-container-id-4 div.sk-parallel-item::before {content: \"\";position: absolute;border-left: 1px solid gray;box-sizing: border-box;top: 0;bottom: 0;left: 50%;z-index: -1;}#sk-container-id-4 div.sk-parallel-item {display: flex;flex-direction: column;z-index: 1;position: relative;background-color: white;}#sk-container-id-4 div.sk-parallel-item:first-child::after {align-self: flex-end;width: 50%;}#sk-container-id-4 div.sk-parallel-item:last-child::after {align-self: flex-start;width: 50%;}#sk-container-id-4 div.sk-parallel-item:only-child::after {width: 0;}#sk-container-id-4 div.sk-dashed-wrapped {border: 1px dashed gray;margin: 0 0.4em 0.5em 0.4em;box-sizing: border-box;padding-bottom: 0.4em;background-color: white;}#sk-container-id-4 div.sk-label label {font-family: monospace;font-weight: bold;display: inline-block;line-height: 1.2em;}#sk-container-id-4 div.sk-label-container {text-align: center;}#sk-container-id-4 div.sk-container {/* jupyter's `normalize.less` sets `[hidden] { display: none; }` but bootstrap.min.css set `[hidden] { display: none !important; }` so we also need the `!important` here to be able to override the default hidden behavior on the sphinx rendered scikit-learn.org. See: https://github.com/scikit-learn/scikit-learn/issues/21755 */display: inline-block !important;position: relative;}#sk-container-id-4 div.sk-text-repr-fallback {display: none;}</style><div id=\"sk-container-id-4\" class=\"sk-top-container\"><div class=\"sk-text-repr-fallback\"><pre>HashingVectorizer(analyzer=&lt;function &lt;lambda&gt; at 0x00000264A61ED280&gt;,\n",
       "                  n_features=6000)</pre><b>In a Jupyter environment, please rerun this cell to show the HTML representation or trust the notebook. <br />On GitHub, the HTML representation is unable to render, please try loading this page with nbviewer.org.</b></div><div class=\"sk-container\" hidden><div class=\"sk-item\"><div class=\"sk-estimator sk-toggleable\"><input class=\"sk-toggleable__control sk-hidden--visually\" id=\"sk-estimator-id-4\" type=\"checkbox\" checked><label for=\"sk-estimator-id-4\" class=\"sk-toggleable__label sk-toggleable__label-arrow\">HashingVectorizer</label><div class=\"sk-toggleable__content\"><pre>HashingVectorizer(analyzer=&lt;function &lt;lambda&gt; at 0x00000264A61ED280&gt;,\n",
       "                  n_features=6000)</pre></div></div></div></div></div>"
      ],
      "text/plain": [
       "HashingVectorizer(analyzer=<function <lambda> at 0x00000264A61ED280>,\n",
       "                  n_features=6000)"
      ]
     },
     "execution_count": 113,
     "metadata": {},
     "output_type": "execute_result"
    }
   ],
   "source": [
    "vec"
   ]
  },
  {
   "cell_type": "code",
   "execution_count": 114,
   "id": "5c6a0982",
   "metadata": {},
   "outputs": [],
   "source": [
    "X_train = vec.fit_transform(X_train)\n",
    "X_test  = vec.transform(X_test)"
   ]
  },
  {
   "cell_type": "code",
   "execution_count": 115,
   "id": "904622e1",
   "metadata": {},
   "outputs": [],
   "source": [
    "#data.target.unique().compute()"
   ]
  },
  {
   "cell_type": "code",
   "execution_count": 116,
   "id": "710b3074",
   "metadata": {},
   "outputs": [
    {
     "data": {
      "text/plain": [
       "(nan, 6000)"
      ]
     },
     "execution_count": 116,
     "metadata": {},
     "output_type": "execute_result"
    }
   ],
   "source": [
    "X_train.shape"
   ]
  },
  {
   "cell_type": "code",
   "execution_count": 117,
   "id": "f495151d",
   "metadata": {},
   "outputs": [],
   "source": [
    "#X_train.compute()[:10]"
   ]
  },
  {
   "cell_type": "code",
   "execution_count": null,
   "id": "fa888048",
   "metadata": {},
   "outputs": [],
   "source": [
    "#y_train.head(5)"
   ]
  },
  {
   "cell_type": "code",
   "execution_count": null,
   "id": "65b92ae6",
   "metadata": {},
   "outputs": [],
   "source": [
    "#y_train.tail(5)"
   ]
  },
  {
   "cell_type": "code",
   "execution_count": 118,
   "id": "62d98f13",
   "metadata": {},
   "outputs": [
    {
     "data": {
      "text/plain": [
       "dask.array.core.Array"
      ]
     },
     "execution_count": 118,
     "metadata": {},
     "output_type": "execute_result"
    }
   ],
   "source": [
    "type(X_train)"
   ]
  },
  {
   "cell_type": "code",
   "execution_count": 119,
   "id": "685992ab",
   "metadata": {},
   "outputs": [
    {
     "data": {
      "text/plain": [
       "dask.dataframe.core.Series"
      ]
     },
     "execution_count": 119,
     "metadata": {},
     "output_type": "execute_result"
    }
   ],
   "source": [
    "type(y_train)"
   ]
  },
  {
   "cell_type": "markdown",
   "id": "95117c22",
   "metadata": {},
   "source": [
    "### Training the Bernoulli Naive Bayes on Training set"
   ]
  },
  {
   "cell_type": "code",
   "execution_count": 120,
   "id": "c0972e79",
   "metadata": {},
   "outputs": [],
   "source": [
    "from mlxtend.preprocessing import DenseTransformer"
   ]
  },
  {
   "cell_type": "code",
   "execution_count": 121,
   "id": "1ddb6b93",
   "metadata": {},
   "outputs": [],
   "source": [
    "dt = DenseTransformer()\n",
    "X_dense = dt.fit_transform(X= X_train)"
   ]
  },
  {
   "cell_type": "code",
   "execution_count": 122,
   "id": "88a5d062",
   "metadata": {},
   "outputs": [
    {
     "data": {
      "text/plain": [
       "(nan, 6000)"
      ]
     },
     "execution_count": 122,
     "metadata": {},
     "output_type": "execute_result"
    }
   ],
   "source": [
    "X_dense.shape"
   ]
  },
  {
   "cell_type": "code",
   "execution_count": 123,
   "id": "b6ca5584",
   "metadata": {},
   "outputs": [],
   "source": [
    "#X_dense.compute()[0]"
   ]
  },
  {
   "cell_type": "code",
   "execution_count": 124,
   "id": "1f06ce7b",
   "metadata": {},
   "outputs": [
    {
     "data": {
      "text/html": [
       "<table>\n",
       "    <tr>\n",
       "        <td>\n",
       "            <table>\n",
       "                <thead>\n",
       "                    <tr>\n",
       "                        <td> </td>\n",
       "                        <th> Array </th>\n",
       "                        <th> Chunk </th>\n",
       "                    </tr>\n",
       "                </thead>\n",
       "                <tbody>\n",
       "                    \n",
       "                    <tr>\n",
       "                        <th> Shape </th>\n",
       "                        <td> (nan, 6000) </td>\n",
       "                        <td> (nan, 6000) </td>\n",
       "                    </tr>\n",
       "                    <tr>\n",
       "                        <th> Count </th>\n",
       "                        <td> 132 Tasks </td>\n",
       "                        <td> 4 Chunks </td>\n",
       "                    </tr>\n",
       "                    <tr>\n",
       "                    <th> Type </th>\n",
       "                    <td> float64 </td>\n",
       "                    <td> scipy.sparse.csr.csr_matrix </td>\n",
       "                    </tr>\n",
       "                </tbody>\n",
       "            </table>\n",
       "        </td>\n",
       "        <td>\n",
       "        \n",
       "        </td>\n",
       "    </tr>\n",
       "</table>"
      ],
      "text/plain": [
       "dask.array<_transformer, shape=(nan, 6000), dtype=float64, chunksize=(nan, 6000), chunktype=scipy.csr_matrix>"
      ]
     },
     "execution_count": 124,
     "metadata": {},
     "output_type": "execute_result"
    }
   ],
   "source": [
    "X_dense"
   ]
  },
  {
   "cell_type": "code",
   "execution_count": 125,
   "id": "857ce4bd",
   "metadata": {},
   "outputs": [],
   "source": [
    "#X_dense.compute()[:2]"
   ]
  },
  {
   "cell_type": "code",
   "execution_count": 126,
   "id": "6a9e4a8f",
   "metadata": {},
   "outputs": [
    {
     "name": "stdout",
     "output_type": "stream",
     "text": [
      "[########################################] | 100% Completed |  5min 32.1s\n"
     ]
    }
   ],
   "source": [
    "from sklearn.naive_bayes import BernoulliNB\n",
    "from dask.diagnostics import ProgressBar\n",
    "from dask_ml.wrappers import Incremental\n",
    "\n",
    "classifier = BernoulliNB()\n",
    "parallel_nb = Incremental(classifier)\n",
    "with ProgressBar():\n",
    "    parallel_nb.fit(X_dense, y_train, classes=[0,1])"
   ]
  },
  {
   "cell_type": "markdown",
   "id": "64e9da15",
   "metadata": {},
   "source": [
    "### Predicting the test result"
   ]
  },
  {
   "cell_type": "code",
   "execution_count": null,
   "id": "c86d1e7f",
   "metadata": {},
   "outputs": [],
   "source": [
    "#y_test.compute()"
   ]
  },
  {
   "cell_type": "code",
   "execution_count": 128,
   "id": "39627ac4",
   "metadata": {},
   "outputs": [],
   "source": [
    "y_pred = parallel_nb.predict(X_test)\n",
    "#print(np.concatenate((y_pred.reshape(len(y_pred),1), y_test.reshape(len(y_test),1)),1))"
   ]
  },
  {
   "cell_type": "code",
   "execution_count": 129,
   "id": "d08b7381",
   "metadata": {},
   "outputs": [
    {
     "data": {
      "text/html": [
       "<table>\n",
       "    <tr>\n",
       "        <td>\n",
       "            <table>\n",
       "                <thead>\n",
       "                    <tr>\n",
       "                        <td> </td>\n",
       "                        <th> Array </th>\n",
       "                        <th> Chunk </th>\n",
       "                    </tr>\n",
       "                </thead>\n",
       "                <tbody>\n",
       "                    \n",
       "                    <tr>\n",
       "                        <th> Bytes </th>\n",
       "                        <td> unknown </td>\n",
       "                        <td> unknown </td>\n",
       "                    </tr>\n",
       "                    \n",
       "                    <tr>\n",
       "                        <th> Shape </th>\n",
       "                        <td> (nan,) </td>\n",
       "                        <td> (nan,) </td>\n",
       "                    </tr>\n",
       "                    <tr>\n",
       "                        <th> Count </th>\n",
       "                        <td> 136 Tasks </td>\n",
       "                        <td> 4 Chunks </td>\n",
       "                    </tr>\n",
       "                    <tr>\n",
       "                    <th> Type </th>\n",
       "                    <td> int32 </td>\n",
       "                    <td> numpy.ndarray </td>\n",
       "                    </tr>\n",
       "                </tbody>\n",
       "            </table>\n",
       "        </td>\n",
       "        <td>\n",
       "        \n",
       "        </td>\n",
       "    </tr>\n",
       "</table>"
      ],
      "text/plain": [
       "dask.array<_predict, shape=(nan,), dtype=int32, chunksize=(nan,), chunktype=numpy.ndarray>"
      ]
     },
     "execution_count": 129,
     "metadata": {},
     "output_type": "execute_result"
    }
   ],
   "source": [
    "y_pred"
   ]
  },
  {
   "cell_type": "code",
   "execution_count": 130,
   "id": "e6dd3d23",
   "metadata": {},
   "outputs": [],
   "source": [
    "#y_pred.compute()"
   ]
  },
  {
   "cell_type": "markdown",
   "id": "b8e25d99",
   "metadata": {},
   "source": [
    "### Making the confusion Matrix"
   ]
  },
  {
   "cell_type": "code",
   "execution_count": 132,
   "id": "33489ec5",
   "metadata": {},
   "outputs": [
    {
     "name": "stdout",
     "output_type": "stream",
     "text": [
      "[########################################] | 100% Completed |  5min 29.3s\n",
      "[########################################] | 100% Completed |  5min 17.0s\n",
      "[[131227  69191]\n",
      " [ 56303 143720]]\n"
     ]
    },
    {
     "data": {
      "text/plain": [
       "0.6866105119106185"
      ]
     },
     "execution_count": 132,
     "metadata": {},
     "output_type": "execute_result"
    }
   ],
   "source": [
    "from sklearn.metrics import confusion_matrix\n",
    "from dask_ml.metrics import accuracy_score\n",
    "with ProgressBar():\n",
    "    cm = confusion_matrix(y_test.compute(), y_pred.compute())\n",
    "print(cm)\n",
    "accuracy_score(y_test, y_pred)"
   ]
  },
  {
   "cell_type": "markdown",
   "id": "4e78a0ae",
   "metadata": {},
   "source": [
    "### Precision"
   ]
  },
  {
   "cell_type": "code",
   "execution_count": 133,
   "id": "11eea5ca",
   "metadata": {},
   "outputs": [
    {
     "name": "stdout",
     "output_type": "stream",
     "text": [
      "[########################################] | 100% Completed |  5min  9.5s\n",
      "[########################################] | 100% Completed |  5min 10.0s\n",
      "0.6750238362508278\n"
     ]
    }
   ],
   "source": [
    "from sklearn.metrics import precision_score\n",
    "with ProgressBar():\n",
    "    precision = precision_score(y_test.compute(), y_pred.compute(),pos_label = 1 )\n",
    "print(precision)"
   ]
  },
  {
   "cell_type": "markdown",
   "id": "68968abf",
   "metadata": {},
   "source": [
    "### Recall"
   ]
  },
  {
   "cell_type": "code",
   "execution_count": 134,
   "id": "1fad7a25",
   "metadata": {},
   "outputs": [
    {
     "name": "stdout",
     "output_type": "stream",
     "text": [
      "[########################################] | 100% Completed |  5min 10.1s\n",
      "[########################################] | 100% Completed |  5min  5.1s\n",
      "0.7185173705023922\n"
     ]
    }
   ],
   "source": [
    "from sklearn.metrics import recall_score\n",
    "with ProgressBar():\n",
    "    recall = recall_score(y_test.compute(),y_pred.compute(), average='binary', sample_weight=None, zero_division='warn',pos_label = 1)\n",
    "print(recall)"
   ]
  },
  {
   "cell_type": "markdown",
   "id": "aa91b69c",
   "metadata": {},
   "source": [
    "### F1 Score"
   ]
  },
  {
   "cell_type": "code",
   "execution_count": 135,
   "id": "8bf41b19",
   "metadata": {},
   "outputs": [
    {
     "name": "stdout",
     "output_type": "stream",
     "text": [
      "[########################################] | 100% Completed |  5min  3.1s\n",
      "[########################################] | 100% Completed |  5min  6.3s\n",
      "0.6960918694028586\n"
     ]
    }
   ],
   "source": [
    "from sklearn.metrics import f1_score\n",
    "with ProgressBar():\n",
    "    f1_score = f1_score(y_test.compute(), y_pred.compute(), average='binary', zero_division='warn', pos_label =1)\n",
    "print(f1_score)"
   ]
  },
  {
   "cell_type": "markdown",
   "id": "42797098",
   "metadata": {},
   "source": [
    "### Predicting if single review is positive or Negative"
   ]
  },
  {
   "cell_type": "code",
   "execution_count": 212,
   "id": "40491952",
   "metadata": {},
   "outputs": [
    {
     "name": "stdout",
     "output_type": "stream",
     "text": [
      "[1]\n"
     ]
    }
   ],
   "source": [
    "new_review = [\"0\",\"2251250681\",\"Sat Jun 20 02:54:45 PDT 2009\",\"NO_QUERY\",\"rosaliehalerpg\",\"@EmmettCullenRPG Miss you, love. We never see each other anymore /frowns/ The world keeps getting in the way \"]\n",
    "new_review = new_review[-1].lower()\n",
    "new_review = new_review.split()\n",
    "ps = PorterStemmer()\n",
    "all_stopwords  = stopwords.words('english')\n",
    "all_stopwords.remove('not')\n",
    "new_review = [ps.stem(word) for word in new_review if  word not in set(all_stopwords)]\n",
    "new_review = [lemmatizer_on_text(word) for word in new_review]\n",
    "new_review  = ' '.join([str(elem) for elem in new_review])\n",
    "# func : tokenize.tokenize\n",
    "new_review = tokenizer.tokenize(new_review)\n",
    "new_corpus = ' '.join(new_review)\n",
    "X_new = vec.transform([new_corpus])\n",
    "new_y_pred = parallel_nb.predict(X_new)\n",
    "print(new_y_pred)"
   ]
  },
  {
   "cell_type": "code",
   "execution_count": 215,
   "id": "7f9afe21",
   "metadata": {},
   "outputs": [
    {
     "name": "stdout",
     "output_type": "stream",
     "text": [
      "emmettcullenrpg miss you love never see anymor frowns world keep get way\n"
     ]
    }
   ],
   "source": [
    "print(new_corpus)"
   ]
  },
  {
   "cell_type": "code",
   "execution_count": 213,
   "id": "cf9afa7a",
   "metadata": {},
   "outputs": [
    {
     "data": {
      "text/plain": [
       "(1, 6000)"
      ]
     },
     "execution_count": 213,
     "metadata": {},
     "output_type": "execute_result"
    }
   ],
   "source": [
    "X_new.shape"
   ]
  }
 ],
 "metadata": {
  "kernelspec": {
   "display_name": "Python 3 (ipykernel)",
   "language": "python",
   "name": "python3"
  },
  "language_info": {
   "codemirror_mode": {
    "name": "ipython",
    "version": 3
   },
   "file_extension": ".py",
   "mimetype": "text/x-python",
   "name": "python",
   "nbconvert_exporter": "python",
   "pygments_lexer": "ipython3",
   "version": "3.9.12"
  }
 },
 "nbformat": 4,
 "nbformat_minor": 5
}
