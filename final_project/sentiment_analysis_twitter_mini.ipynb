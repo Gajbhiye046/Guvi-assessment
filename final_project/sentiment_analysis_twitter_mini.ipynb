{
 "cells": [
  {
   "cell_type": "markdown",
   "id": "3869705a",
   "metadata": {},
   "source": [
    "### PROJECT-1 (TWITTER SENTIMENT ANALYSIS)\n",
    "The following project is about analyzing the sentiments of tweets on social networking website\n",
    "‘Twitter’. The dataset for this project is scraped from Twitter. It contains 1,600,000 tweets\n",
    "extracted using Twitter API. It is a labeled dataset with tweets annotated with the sentiment (0 =\n",
    "negative, 2 = neutral, 4 = positive).\n",
    "It contains the following 6 fields:\n",
    "1. target: the polarity of the tweet (0 = negative, 2 = neutral, 4 = positive)\n",
    "2. ids: The id of the tweet .\n",
    "3. date: The date of the tweet (Sat May 16 23:58:44 UTC 2009)\n",
    "4. flag: The query. If there is no query, then this value is NO_QUERY.\n",
    "5. user: The user that tweeted\n",
    "6. text: The text of the tweet.\n",
    "Design a classification model that correctly predicts the polarity of the tweets provided in the\n",
    "dataset."
   ]
  },
  {
   "cell_type": "markdown",
   "id": "c63d296a",
   "metadata": {},
   "source": [
    "#### Importing the libraries"
   ]
  },
  {
   "cell_type": "code",
   "execution_count": 145,
   "id": "acb4b9d2",
   "metadata": {},
   "outputs": [],
   "source": [
    "import numpy as np\n",
    "import matplotlib.pyplot as plt\n",
    "import pandas as pd"
   ]
  },
  {
   "cell_type": "markdown",
   "id": "20717392",
   "metadata": {},
   "source": [
    "#### Importing the dataset"
   ]
  },
  {
   "cell_type": "code",
   "execution_count": 146,
   "id": "33c6a5e2",
   "metadata": {},
   "outputs": [],
   "source": [
    "# ! pip install chardet"
   ]
  },
  {
   "cell_type": "code",
   "execution_count": 147,
   "id": "c338c303",
   "metadata": {},
   "outputs": [
    {
     "name": "stdout",
     "output_type": "stream",
     "text": [
      "{'encoding': 'ascii', 'confidence': 1.0, 'language': ''}\n"
     ]
    }
   ],
   "source": [
    "import chardet\n",
    "with open('twitter_mini.csv', 'rb') as file:\n",
    "    print(chardet.detect(file.read(500)))"
   ]
  },
  {
   "cell_type": "code",
   "execution_count": 148,
   "id": "f4ac5418",
   "metadata": {},
   "outputs": [
    {
     "name": "stdout",
     "output_type": "stream",
     "text": [
      "b'0,1467810369,Mon Apr 06 22:19:45 PDT 2009,NO_QUERY,_TheSpecialOne_,\"@switchfoot http://twitpic.com/2y1zl - Awww, that\\'s a bummer.  You shoulda got David Carr of Third Day to do it. ;D\"\\r\\n0,1467810672,Mon Apr 06 22:19:49 PDT 2009,NO_QUERY,scotthamilton,is upset that he can\\'t update his Facebook by texting it... and might cry as a result  School today also. Blah!\\r\\n0,1467810917,Mon Apr 06 22:19:53 PDT 2009,NO_QUERY,mattycus,@Kenichan I dived many times for the ball. Managed to save 50%  The rest go out of bounds\\r\\n0,1467811184,Mon Apr 06 22:19:57 PDT 2009,NO_QUERY,ElleCTF,my whole body feels itchy and like its on fire \\r\\n0,1467811193,Mon Apr 06 22:19:57 PDT 2009,NO_QUERY,Karoli,\"@nationwideclass n'\n"
     ]
    }
   ],
   "source": [
    "print(repr(open('twitter_mini.csv', 'rb').read(700)) )# dump 1st 200 bytes of file"
   ]
  },
  {
   "cell_type": "code",
   "execution_count": 149,
   "id": "1b25e600",
   "metadata": {},
   "outputs": [],
   "source": [
    "import dask.dataframe as dd\n",
    "df = dd.read_csv('twitter_mini.csv',delimiter = \",\",encoding = 'latin',header = None,\n",
    "                 names = ['target','id','date','Query','User','text'] ,\n",
    "                 dtype={'Query':str,'User': str,'text' : str})"
   ]
  },
  {
   "cell_type": "code",
   "execution_count": 150,
   "id": "0c0d179b",
   "metadata": {},
   "outputs": [
    {
     "data": {
      "text/html": [
       "<div>\n",
       "<style scoped>\n",
       "    .dataframe tbody tr th:only-of-type {\n",
       "        vertical-align: middle;\n",
       "    }\n",
       "\n",
       "    .dataframe tbody tr th {\n",
       "        vertical-align: top;\n",
       "    }\n",
       "\n",
       "    .dataframe thead th {\n",
       "        text-align: right;\n",
       "    }\n",
       "</style>\n",
       "<table border=\"1\" class=\"dataframe\">\n",
       "  <thead>\n",
       "    <tr style=\"text-align: right;\">\n",
       "      <th></th>\n",
       "      <th>target</th>\n",
       "      <th>id</th>\n",
       "      <th>date</th>\n",
       "      <th>Query</th>\n",
       "      <th>User</th>\n",
       "      <th>text</th>\n",
       "    </tr>\n",
       "  </thead>\n",
       "  <tbody>\n",
       "    <tr>\n",
       "      <th>0</th>\n",
       "      <td>0</td>\n",
       "      <td>1467810369</td>\n",
       "      <td>Mon Apr 06 22:19:45 PDT 2009</td>\n",
       "      <td>NO_QUERY</td>\n",
       "      <td>_TheSpecialOne_</td>\n",
       "      <td>@switchfoot http://twitpic.com/2y1zl - Awww, t...</td>\n",
       "    </tr>\n",
       "    <tr>\n",
       "      <th>1</th>\n",
       "      <td>0</td>\n",
       "      <td>1467810672</td>\n",
       "      <td>Mon Apr 06 22:19:49 PDT 2009</td>\n",
       "      <td>NO_QUERY</td>\n",
       "      <td>scotthamilton</td>\n",
       "      <td>is upset that he can't update his Facebook by ...</td>\n",
       "    </tr>\n",
       "    <tr>\n",
       "      <th>2</th>\n",
       "      <td>0</td>\n",
       "      <td>1467810917</td>\n",
       "      <td>Mon Apr 06 22:19:53 PDT 2009</td>\n",
       "      <td>NO_QUERY</td>\n",
       "      <td>mattycus</td>\n",
       "      <td>@Kenichan I dived many times for the ball. Man...</td>\n",
       "    </tr>\n",
       "    <tr>\n",
       "      <th>3</th>\n",
       "      <td>0</td>\n",
       "      <td>1467811184</td>\n",
       "      <td>Mon Apr 06 22:19:57 PDT 2009</td>\n",
       "      <td>NO_QUERY</td>\n",
       "      <td>ElleCTF</td>\n",
       "      <td>my whole body feels itchy and like its on fire</td>\n",
       "    </tr>\n",
       "    <tr>\n",
       "      <th>4</th>\n",
       "      <td>0</td>\n",
       "      <td>1467811193</td>\n",
       "      <td>Mon Apr 06 22:19:57 PDT 2009</td>\n",
       "      <td>NO_QUERY</td>\n",
       "      <td>Karoli</td>\n",
       "      <td>@nationwideclass no, it's not behaving at all....</td>\n",
       "    </tr>\n",
       "    <tr>\n",
       "      <th>...</th>\n",
       "      <td>...</td>\n",
       "      <td>...</td>\n",
       "      <td>...</td>\n",
       "      <td>...</td>\n",
       "      <td>...</td>\n",
       "      <td>...</td>\n",
       "    </tr>\n",
       "    <tr>\n",
       "      <th>1995</th>\n",
       "      <td>4</td>\n",
       "      <td>2193601966</td>\n",
       "      <td>Tue Jun 16 08:40:49 PDT 2009</td>\n",
       "      <td>NO_QUERY</td>\n",
       "      <td>AmandaMarie1028</td>\n",
       "      <td>Just woke up. Having no school is the best fee...</td>\n",
       "    </tr>\n",
       "    <tr>\n",
       "      <th>1996</th>\n",
       "      <td>4</td>\n",
       "      <td>2193601969</td>\n",
       "      <td>Tue Jun 16 08:40:49 PDT 2009</td>\n",
       "      <td>NO_QUERY</td>\n",
       "      <td>TheWDBoards</td>\n",
       "      <td>TheWDB.com - Very cool to hear old Walt interv...</td>\n",
       "    </tr>\n",
       "    <tr>\n",
       "      <th>1997</th>\n",
       "      <td>4</td>\n",
       "      <td>2193601991</td>\n",
       "      <td>Tue Jun 16 08:40:49 PDT 2009</td>\n",
       "      <td>NO_QUERY</td>\n",
       "      <td>bpbabe</td>\n",
       "      <td>Are you ready for your MoJo Makeover? Ask me f...</td>\n",
       "    </tr>\n",
       "    <tr>\n",
       "      <th>1998</th>\n",
       "      <td>4</td>\n",
       "      <td>2193602064</td>\n",
       "      <td>Tue Jun 16 08:40:49 PDT 2009</td>\n",
       "      <td>NO_QUERY</td>\n",
       "      <td>tinydiamondz</td>\n",
       "      <td>Happy 38th Birthday to my boo of alll time!!! ...</td>\n",
       "    </tr>\n",
       "    <tr>\n",
       "      <th>1999</th>\n",
       "      <td>4</td>\n",
       "      <td>2193602129</td>\n",
       "      <td>Tue Jun 16 08:40:50 PDT 2009</td>\n",
       "      <td>NO_QUERY</td>\n",
       "      <td>RyanTrevMorris</td>\n",
       "      <td>happy #charitytuesday @theNSPCC @SparksCharity...</td>\n",
       "    </tr>\n",
       "  </tbody>\n",
       "</table>\n",
       "<p>2000 rows × 6 columns</p>\n",
       "</div>"
      ],
      "text/plain": [
       "      target          id                          date     Query  \\\n",
       "0          0  1467810369  Mon Apr 06 22:19:45 PDT 2009  NO_QUERY   \n",
       "1          0  1467810672  Mon Apr 06 22:19:49 PDT 2009  NO_QUERY   \n",
       "2          0  1467810917  Mon Apr 06 22:19:53 PDT 2009  NO_QUERY   \n",
       "3          0  1467811184  Mon Apr 06 22:19:57 PDT 2009  NO_QUERY   \n",
       "4          0  1467811193  Mon Apr 06 22:19:57 PDT 2009  NO_QUERY   \n",
       "...      ...         ...                           ...       ...   \n",
       "1995       4  2193601966  Tue Jun 16 08:40:49 PDT 2009  NO_QUERY   \n",
       "1996       4  2193601969  Tue Jun 16 08:40:49 PDT 2009  NO_QUERY   \n",
       "1997       4  2193601991  Tue Jun 16 08:40:49 PDT 2009  NO_QUERY   \n",
       "1998       4  2193602064  Tue Jun 16 08:40:49 PDT 2009  NO_QUERY   \n",
       "1999       4  2193602129  Tue Jun 16 08:40:50 PDT 2009  NO_QUERY   \n",
       "\n",
       "                 User                                               text  \n",
       "0     _TheSpecialOne_  @switchfoot http://twitpic.com/2y1zl - Awww, t...  \n",
       "1       scotthamilton  is upset that he can't update his Facebook by ...  \n",
       "2            mattycus  @Kenichan I dived many times for the ball. Man...  \n",
       "3             ElleCTF    my whole body feels itchy and like its on fire   \n",
       "4              Karoli  @nationwideclass no, it's not behaving at all....  \n",
       "...               ...                                                ...  \n",
       "1995  AmandaMarie1028  Just woke up. Having no school is the best fee...  \n",
       "1996      TheWDBoards  TheWDB.com - Very cool to hear old Walt interv...  \n",
       "1997           bpbabe  Are you ready for your MoJo Makeover? Ask me f...  \n",
       "1998     tinydiamondz  Happy 38th Birthday to my boo of alll time!!! ...  \n",
       "1999   RyanTrevMorris  happy #charitytuesday @theNSPCC @SparksCharity...  \n",
       "\n",
       "[2000 rows x 6 columns]"
      ]
     },
     "execution_count": 150,
     "metadata": {},
     "output_type": "execute_result"
    }
   ],
   "source": [
    "df.compute()"
   ]
  },
  {
   "cell_type": "code",
   "execution_count": 151,
   "id": "d3839a68",
   "metadata": {},
   "outputs": [
    {
     "data": {
      "text/html": [
       "<div><strong>Dask DataFrame Structure:</strong></div>\n",
       "<div>\n",
       "<style scoped>\n",
       "    .dataframe tbody tr th:only-of-type {\n",
       "        vertical-align: middle;\n",
       "    }\n",
       "\n",
       "    .dataframe tbody tr th {\n",
       "        vertical-align: top;\n",
       "    }\n",
       "\n",
       "    .dataframe thead th {\n",
       "        text-align: right;\n",
       "    }\n",
       "</style>\n",
       "<table border=\"1\" class=\"dataframe\">\n",
       "  <thead>\n",
       "    <tr style=\"text-align: right;\">\n",
       "      <th></th>\n",
       "      <th>target</th>\n",
       "      <th>id</th>\n",
       "      <th>date</th>\n",
       "      <th>Query</th>\n",
       "      <th>User</th>\n",
       "      <th>text</th>\n",
       "    </tr>\n",
       "    <tr>\n",
       "      <th>npartitions=1</th>\n",
       "      <th></th>\n",
       "      <th></th>\n",
       "      <th></th>\n",
       "      <th></th>\n",
       "      <th></th>\n",
       "      <th></th>\n",
       "    </tr>\n",
       "  </thead>\n",
       "  <tbody>\n",
       "    <tr>\n",
       "      <th></th>\n",
       "      <td>int64</td>\n",
       "      <td>int64</td>\n",
       "      <td>object</td>\n",
       "      <td>object</td>\n",
       "      <td>object</td>\n",
       "      <td>object</td>\n",
       "    </tr>\n",
       "    <tr>\n",
       "      <th></th>\n",
       "      <td>...</td>\n",
       "      <td>...</td>\n",
       "      <td>...</td>\n",
       "      <td>...</td>\n",
       "      <td>...</td>\n",
       "      <td>...</td>\n",
       "    </tr>\n",
       "  </tbody>\n",
       "</table>\n",
       "</div>\n",
       "<div>Dask Name: read-csv, 1 tasks</div>"
      ],
      "text/plain": [
       "Dask DataFrame Structure:\n",
       "              target     id    date   Query    User    text\n",
       "npartitions=1                                              \n",
       "               int64  int64  object  object  object  object\n",
       "                 ...    ...     ...     ...     ...     ...\n",
       "Dask Name: read-csv, 1 tasks"
      ]
     },
     "execution_count": 151,
     "metadata": {},
     "output_type": "execute_result"
    }
   ],
   "source": [
    "df"
   ]
  },
  {
   "cell_type": "code",
   "execution_count": 152,
   "id": "75d2fea6",
   "metadata": {},
   "outputs": [
    {
     "data": {
      "text/plain": [
       "2000"
      ]
     },
     "execution_count": 152,
     "metadata": {},
     "output_type": "execute_result"
    }
   ],
   "source": [
    "df.shape[0].compute()"
   ]
  },
  {
   "cell_type": "code",
   "execution_count": 153,
   "id": "3f41436e",
   "metadata": {},
   "outputs": [
    {
     "data": {
      "text/plain": [
       "1995    Just woke up. Having no school is the best fee...\n",
       "1996    TheWDB.com - Very cool to hear old Walt interv...\n",
       "1997    Are you ready for your MoJo Makeover? Ask me f...\n",
       "1998    Happy 38th Birthday to my boo of alll time!!! ...\n",
       "1999    happy #charitytuesday @theNSPCC @SparksCharity...\n",
       "Name: text, dtype: object"
      ]
     },
     "execution_count": 153,
     "metadata": {},
     "output_type": "execute_result"
    }
   ],
   "source": [
    "df['text'].tail()"
   ]
  },
  {
   "cell_type": "code",
   "execution_count": 154,
   "id": "384d55c4",
   "metadata": {},
   "outputs": [],
   "source": [
    "data=df[['text','target']]"
   ]
  },
  {
   "cell_type": "code",
   "execution_count": 155,
   "id": "df3b928f",
   "metadata": {},
   "outputs": [
    {
     "data": {
      "text/plain": [
       "dask.dataframe.core.DataFrame"
      ]
     },
     "execution_count": 155,
     "metadata": {},
     "output_type": "execute_result"
    }
   ],
   "source": [
    "type(data)"
   ]
  },
  {
   "cell_type": "code",
   "execution_count": 156,
   "id": "d2b39332",
   "metadata": {},
   "outputs": [
    {
     "data": {
      "text/html": [
       "<div>\n",
       "<style scoped>\n",
       "    .dataframe tbody tr th:only-of-type {\n",
       "        vertical-align: middle;\n",
       "    }\n",
       "\n",
       "    .dataframe tbody tr th {\n",
       "        vertical-align: top;\n",
       "    }\n",
       "\n",
       "    .dataframe thead th {\n",
       "        text-align: right;\n",
       "    }\n",
       "</style>\n",
       "<table border=\"1\" class=\"dataframe\">\n",
       "  <thead>\n",
       "    <tr style=\"text-align: right;\">\n",
       "      <th></th>\n",
       "      <th>text</th>\n",
       "      <th>target</th>\n",
       "    </tr>\n",
       "  </thead>\n",
       "  <tbody>\n",
       "    <tr>\n",
       "      <th>1995</th>\n",
       "      <td>Just woke up. Having no school is the best fee...</td>\n",
       "      <td>4</td>\n",
       "    </tr>\n",
       "    <tr>\n",
       "      <th>1996</th>\n",
       "      <td>TheWDB.com - Very cool to hear old Walt interv...</td>\n",
       "      <td>4</td>\n",
       "    </tr>\n",
       "    <tr>\n",
       "      <th>1997</th>\n",
       "      <td>Are you ready for your MoJo Makeover? Ask me f...</td>\n",
       "      <td>4</td>\n",
       "    </tr>\n",
       "    <tr>\n",
       "      <th>1998</th>\n",
       "      <td>Happy 38th Birthday to my boo of alll time!!! ...</td>\n",
       "      <td>4</td>\n",
       "    </tr>\n",
       "    <tr>\n",
       "      <th>1999</th>\n",
       "      <td>happy #charitytuesday @theNSPCC @SparksCharity...</td>\n",
       "      <td>4</td>\n",
       "    </tr>\n",
       "  </tbody>\n",
       "</table>\n",
       "</div>"
      ],
      "text/plain": [
       "                                                   text  target\n",
       "1995  Just woke up. Having no school is the best fee...       4\n",
       "1996  TheWDB.com - Very cool to hear old Walt interv...       4\n",
       "1997  Are you ready for your MoJo Makeover? Ask me f...       4\n",
       "1998  Happy 38th Birthday to my boo of alll time!!! ...       4\n",
       "1999  happy #charitytuesday @theNSPCC @SparksCharity...       4"
      ]
     },
     "execution_count": 156,
     "metadata": {},
     "output_type": "execute_result"
    }
   ],
   "source": [
    "data.tail()"
   ]
  },
  {
   "cell_type": "markdown",
   "id": "9b275aba",
   "metadata": {},
   "source": [
    "### Cleaning the text"
   ]
  },
  {
   "cell_type": "code",
   "execution_count": 157,
   "id": "3315dc73",
   "metadata": {},
   "outputs": [
    {
     "data": {
      "text/plain": [
       "1995    just woke up. having no school is the best fee...\n",
       "1996    thewdb.com - very cool to hear old walt interv...\n",
       "1997    are you ready for your mojo makeover? ask me f...\n",
       "1998    happy 38th birthday to my boo of alll time!!! ...\n",
       "1999    happy #charitytuesday @thenspcc @sparkscharity...\n",
       "Name: text, dtype: object"
      ]
     },
     "execution_count": 157,
     "metadata": {},
     "output_type": "execute_result"
    }
   ],
   "source": [
    "import nltk\n",
    "import re\n",
    "# nltk.download('stopwords')\n",
    "from nltk.stem.porter import PorterStemmer\n",
    "from nltk.corpus import stopwords\n",
    "\n",
    "# Making statement in lower case\n",
    "data['text']=data['text'].str.lower()\n",
    "data['text'].tail()"
   ]
  },
  {
   "cell_type": "code",
   "execution_count": 158,
   "id": "abe8fe74",
   "metadata": {},
   "outputs": [],
   "source": [
    "# Removing stopwords from the text\n",
    "all_stopwords  = stopwords.words('english')\n",
    "all_stopwords.remove('not')\n",
    "def cleaning_stopwords(text):\n",
    "    return \" \".join([word for word in str(text).split() if word not in all_stopwords])\n",
    "data['text'] = data['text'].apply(cleaning_stopwords, meta=pd.Series(dtype='str', name='text'))\n",
    "#data.tail()"
   ]
  },
  {
   "cell_type": "code",
   "execution_count": 159,
   "id": "c24b40a4",
   "metadata": {},
   "outputs": [],
   "source": [
    "# cleaning multiple ... characters\n",
    "def cleaning_repeating_char(text):\n",
    "    return re.sub(r'(.)1+', r'1', text)\n",
    "data['text'] = data['text'].apply(cleaning_repeating_char,meta=pd.Series(dtype='str', name='text'))\n",
    "#data.tail()"
   ]
  },
  {
   "cell_type": "code",
   "execution_count": 160,
   "id": "7d75e868",
   "metadata": {},
   "outputs": [],
   "source": [
    "# cleaning url addressess \n",
    "def cleaning_URLs(text):\n",
    "    return re.sub(r'((https?://\\S+)|(www.\\S+))','',text)\n",
    "data['text'] = data['text'].apply(cleaning_URLs,meta=pd.Series(dtype='str', name='text'))\n",
    "#data.tail()"
   ]
  },
  {
   "cell_type": "code",
   "execution_count": 161,
   "id": "fe440da9",
   "metadata": {},
   "outputs": [],
   "source": [
    "# Removing Alpha-numeric character\n",
    "def cleaning_alpha_numeric(data):\n",
    "    return re.sub('[0-9]', '', data)\n",
    "data['text'] = data['text'].apply(cleaning_alpha_numeric,meta=pd.Series(dtype='str', name='text'))\n",
    "#data.tail()"
   ]
  },
  {
   "cell_type": "code",
   "execution_count": 162,
   "id": "d8c172f1",
   "metadata": {},
   "outputs": [],
   "source": [
    "# tokenizing tweet text\n",
    "from nltk.tokenize import RegexpTokenizer\n",
    "tokenizer = RegexpTokenizer(r'\\w+')\n",
    "func = tokenizer.tokenize\n",
    "data['text'] = data['text'].apply(func,meta=pd.Series(dtype='str', name='text') )\n",
    "#data['text'].head()"
   ]
  },
  {
   "cell_type": "code",
   "execution_count": 163,
   "id": "8e851fc7",
   "metadata": {},
   "outputs": [
    {
     "data": {
      "text/plain": [
       "1995              [woke, up, school, best, feeling, ever]\n",
       "1996    [thewdb, com, cool, hear, old, walt, interview...\n",
       "1997                [ready, mojo, makeover, ask, details]\n",
       "1998    [happy, th, birthday, boo, alll, time, tupac, ...\n",
       "1999    [happy, charitytuesday, thenspcc, sparkscharit...\n",
       "Name: text, dtype: object"
      ]
     },
     "execution_count": 163,
     "metadata": {},
     "output_type": "execute_result"
    }
   ],
   "source": [
    "# Applying Stemming\n",
    "import nltk\n",
    "st = nltk.PorterStemmer()\n",
    "def stemming_on_text(token_list):\n",
    "    text = [st.stem(token) for token in token_list]\n",
    "    return token_list\n",
    "data['text']= data['text'].apply(stemming_on_text,meta=pd.Series(dtype='str', name='text'))\n",
    "data['text'].tail()"
   ]
  },
  {
   "cell_type": "code",
   "execution_count": 164,
   "id": "26be76ec",
   "metadata": {},
   "outputs": [
    {
     "data": {
      "text/plain": [
       "'cat'"
      ]
     },
     "execution_count": 164,
     "metadata": {},
     "output_type": "execute_result"
    }
   ],
   "source": [
    "lm = nltk.WordNetLemmatizer()\n",
    "# Use it once first, to \"unlazify\" wordnet\n",
    "lm.lemmatize('cats')"
   ]
  },
  {
   "cell_type": "code",
   "execution_count": 165,
   "id": "abac7d18",
   "metadata": {},
   "outputs": [],
   "source": [
    "import time\n",
    "time.sleep(5)"
   ]
  },
  {
   "cell_type": "code",
   "execution_count": 167,
   "id": "3fe3be73",
   "metadata": {},
   "outputs": [
    {
     "data": {
      "text/plain": [
       "1995                     woke up school best feeling ever\n",
       "1996           thewdb com cool hear old walt interviews â\n",
       "1997                      ready mojo makeover ask details\n",
       "1998    happy th birthday boo alll time tupac amaru sh...\n",
       "1999    happy charitytuesday thenspcc sparkscharity sp...\n",
       "Name: text, dtype: object"
      ]
     },
     "execution_count": 167,
     "metadata": {},
     "output_type": "execute_result"
    }
   ],
   "source": [
    "#Applying Lemmitization\n",
    "def lemmatizer_on_text(token_list):\n",
    "    text = [lm.lemmatize(token) for token in token_list]\n",
    "    return token_list\n",
    "data['text'] = data['text'].apply(lemmatizer_on_text,meta=pd.Series(dtype='str', name='text') )\n",
    "# joining with \" \"\n",
    "data[\"text\"]= data[\"text\"].str.join(\" \")\n",
    "data['text'].tail()"
   ]
  },
  {
   "cell_type": "code",
   "execution_count": 168,
   "id": "39fbca96",
   "metadata": {},
   "outputs": [
    {
     "data": {
      "text/plain": [
       "0    switchfoot awww that s bummer shoulda got davi...\n",
       "1    upset can t update facebook texting it might c...\n",
       "2    kenichan dived many times ball managed save re...\n",
       "3                     whole body feels itchy like fire\n",
       "4    nationwideclass no not behaving all i m mad he...\n",
       "Name: text, dtype: object"
      ]
     },
     "execution_count": 168,
     "metadata": {},
     "output_type": "execute_result"
    }
   ],
   "source": [
    "data['text'].head()"
   ]
  },
  {
   "cell_type": "code",
   "execution_count": 169,
   "id": "b79cc8a2",
   "metadata": {},
   "outputs": [],
   "source": [
    "# Replacing the target value for positive comments to 1.\n",
    "data['target'] = data['target'].replace(4,1)"
   ]
  },
  {
   "cell_type": "markdown",
   "id": "f369675a",
   "metadata": {},
   "source": [
    "### Splitting the dataset into training set and test set "
   ]
  },
  {
   "cell_type": "code",
   "execution_count": 170,
   "id": "a87b54a8",
   "metadata": {},
   "outputs": [],
   "source": [
    "#! pip install dask-ml"
   ]
  },
  {
   "cell_type": "code",
   "execution_count": 171,
   "id": "20eaa497",
   "metadata": {},
   "outputs": [
    {
     "data": {
      "text/plain": [
       "(Delayed('int-d8d7b474-19e1-4806-aa52-83288e4d643d'), 2)"
      ]
     },
     "execution_count": 171,
     "metadata": {},
     "output_type": "execute_result"
    }
   ],
   "source": [
    "data.shape"
   ]
  },
  {
   "cell_type": "code",
   "execution_count": 172,
   "id": "1aefcfbe",
   "metadata": {},
   "outputs": [],
   "source": [
    "X=data.text\n",
    "y=data.target"
   ]
  },
  {
   "cell_type": "code",
   "execution_count": 173,
   "id": "9ca98961",
   "metadata": {},
   "outputs": [
    {
     "data": {
      "text/plain": [
       "(dd.Scalar<size-ag..., dtype=int32>,)"
      ]
     },
     "execution_count": 173,
     "metadata": {},
     "output_type": "execute_result"
    }
   ],
   "source": [
    "X.shape"
   ]
  },
  {
   "cell_type": "code",
   "execution_count": 216,
   "id": "88207efc",
   "metadata": {},
   "outputs": [],
   "source": [
    "from dask_ml.model_selection import train_test_split\n",
    "#from sklearn.model_selection import train_test_split\n",
    "X_train, X_test, y_train, y_test = train_test_split(X, y, test_size = 0.25, random_state = 0,shuffle =False)"
   ]
  },
  {
   "cell_type": "code",
   "execution_count": 217,
   "id": "6291edf8",
   "metadata": {},
   "outputs": [
    {
     "data": {
      "text/plain": [
       "(dd.Scalar<size-ag..., dtype=int32>,)"
      ]
     },
     "execution_count": 217,
     "metadata": {},
     "output_type": "execute_result"
    }
   ],
   "source": [
    "X_train.shape"
   ]
  },
  {
   "cell_type": "code",
   "execution_count": 218,
   "id": "a8c3ad90",
   "metadata": {},
   "outputs": [
    {
     "data": {
      "text/plain": [
       "0     switchfoot awww that s bummer shoulda got davi...\n",
       "3                      whole body feels itchy like fire\n",
       "5                               kwesidei not whole crew\n",
       "6                                              need hug\n",
       "7     loltrish hey long time see yes rains bit only ...\n",
       "8                                        tatiana_k nope\n",
       "10                      spring break plain city snowing\n",
       "12    caregiving bear watch it thought ua loss embar...\n",
       "13         octolin counts idk either never talk anymore\n",
       "14    smarrison would ve first gun not really though...\n",
       "Name: text, dtype: object"
      ]
     },
     "execution_count": 218,
     "metadata": {},
     "output_type": "execute_result"
    }
   ],
   "source": [
    "X_train.compute()[:10]"
   ]
  },
  {
   "cell_type": "code",
   "execution_count": 220,
   "id": "de23dc4c",
   "metadata": {},
   "outputs": [
    {
     "data": {
      "text/plain": [
       "str"
      ]
     },
     "execution_count": 220,
     "metadata": {},
     "output_type": "execute_result"
    }
   ],
   "source": [
    "type(X_train.compute()[0])"
   ]
  },
  {
   "cell_type": "code",
   "execution_count": 207,
   "id": "2756d3b7",
   "metadata": {},
   "outputs": [
    {
     "data": {
      "text/plain": [
       "(dd.Scalar<size-ag..., dtype=int32>,)"
      ]
     },
     "execution_count": 207,
     "metadata": {},
     "output_type": "execute_result"
    }
   ],
   "source": [
    "y_train.shape"
   ]
  },
  {
   "cell_type": "markdown",
   "id": "ce27a1f0",
   "metadata": {},
   "source": [
    "### Model preparation "
   ]
  },
  {
   "cell_type": "code",
   "execution_count": 208,
   "id": "c6c35a51",
   "metadata": {},
   "outputs": [],
   "source": [
    "from dask_ml.feature_extraction.text import HashingVectorizer\n",
    "vec = HashingVectorizer(analyzer= lambda x: x,n_features =1500)"
   ]
  },
  {
   "cell_type": "code",
   "execution_count": 209,
   "id": "db4b4a60",
   "metadata": {},
   "outputs": [
    {
     "data": {
      "text/html": [
       "<style>#sk-container-id-5 {color: black;background-color: white;}#sk-container-id-5 pre{padding: 0;}#sk-container-id-5 div.sk-toggleable {background-color: white;}#sk-container-id-5 label.sk-toggleable__label {cursor: pointer;display: block;width: 100%;margin-bottom: 0;padding: 0.3em;box-sizing: border-box;text-align: center;}#sk-container-id-5 label.sk-toggleable__label-arrow:before {content: \"▸\";float: left;margin-right: 0.25em;color: #696969;}#sk-container-id-5 label.sk-toggleable__label-arrow:hover:before {color: black;}#sk-container-id-5 div.sk-estimator:hover label.sk-toggleable__label-arrow:before {color: black;}#sk-container-id-5 div.sk-toggleable__content {max-height: 0;max-width: 0;overflow: hidden;text-align: left;background-color: #f0f8ff;}#sk-container-id-5 div.sk-toggleable__content pre {margin: 0.2em;color: black;border-radius: 0.25em;background-color: #f0f8ff;}#sk-container-id-5 input.sk-toggleable__control:checked~div.sk-toggleable__content {max-height: 200px;max-width: 100%;overflow: auto;}#sk-container-id-5 input.sk-toggleable__control:checked~label.sk-toggleable__label-arrow:before {content: \"▾\";}#sk-container-id-5 div.sk-estimator input.sk-toggleable__control:checked~label.sk-toggleable__label {background-color: #d4ebff;}#sk-container-id-5 div.sk-label input.sk-toggleable__control:checked~label.sk-toggleable__label {background-color: #d4ebff;}#sk-container-id-5 input.sk-hidden--visually {border: 0;clip: rect(1px 1px 1px 1px);clip: rect(1px, 1px, 1px, 1px);height: 1px;margin: -1px;overflow: hidden;padding: 0;position: absolute;width: 1px;}#sk-container-id-5 div.sk-estimator {font-family: monospace;background-color: #f0f8ff;border: 1px dotted black;border-radius: 0.25em;box-sizing: border-box;margin-bottom: 0.5em;}#sk-container-id-5 div.sk-estimator:hover {background-color: #d4ebff;}#sk-container-id-5 div.sk-parallel-item::after {content: \"\";width: 100%;border-bottom: 1px solid gray;flex-grow: 1;}#sk-container-id-5 div.sk-label:hover label.sk-toggleable__label {background-color: #d4ebff;}#sk-container-id-5 div.sk-serial::before {content: \"\";position: absolute;border-left: 1px solid gray;box-sizing: border-box;top: 0;bottom: 0;left: 50%;z-index: 0;}#sk-container-id-5 div.sk-serial {display: flex;flex-direction: column;align-items: center;background-color: white;padding-right: 0.2em;padding-left: 0.2em;position: relative;}#sk-container-id-5 div.sk-item {position: relative;z-index: 1;}#sk-container-id-5 div.sk-parallel {display: flex;align-items: stretch;justify-content: center;background-color: white;position: relative;}#sk-container-id-5 div.sk-item::before, #sk-container-id-5 div.sk-parallel-item::before {content: \"\";position: absolute;border-left: 1px solid gray;box-sizing: border-box;top: 0;bottom: 0;left: 50%;z-index: -1;}#sk-container-id-5 div.sk-parallel-item {display: flex;flex-direction: column;z-index: 1;position: relative;background-color: white;}#sk-container-id-5 div.sk-parallel-item:first-child::after {align-self: flex-end;width: 50%;}#sk-container-id-5 div.sk-parallel-item:last-child::after {align-self: flex-start;width: 50%;}#sk-container-id-5 div.sk-parallel-item:only-child::after {width: 0;}#sk-container-id-5 div.sk-dashed-wrapped {border: 1px dashed gray;margin: 0 0.4em 0.5em 0.4em;box-sizing: border-box;padding-bottom: 0.4em;background-color: white;}#sk-container-id-5 div.sk-label label {font-family: monospace;font-weight: bold;display: inline-block;line-height: 1.2em;}#sk-container-id-5 div.sk-label-container {text-align: center;}#sk-container-id-5 div.sk-container {/* jupyter's `normalize.less` sets `[hidden] { display: none; }` but bootstrap.min.css set `[hidden] { display: none !important; }` so we also need the `!important` here to be able to override the default hidden behavior on the sphinx rendered scikit-learn.org. See: https://github.com/scikit-learn/scikit-learn/issues/21755 */display: inline-block !important;position: relative;}#sk-container-id-5 div.sk-text-repr-fallback {display: none;}</style><div id=\"sk-container-id-5\" class=\"sk-top-container\"><div class=\"sk-text-repr-fallback\"><pre>HashingVectorizer(analyzer=&lt;function &lt;lambda&gt; at 0x00000129C73F4790&gt;,\n",
       "                  n_features=1500)</pre><b>In a Jupyter environment, please rerun this cell to show the HTML representation or trust the notebook. <br />On GitHub, the HTML representation is unable to render, please try loading this page with nbviewer.org.</b></div><div class=\"sk-container\" hidden><div class=\"sk-item\"><div class=\"sk-estimator sk-toggleable\"><input class=\"sk-toggleable__control sk-hidden--visually\" id=\"sk-estimator-id-5\" type=\"checkbox\" checked><label for=\"sk-estimator-id-5\" class=\"sk-toggleable__label sk-toggleable__label-arrow\">HashingVectorizer</label><div class=\"sk-toggleable__content\"><pre>HashingVectorizer(analyzer=&lt;function &lt;lambda&gt; at 0x00000129C73F4790&gt;,\n",
       "                  n_features=1500)</pre></div></div></div></div></div>"
      ],
      "text/plain": [
       "HashingVectorizer(analyzer=<function <lambda> at 0x00000129C73F4790>,\n",
       "                  n_features=1500)"
      ]
     },
     "execution_count": 209,
     "metadata": {},
     "output_type": "execute_result"
    }
   ],
   "source": [
    "vec"
   ]
  },
  {
   "cell_type": "code",
   "execution_count": 211,
   "id": "5c6a0982",
   "metadata": {},
   "outputs": [],
   "source": [
    "X_train = vec.fit_transform(X_train)\n",
    "X_test  = vec.transform(X_test)"
   ]
  },
  {
   "cell_type": "code",
   "execution_count": 181,
   "id": "904622e1",
   "metadata": {},
   "outputs": [
    {
     "data": {
      "text/plain": [
       "0    0\n",
       "1    1\n",
       "Name: target, dtype: int64"
      ]
     },
     "execution_count": 181,
     "metadata": {},
     "output_type": "execute_result"
    }
   ],
   "source": [
    "data.target.unique().compute()"
   ]
  },
  {
   "cell_type": "code",
   "execution_count": 182,
   "id": "710b3074",
   "metadata": {},
   "outputs": [
    {
     "data": {
      "text/plain": [
       "(nan, 1500)"
      ]
     },
     "execution_count": 182,
     "metadata": {},
     "output_type": "execute_result"
    }
   ],
   "source": [
    "X_train.shape"
   ]
  },
  {
   "cell_type": "code",
   "execution_count": 183,
   "id": "fec93abd",
   "metadata": {},
   "outputs": [
    {
     "data": {
      "text/plain": [
       "<10x1500 sparse matrix of type '<class 'numpy.float64'>'\n",
       "\twith 159 stored elements in Compressed Sparse Row format>"
      ]
     },
     "execution_count": 183,
     "metadata": {},
     "output_type": "execute_result"
    }
   ],
   "source": [
    "X_train.compute()[:10]"
   ]
  },
  {
   "cell_type": "code",
   "execution_count": 184,
   "id": "fa888048",
   "metadata": {},
   "outputs": [
    {
     "data": {
      "text/plain": [
       "0    0\n",
       "3    0\n",
       "5    0\n",
       "6    0\n",
       "7    0\n",
       "Name: target, dtype: int64"
      ]
     },
     "execution_count": 184,
     "metadata": {},
     "output_type": "execute_result"
    }
   ],
   "source": [
    "y_train.head(5)"
   ]
  },
  {
   "cell_type": "code",
   "execution_count": 185,
   "id": "65b92ae6",
   "metadata": {},
   "outputs": [
    {
     "data": {
      "text/plain": [
       "1995    1\n",
       "1996    1\n",
       "1997    1\n",
       "1998    1\n",
       "1999    1\n",
       "Name: target, dtype: int64"
      ]
     },
     "execution_count": 185,
     "metadata": {},
     "output_type": "execute_result"
    }
   ],
   "source": [
    "y_train.tail(5)"
   ]
  },
  {
   "cell_type": "code",
   "execution_count": 186,
   "id": "62d98f13",
   "metadata": {},
   "outputs": [
    {
     "data": {
      "text/plain": [
       "dask.array.core.Array"
      ]
     },
     "execution_count": 186,
     "metadata": {},
     "output_type": "execute_result"
    }
   ],
   "source": [
    "type(X_train)"
   ]
  },
  {
   "cell_type": "code",
   "execution_count": 187,
   "id": "685992ab",
   "metadata": {},
   "outputs": [
    {
     "data": {
      "text/plain": [
       "dask.dataframe.core.Series"
      ]
     },
     "execution_count": 187,
     "metadata": {},
     "output_type": "execute_result"
    }
   ],
   "source": [
    "type(y_train)"
   ]
  },
  {
   "cell_type": "markdown",
   "id": "95117c22",
   "metadata": {},
   "source": [
    "### Training the Bernoulli Naive Bayes on Training set"
   ]
  },
  {
   "cell_type": "code",
   "execution_count": 188,
   "id": "c0972e79",
   "metadata": {},
   "outputs": [],
   "source": [
    "from mlxtend.preprocessing import DenseTransformer"
   ]
  },
  {
   "cell_type": "code",
   "execution_count": 189,
   "id": "1ddb6b93",
   "metadata": {},
   "outputs": [],
   "source": [
    "dt = DenseTransformer()\n",
    "X_dense = dt.fit_transform(X= X_train)"
   ]
  },
  {
   "cell_type": "code",
   "execution_count": 190,
   "id": "88a5d062",
   "metadata": {},
   "outputs": [
    {
     "data": {
      "text/plain": [
       "(nan, 1500)"
      ]
     },
     "execution_count": 190,
     "metadata": {},
     "output_type": "execute_result"
    }
   ],
   "source": [
    "X_dense.shape"
   ]
  },
  {
   "cell_type": "code",
   "execution_count": 191,
   "id": "cb7f9612",
   "metadata": {},
   "outputs": [
    {
     "data": {
      "text/plain": [
       "<1x1500 sparse matrix of type '<class 'numpy.float64'>'\n",
       "\twith 20 stored elements in Compressed Sparse Row format>"
      ]
     },
     "execution_count": 191,
     "metadata": {},
     "output_type": "execute_result"
    }
   ],
   "source": [
    "X_dense.compute()[0]"
   ]
  },
  {
   "cell_type": "code",
   "execution_count": 192,
   "id": "1f06ce7b",
   "metadata": {},
   "outputs": [
    {
     "data": {
      "text/html": [
       "<table>\n",
       "    <tr>\n",
       "        <td>\n",
       "            <table>\n",
       "                <thead>\n",
       "                    <tr>\n",
       "                        <td> </td>\n",
       "                        <th> Array </th>\n",
       "                        <th> Chunk </th>\n",
       "                    </tr>\n",
       "                </thead>\n",
       "                <tbody>\n",
       "                    \n",
       "                    <tr>\n",
       "                        <th> Shape </th>\n",
       "                        <td> (nan, 1500) </td>\n",
       "                        <td> (nan, 1500) </td>\n",
       "                    </tr>\n",
       "                    <tr>\n",
       "                        <th> Count </th>\n",
       "                        <td> 40 Tasks </td>\n",
       "                        <td> 1 Chunks </td>\n",
       "                    </tr>\n",
       "                    <tr>\n",
       "                    <th> Type </th>\n",
       "                    <td> float64 </td>\n",
       "                    <td> scipy.sparse.csr.csr_matrix </td>\n",
       "                    </tr>\n",
       "                </tbody>\n",
       "            </table>\n",
       "        </td>\n",
       "        <td>\n",
       "        \n",
       "        </td>\n",
       "    </tr>\n",
       "</table>"
      ],
      "text/plain": [
       "dask.array<copy, shape=(nan, 1500), dtype=float64, chunksize=(nan, 1500), chunktype=scipy.csr_matrix>"
      ]
     },
     "execution_count": 192,
     "metadata": {},
     "output_type": "execute_result"
    }
   ],
   "source": [
    "X_dense"
   ]
  },
  {
   "cell_type": "code",
   "execution_count": 193,
   "id": "857ce4bd",
   "metadata": {},
   "outputs": [],
   "source": [
    "#X_dense.compute()[:2]"
   ]
  },
  {
   "cell_type": "code",
   "execution_count": 194,
   "id": "6a9e4a8f",
   "metadata": {},
   "outputs": [
    {
     "name": "stdout",
     "output_type": "stream",
     "text": [
      "[########################################] | 100% Completed |  0.6s\n"
     ]
    }
   ],
   "source": [
    "from sklearn.naive_bayes import BernoulliNB\n",
    "from dask.diagnostics import ProgressBar\n",
    "from dask_ml.wrappers import Incremental\n",
    "\n",
    "classifier = BernoulliNB()\n",
    "parallel_nb = Incremental(classifier)\n",
    "with ProgressBar():\n",
    "    parallel_nb.fit(X_dense, y_train, classes=[0,1])"
   ]
  },
  {
   "cell_type": "markdown",
   "id": "64e9da15",
   "metadata": {},
   "source": [
    "### Predicting the test result"
   ]
  },
  {
   "cell_type": "code",
   "execution_count": 195,
   "id": "ae9e906b",
   "metadata": {},
   "outputs": [
    {
     "data": {
      "text/plain": [
       "1       0\n",
       "2       0\n",
       "4       0\n",
       "9       0\n",
       "11      0\n",
       "       ..\n",
       "1982    1\n",
       "1985    1\n",
       "1989    1\n",
       "1991    1\n",
       "1993    1\n",
       "Name: target, Length: 516, dtype: int64"
      ]
     },
     "execution_count": 195,
     "metadata": {},
     "output_type": "execute_result"
    }
   ],
   "source": [
    "y_test.compute()"
   ]
  },
  {
   "cell_type": "code",
   "execution_count": 196,
   "id": "922bbc20",
   "metadata": {},
   "outputs": [
    {
     "data": {
      "text/html": [
       "<table>\n",
       "    <tr>\n",
       "        <td>\n",
       "            <table>\n",
       "                <thead>\n",
       "                    <tr>\n",
       "                        <td> </td>\n",
       "                        <th> Array </th>\n",
       "                        <th> Chunk </th>\n",
       "                    </tr>\n",
       "                </thead>\n",
       "                <tbody>\n",
       "                    \n",
       "                    <tr>\n",
       "                        <th> Bytes </th>\n",
       "                        <td> unknown </td>\n",
       "                        <td> unknown </td>\n",
       "                    </tr>\n",
       "                    \n",
       "                    <tr>\n",
       "                        <th> Shape </th>\n",
       "                        <td> (nan,) </td>\n",
       "                        <td> (nan,) </td>\n",
       "                    </tr>\n",
       "                    <tr>\n",
       "                        <th> Count </th>\n",
       "                        <td> 34 Tasks </td>\n",
       "                        <td> 1 Chunks </td>\n",
       "                    </tr>\n",
       "                    <tr>\n",
       "                    <th> Type </th>\n",
       "                    <td> int32 </td>\n",
       "                    <td> numpy.ndarray </td>\n",
       "                    </tr>\n",
       "                </tbody>\n",
       "            </table>\n",
       "        </td>\n",
       "        <td>\n",
       "        \n",
       "        </td>\n",
       "    </tr>\n",
       "</table>"
      ],
      "text/plain": [
       "dask.array<_predict, shape=(nan,), dtype=int32, chunksize=(nan,), chunktype=numpy.ndarray>"
      ]
     },
     "execution_count": 196,
     "metadata": {},
     "output_type": "execute_result"
    }
   ],
   "source": [
    "y_pred"
   ]
  },
  {
   "cell_type": "code",
   "execution_count": 197,
   "id": "39627ac4",
   "metadata": {},
   "outputs": [],
   "source": [
    "y_pred = parallel_nb.predict(X_test)\n",
    "#print(np.concatenate((y_pred.reshape(len(y_pred),1), y_test.reshape(len(y_test),1)),1))"
   ]
  },
  {
   "cell_type": "code",
   "execution_count": 198,
   "id": "24964f1a",
   "metadata": {},
   "outputs": [
    {
     "data": {
      "text/plain": [
       "array([1, 1, 0, 1, 1, 1, 1, 1, 1, 0, 1, 1, 1, 1, 0, 0, 1, 1, 1, 1, 1, 1,\n",
       "       0, 1, 1, 1, 1, 1, 1, 0, 1, 1, 0, 1, 0, 1, 1, 1, 1, 1, 1, 1, 1, 1,\n",
       "       0, 1, 1, 1, 1, 1, 1, 1, 1, 0, 1, 1, 0, 1, 0, 1, 1, 0, 1, 0, 0, 1,\n",
       "       0, 1, 1, 0, 1, 1, 1, 0, 1, 0, 0, 1, 0, 1, 1, 1, 1, 1, 1, 1, 1, 1,\n",
       "       0, 0, 0, 1, 0, 1, 1, 0, 1, 1, 1, 1, 1, 1, 1, 1, 1, 0, 1, 0, 1, 1,\n",
       "       1, 0, 1, 1, 1, 1, 1, 1, 0, 1, 1, 0, 0, 1, 1, 1, 0, 1, 1, 1, 1, 0,\n",
       "       0, 0, 1, 1, 1, 1, 1, 0, 1, 1, 1, 1, 0, 0, 0, 0, 1, 0, 0, 1, 1, 0,\n",
       "       0, 1, 1, 1, 1, 1, 0, 0, 1, 1, 0, 0, 1, 1, 0, 1, 1, 1, 0, 0, 0, 1,\n",
       "       0, 1, 0, 1, 1, 1, 1, 0, 1, 1, 1, 0, 0, 1, 1, 0, 1, 1, 1, 0, 1, 1,\n",
       "       0, 0, 1, 1, 1, 0, 1, 1, 1, 1, 1, 0, 0, 0, 1, 1, 1, 0, 1, 0, 1, 1,\n",
       "       1, 1, 1, 1, 1, 1, 1, 1, 1, 0, 0, 1, 1, 0, 0, 1, 1, 0, 1, 0, 0, 1,\n",
       "       1, 1, 0, 0, 1, 1, 0, 1, 1, 1, 1, 0, 1, 1, 1, 1, 1, 1, 1, 1, 1, 1,\n",
       "       1, 0, 0, 0, 1, 0, 1, 1, 1, 1, 1, 0, 1, 1, 0, 1, 0, 1, 1, 1, 1, 1,\n",
       "       1, 1, 1, 1, 1, 1, 1, 1, 1, 1, 0, 0, 1, 1, 1, 1, 1, 1, 0, 0, 1, 1,\n",
       "       1, 1, 1, 1, 1, 0, 1, 1, 0, 1, 0, 1, 0, 1, 0, 1, 1, 0, 1, 1, 1, 0,\n",
       "       0, 1, 0, 0, 0, 1, 1, 1, 1, 1, 1, 0, 1, 1, 0, 0, 0, 0, 0, 1, 1, 0,\n",
       "       1, 1, 1, 1, 0, 1, 1, 0, 1, 1, 1, 1, 1, 1, 1, 1, 1, 1, 1, 0, 0, 1,\n",
       "       1, 1, 1, 0, 0, 0, 0, 1, 1, 1, 1, 1, 1, 0, 1, 1, 0, 0, 0, 1, 1, 0,\n",
       "       0, 1, 1, 1, 0, 1, 1, 0, 1, 1, 0, 1, 1, 1, 0, 0, 1, 1, 1, 1, 0, 1,\n",
       "       1, 1, 0, 1, 1, 0, 1, 1, 1, 1, 1, 1, 1, 0, 1, 1, 1, 0, 1, 0, 1, 1,\n",
       "       1, 1, 1, 1, 1, 1, 1, 1, 1, 0, 1, 1, 1, 1, 1, 1, 1, 1, 1, 1, 0, 1,\n",
       "       1, 1, 1, 1, 0, 1, 1, 0, 1, 0, 1, 1, 0, 1, 0, 1, 1, 1, 1, 1, 1, 1,\n",
       "       1, 0, 0, 1, 0, 0, 1, 0, 1, 0, 0, 1, 1, 0, 0, 1, 1, 1, 1, 0, 1, 0,\n",
       "       1, 1, 1, 1, 0, 0, 1, 1, 1, 1])"
      ]
     },
     "execution_count": 198,
     "metadata": {},
     "output_type": "execute_result"
    }
   ],
   "source": [
    "y_pred.compute()"
   ]
  },
  {
   "cell_type": "markdown",
   "id": "b8e25d99",
   "metadata": {},
   "source": [
    "### Making the confusion Matrix"
   ]
  },
  {
   "cell_type": "code",
   "execution_count": 199,
   "id": "33489ec5",
   "metadata": {},
   "outputs": [
    {
     "name": "stdout",
     "output_type": "stream",
     "text": [
      "[[ 83 188]\n",
      " [ 70 175]]\n"
     ]
    },
    {
     "data": {
      "text/plain": [
       "0.5"
      ]
     },
     "execution_count": 199,
     "metadata": {},
     "output_type": "execute_result"
    }
   ],
   "source": [
    "from sklearn.metrics import confusion_matrix\n",
    "from dask_ml.metrics import accuracy_score\n",
    "cm = confusion_matrix(y_test.compute(), y_pred.compute())\n",
    "print(cm)\n",
    "accuracy_score(y_test, y_pred)"
   ]
  },
  {
   "cell_type": "markdown",
   "id": "4e78a0ae",
   "metadata": {},
   "source": [
    "### Precision"
   ]
  },
  {
   "cell_type": "code",
   "execution_count": 200,
   "id": "11eea5ca",
   "metadata": {},
   "outputs": [
    {
     "name": "stdout",
     "output_type": "stream",
     "text": [
      "0.4820936639118457\n"
     ]
    }
   ],
   "source": [
    "from sklearn.metrics import precision_score\n",
    "precision = precision_score(y_test.compute(), y_pred.compute(),pos_label = 1 )\n",
    "print(precision)"
   ]
  },
  {
   "cell_type": "markdown",
   "id": "68968abf",
   "metadata": {},
   "source": [
    "### Recall"
   ]
  },
  {
   "cell_type": "code",
   "execution_count": 201,
   "id": "1fad7a25",
   "metadata": {},
   "outputs": [
    {
     "name": "stdout",
     "output_type": "stream",
     "text": [
      "0.7142857142857143\n"
     ]
    }
   ],
   "source": [
    "from sklearn.metrics import recall_score\n",
    "recall = recall_score(y_test.compute(),y_pred.compute(), average='binary', sample_weight=None, zero_division='warn',pos_label = 1)\n",
    "print(recall)"
   ]
  },
  {
   "cell_type": "markdown",
   "id": "aa91b69c",
   "metadata": {},
   "source": [
    "### F1 Score"
   ]
  },
  {
   "cell_type": "code",
   "execution_count": 202,
   "id": "8bf41b19",
   "metadata": {},
   "outputs": [
    {
     "name": "stdout",
     "output_type": "stream",
     "text": [
      "0.575657894736842\n"
     ]
    }
   ],
   "source": [
    "from sklearn.metrics import f1_score\n",
    "f1_score = f1_score(y_test.compute(), y_pred.compute(), average='binary', zero_division='warn', pos_label =1)\n",
    "print(f1_score)"
   ]
  },
  {
   "cell_type": "markdown",
   "id": "7c8f8ec7",
   "metadata": {},
   "source": [
    "### Predicting if single review is positive or Negative"
   ]
  },
  {
   "cell_type": "code",
   "execution_count": 221,
   "id": "40491952",
   "metadata": {},
   "outputs": [],
   "source": [
    "new_review = [\"0\",\"2251250681\",\"Sat Jun 20 02:54:45 PDT 2009\",\"NO_QUERY\",\"rosaliehalerpg\",\"@EmmettCullenRPG Miss you, love. We never see each other anymore /frowns/ The world keeps getting in the way \"]\n",
    "new_review = new_review[-1].lower()\n",
    "new_review = new_review.split()\n",
    "ps = PorterStemmer()\n",
    "all_stopwords  = stopwords.words('english')\n",
    "all_stopwords.remove('not')\n",
    "new_review = [ps.stem(word) for word in new_review if  word not in set(all_stopwords)]\n",
    "new_review = [lemmatizer_on_text(word) for word in new_review]\n",
    "new_review  = ' '.join([str(elem) for elem in new_review])\n",
    "# func : tokenize.tokenize\n",
    "new_review = tokenizer.tokenize(new_review)\n",
    "new_corpus = ' '.join(new_review)"
   ]
  },
  {
   "cell_type": "code",
   "execution_count": 222,
   "id": "baedaca2",
   "metadata": {},
   "outputs": [
    {
     "data": {
      "text/plain": [
       "'emmettcullenrpg miss you love never see anymor frowns world keep get way'"
      ]
     },
     "execution_count": 222,
     "metadata": {},
     "output_type": "execute_result"
    }
   ],
   "source": [
    "new_corpus"
   ]
  },
  {
   "cell_type": "code",
   "execution_count": 224,
   "id": "d2f10e24",
   "metadata": {},
   "outputs": [],
   "source": [
    "X_new = vec.transform([new_corpus])"
   ]
  },
  {
   "cell_type": "code",
   "execution_count": 225,
   "id": "125b471a",
   "metadata": {},
   "outputs": [
    {
     "data": {
      "text/plain": [
       "(1, 1500)"
      ]
     },
     "execution_count": 225,
     "metadata": {},
     "output_type": "execute_result"
    }
   ],
   "source": [
    "X_new.shape"
   ]
  },
  {
   "cell_type": "code",
   "execution_count": 227,
   "id": "02f2565c",
   "metadata": {},
   "outputs": [
    {
     "name": "stdout",
     "output_type": "stream",
     "text": [
      "[1]\n"
     ]
    }
   ],
   "source": [
    "new_y_pred = parallel_nb.predict(X_new)\n",
    "print(new_y_pred)"
   ]
  }
 ],
 "metadata": {
  "kernelspec": {
   "display_name": "Python 3 (ipykernel)",
   "language": "python",
   "name": "python3"
  },
  "language_info": {
   "codemirror_mode": {
    "name": "ipython",
    "version": 3
   },
   "file_extension": ".py",
   "mimetype": "text/x-python",
   "name": "python",
   "nbconvert_exporter": "python",
   "pygments_lexer": "ipython3",
   "version": "3.9.12"
  }
 },
 "nbformat": 4,
 "nbformat_minor": 5
}
